{
 "cells": [
  {
   "cell_type": "code",
   "execution_count": 1,
   "id": "17301836-3ce3-4c8a-adef-d8de63a13127",
   "metadata": {},
   "outputs": [
    {
     "name": "stdout",
     "output_type": "stream",
     "text": [
      "/home/common/komarov.na/my_scripts\n"
     ]
    }
   ],
   "source": [
    "import os\n",
    "print(os.getcwd())"
   ]
  },
  {
   "cell_type": "code",
   "execution_count": 2,
   "id": "3633c545-d93b-41bb-951a-a403fcbaee87",
   "metadata": {},
   "outputs": [],
   "source": [
    "import pandas as pd"
   ]
  },
  {
   "cell_type": "code",
   "execution_count": 3,
   "id": "7f405477-3db8-4fe0-8c4b-8dbe40f2db5c",
   "metadata": {
    "scrolled": true
   },
   "outputs": [
    {
     "name": "stdout",
     "output_type": "stream",
     "text": [
      "(870, 11)\n"
     ]
    },
    {
     "data": {
      "text/html": [
       "<div>\n",
       "<style scoped>\n",
       "    .dataframe tbody tr th:only-of-type {\n",
       "        vertical-align: middle;\n",
       "    }\n",
       "\n",
       "    .dataframe tbody tr th {\n",
       "        vertical-align: top;\n",
       "    }\n",
       "\n",
       "    .dataframe thead th {\n",
       "        text-align: right;\n",
       "    }\n",
       "</style>\n",
       "<table border=\"1\" class=\"dataframe\">\n",
       "  <thead>\n",
       "    <tr style=\"text-align: right;\">\n",
       "      <th></th>\n",
       "      <th>QUERY</th>\n",
       "      <th>SCORE</th>\n",
       "      <th>START</th>\n",
       "      <th>END</th>\n",
       "      <th>QSIZE</th>\n",
       "      <th>IDENTITY</th>\n",
       "      <th>CHROM</th>\n",
       "      <th>STRAND</th>\n",
       "      <th>START.1</th>\n",
       "      <th>END.1</th>\n",
       "      <th>SPAN</th>\n",
       "    </tr>\n",
       "  </thead>\n",
       "  <tbody>\n",
       "    <tr>\n",
       "      <th>0</th>\n",
       "      <td>1_R1</td>\n",
       "      <td>66</td>\n",
       "      <td>1</td>\n",
       "      <td>66</td>\n",
       "      <td>66</td>\n",
       "      <td>100.0%</td>\n",
       "      <td>chr1_KV880763v1_alt</td>\n",
       "      <td>-</td>\n",
       "      <td>290696</td>\n",
       "      <td>290761</td>\n",
       "      <td>66</td>\n",
       "    </tr>\n",
       "    <tr>\n",
       "      <th>1</th>\n",
       "      <td>1_R1</td>\n",
       "      <td>66</td>\n",
       "      <td>1</td>\n",
       "      <td>66</td>\n",
       "      <td>66</td>\n",
       "      <td>100.0%</td>\n",
       "      <td>chr1</td>\n",
       "      <td>-</td>\n",
       "      <td>108278702</td>\n",
       "      <td>108278767</td>\n",
       "      <td>66</td>\n",
       "    </tr>\n",
       "    <tr>\n",
       "      <th>2</th>\n",
       "      <td>1_R1</td>\n",
       "      <td>66</td>\n",
       "      <td>1</td>\n",
       "      <td>66</td>\n",
       "      <td>66</td>\n",
       "      <td>100.0%</td>\n",
       "      <td>chr1_KV880763v1_alt</td>\n",
       "      <td>+</td>\n",
       "      <td>427459</td>\n",
       "      <td>427524</td>\n",
       "      <td>66</td>\n",
       "    </tr>\n",
       "    <tr>\n",
       "      <th>3</th>\n",
       "      <td>1_R1</td>\n",
       "      <td>66</td>\n",
       "      <td>1</td>\n",
       "      <td>66</td>\n",
       "      <td>66</td>\n",
       "      <td>100.0%</td>\n",
       "      <td>chr1</td>\n",
       "      <td>+</td>\n",
       "      <td>108415614</td>\n",
       "      <td>108415679</td>\n",
       "      <td>66</td>\n",
       "    </tr>\n",
       "    <tr>\n",
       "      <th>4</th>\n",
       "      <td>1_R1</td>\n",
       "      <td>25</td>\n",
       "      <td>25</td>\n",
       "      <td>52</td>\n",
       "      <td>66</td>\n",
       "      <td>96.5%</td>\n",
       "      <td>chr3</td>\n",
       "      <td>+</td>\n",
       "      <td>30191242</td>\n",
       "      <td>30191272</td>\n",
       "      <td>31</td>\n",
       "    </tr>\n",
       "  </tbody>\n",
       "</table>\n",
       "</div>"
      ],
      "text/plain": [
       "  QUERY  SCORE  START  END  QSIZE IDENTITY                CHROM STRAND  \\\n",
       "0  1_R1     66      1   66     66   100.0%  chr1_KV880763v1_alt      -   \n",
       "1  1_R1     66      1   66     66   100.0%                 chr1      -   \n",
       "2  1_R1     66      1   66     66   100.0%  chr1_KV880763v1_alt      +   \n",
       "3  1_R1     66      1   66     66   100.0%                 chr1      +   \n",
       "4  1_R1     25     25   52     66    96.5%                 chr3      +   \n",
       "\n",
       "     START.1      END.1  SPAN  \n",
       "0     290696     290761    66  \n",
       "1  108278702  108278767    66  \n",
       "2     427459     427524    66  \n",
       "3  108415614  108415679    66  \n",
       "4   30191242   30191272    31  "
      ]
     },
     "execution_count": 3,
     "metadata": {},
     "output_type": "execute_result"
    }
   ],
   "source": [
    "df1 = pd.read_table('check_flanks_R1.txt', sep='\\t')\n",
    "df1 = df1.drop(['Unnamed: 0', 'ACTIONS'], axis=1, )\n",
    "print(df1.shape)\n",
    "df1.head()"
   ]
  },
  {
   "cell_type": "code",
   "execution_count": 4,
   "id": "271f05cf-aaf7-47b3-b78d-87f27dc6401c",
   "metadata": {},
   "outputs": [
    {
     "name": "stdout",
     "output_type": "stream",
     "text": [
      "(1030, 11)\n"
     ]
    },
    {
     "data": {
      "text/html": [
       "<div>\n",
       "<style scoped>\n",
       "    .dataframe tbody tr th:only-of-type {\n",
       "        vertical-align: middle;\n",
       "    }\n",
       "\n",
       "    .dataframe tbody tr th {\n",
       "        vertical-align: top;\n",
       "    }\n",
       "\n",
       "    .dataframe thead th {\n",
       "        text-align: right;\n",
       "    }\n",
       "</style>\n",
       "<table border=\"1\" class=\"dataframe\">\n",
       "  <thead>\n",
       "    <tr style=\"text-align: right;\">\n",
       "      <th></th>\n",
       "      <th>QUERY</th>\n",
       "      <th>SCORE</th>\n",
       "      <th>START</th>\n",
       "      <th>END</th>\n",
       "      <th>QSIZE</th>\n",
       "      <th>IDENTITY</th>\n",
       "      <th>CHROM</th>\n",
       "      <th>STRAND</th>\n",
       "      <th>START.1</th>\n",
       "      <th>END.1</th>\n",
       "      <th>SPAN</th>\n",
       "    </tr>\n",
       "  </thead>\n",
       "  <tbody>\n",
       "    <tr>\n",
       "      <th>0</th>\n",
       "      <td>1_R2</td>\n",
       "      <td>71</td>\n",
       "      <td>1</td>\n",
       "      <td>71</td>\n",
       "      <td>71</td>\n",
       "      <td>100.0%</td>\n",
       "      <td>chr1_KV880763v1_alt</td>\n",
       "      <td>-</td>\n",
       "      <td>290696</td>\n",
       "      <td>290766</td>\n",
       "      <td>71</td>\n",
       "    </tr>\n",
       "    <tr>\n",
       "      <th>1</th>\n",
       "      <td>1_R2</td>\n",
       "      <td>71</td>\n",
       "      <td>1</td>\n",
       "      <td>71</td>\n",
       "      <td>71</td>\n",
       "      <td>100.0%</td>\n",
       "      <td>chr1</td>\n",
       "      <td>-</td>\n",
       "      <td>108278702</td>\n",
       "      <td>108278772</td>\n",
       "      <td>71</td>\n",
       "    </tr>\n",
       "    <tr>\n",
       "      <th>2</th>\n",
       "      <td>1_R2</td>\n",
       "      <td>71</td>\n",
       "      <td>1</td>\n",
       "      <td>71</td>\n",
       "      <td>71</td>\n",
       "      <td>100.0%</td>\n",
       "      <td>chr1_KV880763v1_alt</td>\n",
       "      <td>+</td>\n",
       "      <td>427454</td>\n",
       "      <td>427524</td>\n",
       "      <td>71</td>\n",
       "    </tr>\n",
       "    <tr>\n",
       "      <th>3</th>\n",
       "      <td>1_R2</td>\n",
       "      <td>71</td>\n",
       "      <td>1</td>\n",
       "      <td>71</td>\n",
       "      <td>71</td>\n",
       "      <td>100.0%</td>\n",
       "      <td>chr1</td>\n",
       "      <td>+</td>\n",
       "      <td>108415609</td>\n",
       "      <td>108415679</td>\n",
       "      <td>71</td>\n",
       "    </tr>\n",
       "    <tr>\n",
       "      <th>4</th>\n",
       "      <td>1_R2</td>\n",
       "      <td>34</td>\n",
       "      <td>16</td>\n",
       "      <td>71</td>\n",
       "      <td>71</td>\n",
       "      <td>94.9%</td>\n",
       "      <td>chr2</td>\n",
       "      <td>+</td>\n",
       "      <td>229496567</td>\n",
       "      <td>229496651</td>\n",
       "      <td>85</td>\n",
       "    </tr>\n",
       "  </tbody>\n",
       "</table>\n",
       "</div>"
      ],
      "text/plain": [
       "  QUERY  SCORE  START  END  QSIZE IDENTITY                CHROM STRAND  \\\n",
       "0  1_R2     71      1   71     71   100.0%  chr1_KV880763v1_alt      -   \n",
       "1  1_R2     71      1   71     71   100.0%                 chr1      -   \n",
       "2  1_R2     71      1   71     71   100.0%  chr1_KV880763v1_alt      +   \n",
       "3  1_R2     71      1   71     71   100.0%                 chr1      +   \n",
       "4  1_R2     34     16   71     71    94.9%                 chr2      +   \n",
       "\n",
       "     START.1      END.1  SPAN  \n",
       "0     290696     290766    71  \n",
       "1  108278702  108278772    71  \n",
       "2     427454     427524    71  \n",
       "3  108415609  108415679    71  \n",
       "4  229496567  229496651    85  "
      ]
     },
     "execution_count": 4,
     "metadata": {},
     "output_type": "execute_result"
    }
   ],
   "source": [
    "df2 = pd.read_table('check_flanks_R2.txt', sep='\\t')\n",
    "df2 = df2.drop(['Unnamed: 0', 'ACTIONS'], axis=1, )\n",
    "print(df2.shape)\n",
    "df2.head()"
   ]
  },
  {
   "cell_type": "code",
   "execution_count": 64,
   "id": "91180dc7-0910-48e5-a06f-02c2aed59df3",
   "metadata": {},
   "outputs": [
    {
     "data": {
      "text/plain": [
       "15"
      ]
     },
     "execution_count": 64,
     "metadata": {},
     "output_type": "execute_result"
    }
   ],
   "source": [
    "df1_1 = df1[df1['QUERY'] == '5_R1'].copy(deep=True)\n",
    "df1_1.shape[0]"
   ]
  },
  {
   "cell_type": "code",
   "execution_count": 65,
   "id": "ca97c36c-735c-4452-a9cb-3e1b0bf74501",
   "metadata": {},
   "outputs": [
    {
     "data": {
      "text/plain": [
       "64"
      ]
     },
     "execution_count": 65,
     "metadata": {},
     "output_type": "execute_result"
    }
   ],
   "source": [
    "df2_1 = df2[df2['QUERY'] == '5_R2'].copy(deep=True)\n",
    "df2_1.shape[0]"
   ]
  },
  {
   "cell_type": "code",
   "execution_count": 66,
   "id": "9892a4a8-ecb2-442b-b546-0f6381ab7419",
   "metadata": {},
   "outputs": [
    {
     "name": "stdout",
     "output_type": "stream",
     "text": [
      "1\n"
     ]
    },
    {
     "data": {
      "text/html": [
       "<div>\n",
       "<style scoped>\n",
       "    .dataframe tbody tr th:only-of-type {\n",
       "        vertical-align: middle;\n",
       "    }\n",
       "\n",
       "    .dataframe tbody tr th {\n",
       "        vertical-align: top;\n",
       "    }\n",
       "\n",
       "    .dataframe thead th {\n",
       "        text-align: right;\n",
       "    }\n",
       "</style>\n",
       "<table border=\"1\" class=\"dataframe\">\n",
       "  <thead>\n",
       "    <tr style=\"text-align: right;\">\n",
       "      <th></th>\n",
       "      <th>QUERY</th>\n",
       "      <th>SCORE_1</th>\n",
       "      <th>START_1</th>\n",
       "      <th>END_1</th>\n",
       "      <th>IDENTITY_1</th>\n",
       "      <th>CHROM_1</th>\n",
       "      <th>STRAND_1</th>\n",
       "      <th>START.1_1</th>\n",
       "      <th>END.1_1</th>\n",
       "      <th>SCORE_2</th>\n",
       "      <th>START_2</th>\n",
       "      <th>END_2</th>\n",
       "      <th>IDENTITY_2</th>\n",
       "      <th>CHROM_2</th>\n",
       "      <th>START.1_2</th>\n",
       "      <th>END.1_2</th>\n",
       "    </tr>\n",
       "  </thead>\n",
       "  <tbody>\n",
       "    <tr>\n",
       "      <th>0</th>\n",
       "      <td>5_R1</td>\n",
       "      <td>59</td>\n",
       "      <td>1</td>\n",
       "      <td>61</td>\n",
       "      <td>95.0%</td>\n",
       "      <td>chr3</td>\n",
       "      <td>-</td>\n",
       "      <td>81813044</td>\n",
       "      <td>81813103</td>\n",
       "      <td>69</td>\n",
       "      <td>2</td>\n",
       "      <td>72</td>\n",
       "      <td>95.8%</td>\n",
       "      <td>chr3</td>\n",
       "      <td>81813044</td>\n",
       "      <td>81813113</td>\n",
       "    </tr>\n",
       "  </tbody>\n",
       "</table>\n",
       "</div>"
      ],
      "text/plain": [
       "  QUERY  SCORE_1  START_1  END_1 IDENTITY_1 CHROM_1 STRAND_1  START.1_1  \\\n",
       "0  5_R1       59        1     61      95.0%    chr3        -   81813044   \n",
       "\n",
       "    END.1_1  SCORE_2  START_2  END_2 IDENTITY_2 CHROM_2  START.1_2   END.1_2  \n",
       "0  81813103       69        2     72      95.8%    chr3   81813044  81813113  "
      ]
     },
     "execution_count": 66,
     "metadata": {},
     "output_type": "execute_result"
    }
   ],
   "source": [
    "tmp_2darray = []\n",
    "for i, row_1 in df1_1.iterrows():\n",
    "    \n",
    "    tmp_df = df2_1[df2_1['CHROM'] == row_1['CHROM']]\n",
    "    for i, row_tmp in tmp_df.iterrows():\n",
    "        \n",
    "        if abs(row_tmp['START.1'] - row_1['START.1']) <= 1200 and abs(row_tmp['END.1'] - row_1['END.1']) <= 1200:\n",
    "            tmp_2darray.append([row_1['QUERY'], row_1['SCORE'], row_1['START'], row_1['END'], row_1['IDENTITY'],\n",
    "                                row_1['CHROM'], row_1['STRAND'], row_1['START.1'], row_1['END.1'],\n",
    "                                row_tmp['SCORE'], row_tmp['START'], row_tmp['END'], row_tmp['IDENTITY'], \n",
    "                                row_tmp['CHROM'], row_tmp['START.1'], row_tmp['END.1']])\n",
    "merget_df = pd.DataFrame(tmp_2darray, columns=['QUERY', 'SCORE_1', 'START_1', 'END_1', 'IDENTITY_1', 'CHROM_1', 'STRAND_1', 'START.1_1', 'END.1_1',\n",
    "                                   'SCORE_2', 'START_2', 'END_2', 'IDENTITY_2', 'CHROM_2', 'START.1_2', 'END.1_2'])\n",
    "merget_df = merget_df[merget_df['SCORE_1'] > 40]\n",
    "merget_df = merget_df.drop(merget_df[merget_df['CHROM_1'].str.contains('alt')].index, axis=0)\n",
    "#merget_df = merget_df[merget_df['SCORE_2'] > 60]\n",
    "merget_df = merget_df[merget_df['START_1'] < 3]\n",
    "#merget_df.sort_values('END_1' )\n",
    "print(merget_df.shape[0])\n",
    "merget_df"
   ]
  },
  {
   "cell_type": "code",
   "execution_count": 67,
   "id": "5c51de1d-f42e-4dd4-ac5c-d001d46cb36c",
   "metadata": {},
   "outputs": [
    {
     "name": "stdout",
     "output_type": "stream",
     "text": [
      "59 1 61 chr3:81813044-81813113 69 2 72\n"
     ]
    }
   ],
   "source": [
    "for i, row in merget_df.iterrows():\n",
    "    low_coord = min(row['START.1_1'], row['START.1_2'], row['END.1_1'], row['END.1_2'])\n",
    "    high_coord = max(row['START.1_1'], row['START.1_2'], row['END.1_1'], row['END.1_2'])\n",
    "    print(row['SCORE_1'],row['START_1'],row['END_1'], \n",
    "          f\"{row['CHROM_1']}:{low_coord}-{high_coord}\", \n",
    "          row['SCORE_2'],row['START_2'],row['END_2'],)"
   ]
  },
  {
   "cell_type": "code",
   "execution_count": null,
   "id": "9e163c7f-ed09-4e20-91b3-dcc2a677ee1a",
   "metadata": {},
   "outputs": [],
   "source": []
  },
  {
   "cell_type": "code",
   "execution_count": 89,
   "id": "66e925cf-d27b-4fef-91a3-2ced4ce20fb3",
   "metadata": {},
   "outputs": [
    {
     "data": {
      "text/html": [
       "<div>\n",
       "<style scoped>\n",
       "    .dataframe tbody tr th:only-of-type {\n",
       "        vertical-align: middle;\n",
       "    }\n",
       "\n",
       "    .dataframe tbody tr th {\n",
       "        vertical-align: top;\n",
       "    }\n",
       "\n",
       "    .dataframe thead th {\n",
       "        text-align: right;\n",
       "    }\n",
       "</style>\n",
       "<table border=\"1\" class=\"dataframe\">\n",
       "  <thead>\n",
       "    <tr style=\"text-align: right;\">\n",
       "      <th></th>\n",
       "      <th>QUERY</th>\n",
       "      <th>SCORE_1</th>\n",
       "      <th>START_1</th>\n",
       "      <th>END_1</th>\n",
       "      <th>IDENTITY_1</th>\n",
       "      <th>CHROM_1</th>\n",
       "      <th>START.1_1</th>\n",
       "      <th>END.1_1</th>\n",
       "      <th>SCORE_2</th>\n",
       "      <th>START_2</th>\n",
       "      <th>END_2</th>\n",
       "      <th>IDENTITY_2</th>\n",
       "      <th>CHROM_2</th>\n",
       "      <th>START.1_2</th>\n",
       "      <th>END.1_2</th>\n",
       "    </tr>\n",
       "  </thead>\n",
       "  <tbody>\n",
       "  </tbody>\n",
       "</table>\n",
       "</div>"
      ],
      "text/plain": [
       "Empty DataFrame\n",
       "Columns: [QUERY, SCORE_1, START_1, END_1, IDENTITY_1, CHROM_1, START.1_1, END.1_1, SCORE_2, START_2, END_2, IDENTITY_2, CHROM_2, START.1_2, END.1_2]\n",
       "Index: []"
      ]
     },
     "execution_count": 89,
     "metadata": {},
     "output_type": "execute_result"
    }
   ],
   "source": [
    "merget_df[merget_df['CHROM_1']=='chr5']"
   ]
  },
  {
   "cell_type": "code",
   "execution_count": null,
   "id": "2ea4221d-98a6-43a5-9fcc-b84d0c2a1af6",
   "metadata": {},
   "outputs": [],
   "source": []
  },
  {
   "cell_type": "code",
   "execution_count": null,
   "id": "065a4c0a-7f07-46fa-a8f6-3a6fb41091ba",
   "metadata": {},
   "outputs": [],
   "source": []
  },
  {
   "cell_type": "code",
   "execution_count": null,
   "id": "223941d9-8605-4f73-beed-c7aa430f50af",
   "metadata": {},
   "outputs": [],
   "source": []
  },
  {
   "cell_type": "code",
   "execution_count": 74,
   "id": "7b436526-69f5-48b9-84f1-3afb07478f53",
   "metadata": {},
   "outputs": [],
   "source": []
  },
  {
   "cell_type": "code",
   "execution_count": 16,
   "id": "b0a4dc8a-f45f-4842-813d-e65b65bda414",
   "metadata": {},
   "outputs": [],
   "source": [
    "def hamming_dist(x1, x2):\n",
    "    j = 0\n",
    "    for i in range(len(x1)):\n",
    "        if x1[i] != x2[i]:\n",
    "            j = j + 1\n",
    "    return j"
   ]
  },
  {
   "cell_type": "code",
   "execution_count": 21,
   "id": "0c423a95-f00b-482d-87bd-b60d5886b858",
   "metadata": {},
   "outputs": [],
   "source": [
    "def find_overlap(str1, str2):\n",
    "    if len(str1) < len(str2):\n",
    "        str_tmp = str1\n",
    "        str1 = str2\n",
    "        str2 = str_tmp\n",
    "    if len(str1) >= len(str2):\n",
    "        delta = len(str1) - len(str2)\n",
    "        for i in range(len(str1)):\n",
    "            if delta - i >= 0:\n",
    "                part1 = str1[i:len(str2) + i]\n",
    "                part2 = str2\n",
    "            else:\n",
    "                part1 = str1[i:]\n",
    "                part2 = str2[0:len(str2) + delta - i]\n",
    "            # print(part1, part2)\n",
    "            if hamming_dist(part1, part2) == 0:\n",
    "                #print(part1, len(part1))\n",
    "                return part1\n",
    "        return 'no overlap'"
   ]
  },
  {
   "cell_type": "code",
   "execution_count": 18,
   "id": "055409b5-e117-4485-a26d-4d551d583722",
   "metadata": {},
   "outputs": [],
   "source": [
    "R1_orig_list = ['GACTCTTCTTACTTTTAAGGACACATATAATTGAAACTATTTTGGAAAACAAGAGAGCAGGGATAG',\n",
    " 'TACTATAAACACTTCTATGCCAATAAACTAGAAAATCCAGAAGAAATGGATAAATTCCTGGACACATACACCCTCCCAAGAC',\n",
    " 'TCTAATCCATTTTGGAAGGTTAGTCTTACATGGTTGTTGCATTCCACAACTATCGGTAGATTATCTTTAAAAAGGGAAGCAA',\n",
    " 'TGGTTTTTTTTTTTTTTTTGACAGTCTTGCTGTTCCCAGGCTGGAGTGCAGTGGTGCGACCTCAG',\n",
    " 'ATTTTTTTATTTTTTTTAGCCTTGCATTTGCCCGTGAGAGGAGCAGCCACACTGGAACGAG',\n",
    " 'ATGAAATTTTAAAATTTTTTTCTCTGCCTAGTTGCAGACGAGGAAGTTAGTGATGAGGCACAAGAAAGATTTCAGGCAAAAC',\n",
    " 'AGTTTTTTTTTTTTTTTTTGAGAGGGAGTCTCGCTCTGTCACCCAGTCTGGAGTGCAGTGGCACAATCTCAG',\n",
    " 'TTTTCTTCTTTTTTAAGTCTGAATAATATTCTCTTGTTTGTATTCACCACATTTTATGTATCCATTCATCCATCAATAGACA',\n",
    " 'AGAGTTAAACTCAGGCCCACTCAACTTTAACCCCCATATTCTTTCCTCTACACTACCCTTTCCACTCCAGCATGCTACAATT']\n",
    "\n",
    "R2_rev_comp = ['CGGCCGACTCTTCTTACTTTTAAGGACACATATAATTGAAACTATTTTGGAAAACAAGAGAGCAGGGATAG',\n",
    " 'AGCCTACCAACCAAAAAAAGTCCAGGACCAGACAGATTCACAGATGAATTTTACCAGAGGTACAAAGAGGAG',\n",
    " 'GTTGCATTCCACAACTATCGGTAGATTATCTTTAAAAAGGGAAGCAATTTCACATTTGTCCAGCAGAGGGAG',\n",
    " 'CCCGGTTTTTTTTTTTTTTTTTTTTTGACAGTCTTGCTGTTCCCAGGCTGGAGTGCAGTGGTGCGACCTCAG',\n",
    " 'CGCGCCCGGCCATTTTTTTATTTTTTTTAGCCTTGCATTTGCCCGTGAGAGGAGCAGCCACACTGGAACGAG',\n",
    " 'GATTTCAGGCAAAACTGCCCTCTTGAAGATGGAGGGGGCCATCTGGCAAAGAATGCAGGCAGCCTCTGCGAG',\n",
    " 'TTTTTTTTTTTTTTTTTTTGAGAGGGAGTCTCGCTCTGTCACCCAGGCTGGAGTGCAGTGGCACACTCTCAG',\n",
    " 'TCTTGTTTGTATTCACCACATTTTATGTATCCATTCATCCATCAATAGACACTTGATTGATTCCACTTTTAG',\n",
    " 'ATTCTGAGCATTTCCTGAGTATCCCTGGGGGGTGCAGAACTGTCCTAAGTACTAAGTGAAGAACAGAAGGAG']"
   ]
  },
  {
   "cell_type": "code",
   "execution_count": 22,
   "id": "40a384c8-ef7f-4a56-935a-2d9dfd9f8a62",
   "metadata": {},
   "outputs": [
    {
     "name": "stdout",
     "output_type": "stream",
     "text": [
      "-----1-----\n",
      "66\n",
      "71\n",
      "GACTCTTCTTACTTTTAAGGACACATATAATTGAAACTATTTTGGAAAACAAGAGAGCAGGGATAG 66\n",
      "-----2-----\n",
      "82\n",
      "72\n",
      "no overlap 10\n",
      "-----3-----\n",
      "82\n",
      "72\n",
      "GTTGCATTCCACAACTATCGGTAGATTATCTTTAAAAAGGGAAGCAA 47\n",
      "-----4-----\n",
      "65\n",
      "72\n",
      "no overlap 10\n",
      "-----5-----\n",
      "61\n",
      "72\n",
      "ATTTTTTTATTTTTTTTAGCCTTGCATTTGCCCGTGAGAGGAGCAGCCACACTGGAACGAG 61\n",
      "-----6-----\n",
      "82\n",
      "72\n",
      "GATTTCAGGCAAAAC 15\n",
      "-----7-----\n",
      "72\n",
      "72\n",
      "no overlap 10\n",
      "-----8-----\n",
      "82\n",
      "72\n",
      "TCTTGTTTGTATTCACCACATTTTATGTATCCATTCATCCATCAATAGACA 51\n",
      "-----9-----\n",
      "82\n",
      "72\n",
      "ATT 3\n"
     ]
    }
   ],
   "source": [
    "for i in range(len(R1_orig_list)):\n",
    "\n",
    "    print(f'-----{i+1}-----')\n",
    "    print(len(R1_orig_list[i]))\n",
    "    print(len(R2_rev_comp[i]))\n",
    "    overlap = find_overlap(R1_orig_list[i], R2_rev_comp[i])\n",
    "    print(overlap, len(overlap))"
   ]
  },
  {
   "cell_type": "code",
   "execution_count": null,
   "id": "f526efbf-1367-4bec-9cc8-3eed320e21e2",
   "metadata": {},
   "outputs": [],
   "source": []
  },
  {
   "cell_type": "code",
   "execution_count": null,
   "id": "7add101b-f155-4fdf-865a-a75cc031b6b7",
   "metadata": {},
   "outputs": [],
   "source": []
  },
  {
   "cell_type": "code",
   "execution_count": null,
   "id": "96817fc9-373e-4113-8984-75c9382a4a64",
   "metadata": {},
   "outputs": [],
   "source": []
  },
  {
   "cell_type": "code",
   "execution_count": null,
   "id": "686e7b54-ff08-4c7d-b731-e49f4302c00f",
   "metadata": {},
   "outputs": [],
   "source": []
  },
  {
   "cell_type": "code",
   "execution_count": null,
   "id": "03bd1524-9939-4191-ae3f-4ba8d228c889",
   "metadata": {},
   "outputs": [],
   "source": []
  },
  {
   "cell_type": "code",
   "execution_count": null,
   "id": "a281b084-d734-478b-a005-05d71c28c8f3",
   "metadata": {},
   "outputs": [],
   "source": []
  },
  {
   "cell_type": "code",
   "execution_count": null,
   "id": "4f3a5757-5288-4045-8c40-a2d04902a36a",
   "metadata": {},
   "outputs": [],
   "source": []
  },
  {
   "cell_type": "code",
   "execution_count": null,
   "id": "b8b20973-930c-4ea6-937c-ca227f1ac217",
   "metadata": {},
   "outputs": [],
   "source": []
  },
  {
   "cell_type": "code",
   "execution_count": null,
   "id": "8e4fc6a0-aaa7-46e7-8a6b-b8d453f8bdd3",
   "metadata": {},
   "outputs": [],
   "source": []
  },
  {
   "cell_type": "code",
   "execution_count": null,
   "id": "fa416d50-3384-490c-a9c2-5eeac78ad64f",
   "metadata": {},
   "outputs": [],
   "source": [
    "df1_1 = df1_1[df1_1['SCORE'] > 30]\n",
    "#merget_df = merget_df[merget_df['SCORE_2'] > 60]\n",
    "df1_1 = df1_1[df1_1['START'] < 2]\n",
    "#merget_df.sort_values('END_1' )\n",
    "print(df1_1.shape[0])\n",
    "df1_1"
   ]
  }
 ],
 "metadata": {
  "kernelspec": {
   "display_name": "Python 3 (ipykernel)",
   "language": "python",
   "name": "python3"
  },
  "language_info": {
   "codemirror_mode": {
    "name": "ipython",
    "version": 3
   },
   "file_extension": ".py",
   "mimetype": "text/x-python",
   "name": "python",
   "nbconvert_exporter": "python",
   "pygments_lexer": "ipython3",
   "version": "3.11.5"
  }
 },
 "nbformat": 4,
 "nbformat_minor": 5
}
