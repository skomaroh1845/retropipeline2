{
 "cells": [
  {
   "cell_type": "code",
   "execution_count": 62,
   "id": "a9e5e358-1ca9-4e05-93e3-6d439a7029bf",
   "metadata": {},
   "outputs": [],
   "source": [
    "import pandas as pd"
   ]
  },
  {
   "cell_type": "code",
   "execution_count": 77,
   "id": "08e445a3-5eac-4d81-8871-f590257ee8a2",
   "metadata": {},
   "outputs": [
    {
     "name": "stdout",
     "output_type": "stream",
     "text": [
      "Repeat Annotation Request Form\n",
      "submitted\n",
      "flank coord: chr3:81813044-81813113\n",
      "repeat coord: chr3:81813104-81813389\n",
      "strand: +\n",
      "repeat name: AluYa5\n",
      "repeat type SINE/Alu\n",
      "CPU times: user 27.8 ms, sys: 4 ms, total: 31.8 ms\n",
      "Wall time: 9.27 s\n"
     ]
    }
   ],
   "source": [
    "%%time\n",
    "import time\n",
    "from selenium import webdriver\n",
    "from selenium.webdriver.chrome.options import Options\n",
    "from selenium.webdriver.chrome.service import Service\n",
    "from selenium.webdriver.common.keys import Keys\n",
    "from selenium.webdriver.common.by import By\n",
    "from selenium.webdriver.support.wait import WebDriverWait\n",
    "from selenium.webdriver.support import expected_conditions as EC\n",
    "from selenium.webdriver.support.select import Select\n",
    "\n",
    "service = Service(executable_path=\"/usr/bin/chromedriver\")\n",
    "chrome_options = Options()\n",
    "chrome_options.add_argument('--headless')\n",
    "chrome_options.add_argument('--no-sandbox')\n",
    "chrome_options.add_argument('--disable-dev-shm-usage')\n",
    "driver = webdriver.Chrome(service=service, options=chrome_options)\n",
    "\n",
    "# go to the repeatmasker\n",
    "driver.get(\"https://www.repeatmasker.org/cgi-bin/AnnotationRequest\")\n",
    "print(driver.title)\n",
    "\n",
    "# select Hg38\n",
    "try:\n",
    "    element = WebDriverWait(driver, 10).until(\n",
    "        EC.presence_of_element_located((By.NAME, \"genome\"))\n",
    "    )\n",
    "    dropdown = Select(element)\n",
    "    dropdown.select_by_visible_text(\"Human - Dec 2013 - hg38\")\n",
    "except:\n",
    "    print(\"can't select genome\")\n",
    "\n",
    "\n",
    "# set flank coords\n",
    "coords = \"chr3:81813044-81813113\"\n",
    "try:\n",
    "    range = driver.find_element(By.NAME, \"range\")\n",
    "    range.clear()\n",
    "    range.send_keys(coords)\n",
    "except:\n",
    "    print(\"can't pass coords\")\n",
    "\n",
    "# submit\n",
    "try:\n",
    "    button = driver.find_element(By.NAME, \".submit\")\n",
    "    button.click()\n",
    "    print('submitted')\n",
    "except:\n",
    "    print(\"can't submit\")\n",
    "\n",
    "# check results \n",
    "res = ''\n",
    "try:\n",
    "    element = WebDriverWait(driver, 60).until(\n",
    "            EC.presence_of_element_located((By.TAG_NAME, \"pre\")) \n",
    "        )\n",
    "    res = element.text\n",
    "except:\n",
    "    print('exception 1')\n",
    "    try:\n",
    "        element = WebDriverWait(driver, 20).until(\n",
    "            EC.presence_of_element_located((By.XPATH, \"/html/body/form/font/text()\")) \n",
    "        )\n",
    "        print(element.text)\n",
    "    except:\n",
    "        print(\"exception 2\")\n",
    "driver.quit()\n",
    "\n",
    "try:\n",
    "    list = res.split('\\n')[2].split(' ')\n",
    "    list = ' '.join(list).split()\n",
    "    print(f\"flank coord: {coords}\")\n",
    "    print(f\"repeat coord: {list[4]}:{list[5]}-{list[6]}\")\n",
    "    print(\"strand:\", list[8])\n",
    "    print(\"repeat name:\", list[9])\n",
    "    print(\"repeat type\", list[10])\n",
    "except:\n",
    "    print('res list error')"
   ]
  },
  {
   "cell_type": "code",
   "execution_count": null,
   "id": "032c8768-938b-48b2-b784-e00adfdcd26d",
   "metadata": {},
   "outputs": [],
   "source": []
  },
  {
   "cell_type": "code",
   "execution_count": null,
   "id": "0b655e0d-4ec0-414a-95a9-758dd691f974",
   "metadata": {},
   "outputs": [],
   "source": []
  },
  {
   "cell_type": "code",
   "execution_count": null,
   "id": "b4210370-03b1-4c4d-ad7c-dc4f7a182db7",
   "metadata": {},
   "outputs": [],
   "source": []
  },
  {
   "cell_type": "code",
   "execution_count": null,
   "id": "c814a74f-a0b6-4cc2-88f3-34027cfb06e5",
   "metadata": {},
   "outputs": [],
   "source": []
  }
 ],
 "metadata": {
  "kernelspec": {
   "display_name": "Python 3 (ipykernel)",
   "language": "python",
   "name": "python3"
  },
  "language_info": {
   "codemirror_mode": {
    "name": "ipython",
    "version": 3
   },
   "file_extension": ".py",
   "mimetype": "text/x-python",
   "name": "python",
   "nbconvert_exporter": "python",
   "pygments_lexer": "ipython3",
   "version": "3.11.5"
  }
 },
 "nbformat": 4,
 "nbformat_minor": 5
}
