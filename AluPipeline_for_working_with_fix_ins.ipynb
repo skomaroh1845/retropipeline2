{
 "cells": [
  {
   "cell_type": "markdown",
   "metadata": {},
   "source": [
    "### SHORT DESCRIPTION\n",
    "\n",
    "* NCORE - numbers of core. For parallel pipeline NCORE > 1 (max NCORE = 8)\n",
    "* DELETE_NOW - If True, bad reads (by filters) will be deleted after each filter\n",
    "* IS_SHORT_FLANK - If True, ignore additional PRIMER and AD1 in R1\n",
    "* CHAOS - If True, you're not sure that file(R1) is contained R1 and file(R2) is contained R2\n",
    "* MIN_READ - Create own FIX and dbRIP file for each library (if NUM_READS >= MIN_READ)\n",
    "* INSWINDOW_FIX - Delete reads if CURRENT_POS ~ [RESTRICT_SITE : IS + INSWINDOWS_FIX] (for INS_STRAND = +)\n",
    "* SHIFT_RESTRICT_SITE - Mark reads if RESTRICT_SITE was found in [RESTRICT_SITE :  IS + SHIFT] (for INS_STRAND = +)\n",
    "* SHIFT_MISS_PRIMER - Mark reads if PRIMER was found in [IS :  IS + SHIFT] (for INS_STRAND = +)\n",
    "* SHIFT_MISS_RE -  Mark reads if PRIMER was found in [IS :  IS + SHIFT] (for INS_STRAND = +)\n",
    "* RE_HAMMING - Delete reads RE_HAMMING_CURRENT >= RE_HAMMING\n",
    "* FLANK_ERRORS - Delete reads FLANK_ERRORS_CURRENT >= FLANK_ERRORS\n",
    "* REPEAT - Delete reads REPEAT_CURRENT >= REPEAT\n",
    "* MISS_PRIMER - Delete reads MISS_PRIMER_CURRENT <= MISS_PRIMER\n",
    "* MISS_RE - Delelte reads MISS_RE_CURRENT <= MISS_RE\n",
    "* TEMPLATE_SWITCH_MD - Delete reads MDMATCH >= TEMPLATE_SWITCH_MD\n",
    "* WINDOW - Window for megaclustering\n",
    "* MAIN_FLAN_LEN - For template switch. TARGET_READS = PRIMER + RE + MAIN_FLAN_LEN(of R1)"
   ]
  },
  {
   "cell_type": "code",
   "execution_count": 28,
   "metadata": {},
   "outputs": [
    {
     "name": "stdout",
     "output_type": "stream",
     "text": [
      "/mnt/c/Users/Komar/Lab\n",
      "/mnt/c/Users/Komar/Lab\n"
     ]
    }
   ],
   "source": [
    "import os\n",
    "print(os.getcwd())\n",
    "os.chdir('/mnt/c/Users/Komar/Lab/')\n",
    "print(os.getcwd())"
   ]
  },
  {
   "cell_type": "code",
   "execution_count": 113,
   "metadata": {},
   "outputs": [],
   "source": [
    "#LIBRARY\n",
    "import imp\n",
    "import os\n",
    "\n",
    "#PATHWAYS\n",
    "INPUTDIR = '/mnt/c/Users/Komar/Lab/InPutDir/test'\n",
    "OUTPUTDIR = '/mnt/c/Users/Komar/Lab/OutPutDir/test'\n",
    "\n",
    "MAPPER = 'bowtie2' #bwa or bowtie2\n",
    "BOWTIE_INDEX = '/mnt/c/Users/Komar/Lab/UCSC_hg38/ref_bowtie2_index'\n",
    "BWA_INDEX = '/mnt/c/Users/Komar/Lab/UCSC_hg38/ref_bwa_index'\n",
    "\n",
    "ALU_REF_LIB = '/mnt/c/Users/Komar/Lab/retroparty/Alu_replibrary_hg38.txt'  # fixed and polymorphic Alu insertions \n",
    "REF_GENOME = '/mnt/c/Users/Komar/Lab/UCSC_hg38/genome.fa'\n",
    "REPEATS_REF_LIB = '/mnt/c/Users/Komar/Lab/retroparty/repeats_hg38.tabular'  # all known fixed repeats\n",
    "\n",
    "#SYS PARAMETRS\n",
    "NCORE = 4\n",
    "\n",
    "#PREPROCESSING\n",
    "PRIMER = 'GAGCCACCGCGC'\n",
    "SHIFT = 5\n",
    "MIST = 1\n",
    "AD1 = 'GCGTGCTGCGG'\n",
    "AD2 = 'AGGGCGGT'\n",
    "BLEN = 9\n",
    "RE = 'CCGGCC'\n",
    "RESTRICT_SITE = {'AGCT': 'CT', 'TCGA': 'GA'} # {'GTAC': 'TAC', 'CTAG': 'TAG'} # {'restrict site': 'r2_start'}\n",
    "IS_SHORT_FLANK = False\n",
    "CHAOS = True\n",
    "TRIMM_N = 0\n",
    "TRIMM_POLY_N = False\n",
    "POLY_N_R1 = (15, 0.8, 7) # poly_n_win_size_r1, poly_n_th_r1, poly_n_shift_r1\n",
    "POLY_N_R2 = (15, 0.8, 7) # poly_n_win_size_r2, poly_n_th_r2, poly_n_shift_r2\n",
    "SKIP_SHORT_READS = 50\n",
    "MID_MIST_SHORT_READS = (3, 2) # (r1 ,r2) max mismatches in AD2 or PRIMER which will remove from reads\n",
    "END_MIST_SHORT_READS = (6, 6) # (r1 ,r2) min length of AD2 or PRIMER at the reads ends\n",
    "PLACE_OF_SEARCH_TAIL = (None, None) # (r1 ,r2)\n",
    "MIN_SEQ_LEN_AFTER_TRIMM = (25, 25) # (r1 ,r2)\n",
    "\n",
    "#SAMFILTER\n",
    "FLAGS = [99, 83, 147, 163] # + [355, 339, 403, 419]\n",
    "\n",
    "R_SITE_DISTANCE = 1000\n",
    "\n",
    "#FILTERS\n",
    "FIX_WINDOW = 1\n",
    "MIN_READ = 1\n",
    "MAX_DIST = 1000\n",
    "MIN_DIST = 0\n",
    "INSWINDOW_FIX = 40\n",
    "SHIFT_RESTRICT_SITE = 3 \n",
    "SHIFT_MISS_PRIMER = 27\n",
    "SHIFT_MISS_RE = 9\n",
    "\n",
    "#THRESHOLDS\n",
    "RE_HAMMING = 2\n",
    "FLANK_ERRORS = 5\n",
    "REPEAT = 0.8\n",
    "MISS_PRIMER = 4\n",
    "MISS_RE = 2\n",
    "TEMPLATE_SWITCH_MD = 30\n",
    "\n",
    "#METACLUSTERING\n",
    "WINDOW = 100\n",
    "MAIN_FLANK_LEN = 11 # template switch?"
   ]
  },
  {
   "cell_type": "markdown",
   "metadata": {},
   "source": [
    "### <font color='blue'>1st round</font> "
   ]
  },
  {
   "cell_type": "markdown",
   "metadata": {},
   "source": [
    "#### 1. Raw FASTQ files preprocessing"
   ]
  },
  {
   "cell_type": "code",
   "execution_count": 99,
   "metadata": {},
   "outputs": [
    {
     "name": "stdout",
     "output_type": "stream",
     "text": [
      "start: test_sample_1000_\n"
     ]
    },
    {
     "data": {
      "application/vnd.jupyter.widget-view+json": {
       "model_id": "6f558094f4254be18c2fe13d37082221",
       "version_major": 2,
       "version_minor": 0
      },
      "text/plain": [
       "test_sample_1000_:   0%|          | 0/1000 [00:00<?, ?it/s]"
      ]
     },
     "metadata": {},
     "output_type": "display_data"
    },
    {
     "data": {
      "text/html": [
       "<div>\n",
       "<style scoped>\n",
       "    .dataframe tbody tr th:only-of-type {\n",
       "        vertical-align: middle;\n",
       "    }\n",
       "\n",
       "    .dataframe tbody tr th {\n",
       "        vertical-align: top;\n",
       "    }\n",
       "\n",
       "    .dataframe thead th {\n",
       "        text-align: right;\n",
       "    }\n",
       "</style>\n",
       "<table border=\"1\" class=\"dataframe\">\n",
       "  <thead>\n",
       "    <tr style=\"text-align: right;\">\n",
       "      <th></th>\n",
       "      <th>fname</th>\n",
       "      <th>all</th>\n",
       "      <th>good</th>\n",
       "      <th>bad</th>\n",
       "      <th>primer</th>\n",
       "      <th>adapters</th>\n",
       "      <th>restrict_site</th>\n",
       "      <th>natural_zone</th>\n",
       "      <th>r2_start</th>\n",
       "    </tr>\n",
       "  </thead>\n",
       "  <tbody>\n",
       "    <tr>\n",
       "      <th>0</th>\n",
       "      <td>test_sample_1000_</td>\n",
       "      <td>1000</td>\n",
       "      <td>0.68</td>\n",
       "      <td>0.32</td>\n",
       "      <td>0</td>\n",
       "      <td>0</td>\n",
       "      <td>64</td>\n",
       "      <td>165</td>\n",
       "      <td>0</td>\n",
       "    </tr>\n",
       "    <tr>\n",
       "      <th>1</th>\n",
       "      <td>total</td>\n",
       "      <td>1000</td>\n",
       "      <td>0.77</td>\n",
       "      <td>0.23</td>\n",
       "      <td>0</td>\n",
       "      <td>0</td>\n",
       "      <td>64</td>\n",
       "      <td>165</td>\n",
       "      <td>0</td>\n",
       "    </tr>\n",
       "  </tbody>\n",
       "</table>\n",
       "</div>"
      ],
      "text/plain": [
       "               fname   all  good   bad primer adapters restrict_site  \\\n",
       "0  test_sample_1000_  1000  0.68  0.32      0        0            64   \n",
       "1              total  1000  0.77  0.23      0        0            64   \n",
       "\n",
       "  natural_zone r2_start  \n",
       "0          165        0  \n",
       "1          165        0  "
      ]
     },
     "metadata": {},
     "output_type": "display_data"
    }
   ],
   "source": [
    "import imp\n",
    "import trimmRE\n",
    "imp.reload(trimmRE)\n",
    "\n",
    "trimmRE.main(inputdir = INPUTDIR,\n",
    "              outputdir = os.path.abspath(OUTPUTDIR) + '/preprocessing/',\n",
    "              primer = PRIMER,\n",
    "              ad1 = AD1,\n",
    "              ad2 = AD2,\n",
    "              blen = BLEN,\n",
    "              shift = SHIFT,\n",
    "              mist = MIST,\n",
    "              restrict_site = RESTRICT_SITE,\n",
    "              re_part = RE,\n",
    "              is_short_flank = IS_SHORT_FLANK,\n",
    "              chaos = CHAOS,\n",
    "              n_core = NCORE,\n",
    "              trimm_n = TRIMM_N,\n",
    "              trimm_poly_N = TRIMM_POLY_N,\n",
    "              poly_n_r1 = POLY_N_R1,\n",
    "              poly_n_r2 = POLY_N_R2,\n",
    "              skip_short_reads = SKIP_SHORT_READS,\n",
    "              mid_mist_short_reads = MID_MIST_SHORT_READS,\n",
    "              end_mist_short_reads = END_MIST_SHORT_READS,\n",
    "              place_of_search_tail = PLACE_OF_SEARCH_TAIL,\n",
    "              min_seq_len_after_trimm = MIN_SEQ_LEN_AFTER_TRIMM)"
   ]
  },
  {
   "cell_type": "markdown",
   "metadata": {},
   "source": [
    "#### 2. Map FASTQ by BWA"
   ]
  },
  {
   "cell_type": "code",
   "execution_count": 101,
   "metadata": {
    "scrolled": true
   },
   "outputs": [
    {
     "data": {
      "application/vnd.jupyter.widget-view+json": {
       "model_id": "dc42da01b11c462c8e09f4ead29299d1",
       "version_major": 2,
       "version_minor": 0
      },
      "text/plain": [
       "  0%|          | 0/1 [00:00<?, ?it/s]"
      ]
     },
     "metadata": {},
     "output_type": "display_data"
    },
    {
     "name": "stdout",
     "output_type": "stream",
     "text": [
      "bowtie2 -p 4 -I 25 -X 1000 --dovetail -x /mnt/c/Users/Komar/Lab/UCSC_hg38/ref_bowtie2_index -1 /mnt/c/Users/Komar/Lab/OutPutDir/test/preprocessing/test_sample_1000__R1_good.fastq -2 /mnt/c/Users/Komar/Lab/OutPutDir/test/preprocessing/test_sample_1000__R2_good.fastq -S /mnt/c/Users/Komar/Lab/OutPutDir/test/mapping/test_sample_1000__.sam\n"
     ]
    }
   ],
   "source": [
    "import bwamem\n",
    "imp.reload(bwamem)\n",
    "\n",
    "if MAPPER == 'bowtie2':\n",
    "    mapper_execline = 'bowtie2 -p 4 -I 25 -X 1000 --dovetail'\n",
    "    refway = BOWTIE_INDEX\n",
    "else:\n",
    "    if MAPPER != 'bwa':\n",
    "        print('BWA')\n",
    "    mapper_execline = 'bwa mem -t 4'\n",
    "    refway = BWA_INDEX\n",
    "\n",
    "bwamem.main(inputdir = os.path.abspath(OUTPUTDIR) + '/preprocessing/',\n",
    "            outputdir = os.path.abspath(OUTPUTDIR) + '/mapping/',\n",
    "            refway = refway,\n",
    "            bwaline = mapper_execline)"
   ]
  },
  {
   "cell_type": "markdown",
   "metadata": {},
   "source": [
    "#### 3. Filter SAM files"
   ]
  },
  {
   "cell_type": "code",
   "execution_count": 102,
   "metadata": {
    "scrolled": false
   },
   "outputs": [
    {
     "name": "stdout",
     "output_type": "stream",
     "text": [
      "start: test_sample_1000__\n"
     ]
    },
    {
     "data": {
      "application/vnd.jupyter.widget-view+json": {
       "model_id": "5dff0acc295d4f9b9b7da2ab3b3da49f",
       "version_major": 2,
       "version_minor": 0
      },
      "text/plain": [
       "test_sample_1000__:   0%|          | 0/1366 [00:00<?, ?it/s]"
      ]
     },
     "metadata": {},
     "output_type": "display_data"
    }
   ],
   "source": [
    "import samfilter_pysam\n",
    "import gline\n",
    "imp.reload(samfilter_pysam)\n",
    "imp.reload(gline)\n",
    "\n",
    "samfilter_pysam.main(inputdir = os.path.abspath(OUTPUTDIR) + '/mapping/',\n",
    "                     outputdir = os.path.abspath(OUTPUTDIR) + '/table/',\n",
    "                     flags = FLAGS, \n",
    "                     n_core = NCORE)"
   ]
  },
  {
   "cell_type": "markdown",
   "metadata": {},
   "source": [
    "#### 4. Collapse reads by (chr, strand, pos)"
   ]
  },
  {
   "cell_type": "code",
   "execution_count": 103,
   "metadata": {},
   "outputs": [
    {
     "data": {
      "application/vnd.jupyter.widget-view+json": {
       "model_id": "ccfd4bc020604d948aa6156046ad7394",
       "version_major": 2,
       "version_minor": 0
      },
      "text/plain": [
       "test_sample_1000__:   0%|          | 0/545 [00:00<?, ?it/s]"
      ]
     },
     "metadata": {},
     "output_type": "display_data"
    }
   ],
   "source": [
    "import collapser\n",
    "imp.reload(collapser)\n",
    "\n",
    "collapser.main(inputdir = os.path.abspath(OUTPUTDIR) + '/table/',\n",
    "               outputdir = os.path.abspath(OUTPUTDIR) + '/collapse_table/',\n",
    "               target_re = RE,\n",
    "               n_core = NCORE)"
   ]
  },
  {
   "cell_type": "markdown",
   "metadata": {},
   "source": [
    "#### 5. Create own fix and polymorph ALUBASE"
   ]
  },
  {
   "cell_type": "code",
   "execution_count": 104,
   "metadata": {},
   "outputs": [
    {
     "data": {
      "application/vnd.jupyter.widget-view+json": {
       "model_id": "4a93c3e70d694c249faee991bcdf4afc",
       "version_major": 2,
       "version_minor": 0
      },
      "text/plain": [
       "create database:   0%|          | 0/1183143 [00:00<?, ?it/s]"
      ]
     },
     "metadata": {},
     "output_type": "display_data"
    },
    {
     "name": "stdout",
     "output_type": "stream",
     "text": [
      "(1165015, 8)\n",
      "    CHR      START        END STRAND   NAME R_SITE  R_SITE_POS  IDX\n",
      "0  chr1    8388315    8388618      -   AluY   AGCT     8388842    0\n",
      "1  chr1   33554185   33554483      -  AluSc   AGCT    33554597    1\n",
      "2  chr1   41942894   41943205      -   AluY   AGCT    41943318    2\n",
      "3  chr1  150994812  150995102      +  AluSg   AGCT   150994651    3\n",
      "4  chr1  192937857  192938175      +  AluJb   AGCT   192937587    4\n"
     ]
    },
    {
     "data": {
      "application/vnd.jupyter.widget-view+json": {
       "model_id": "98d4f2b6b61c4f1090199ef13dc93b64",
       "version_major": 2,
       "version_minor": 0
      },
      "text/plain": [
       "replib:   0%|          | 0/48 [00:00<?, ?it/s]"
      ]
     },
     "metadata": {},
     "output_type": "display_data"
    },
    {
     "data": {
      "application/vnd.jupyter.widget-view+json": {
       "model_id": "3226d31f18364c00b0a84a279b10f7f3",
       "version_major": 2,
       "version_minor": 0
      },
      "text/plain": [
       "test_sample_1000__:   0%|          | 0/545 [00:00<?, ?it/s]"
      ]
     },
     "metadata": {},
     "output_type": "display_data"
    }
   ],
   "source": [
    "import exactmatch_fpALU\n",
    "imp.reload(exactmatch_fpALU)\n",
    "\n",
    "exactmatch_fpALU.main(inputdir = os.path.abspath(OUTPUTDIR) + '/collapse_table/',\n",
    "                      outputdir = os.path.abspath(OUTPUTDIR) + '/ematch_table/',\n",
    "                      replibrary = ALU_REF_LIB,\n",
    "                      refway = REF_GENOME,\n",
    "                      restrict_site = RESTRICT_SITE,\n",
    "                      max_dist = MAX_DIST,\n",
    "                      min_dist = 100,\n",
    "                      min_read = MIN_READ,\n",
    "                      inswindow = FIX_WINDOW,\n",
    "                      direction = 5,\n",
    "                      n_core = NCORE)"
   ]
  },
  {
   "cell_type": "markdown",
   "metadata": {},
   "source": [
    "#### 6. Delete fix and polymorph ALU from reads"
   ]
  },
  {
   "cell_type": "code",
   "execution_count": 105,
   "metadata": {},
   "outputs": [
    {
     "data": {
      "application/vnd.jupyter.widget-view+json": {
       "model_id": "d6705f1403014bc28159a26c8a23d282",
       "version_major": 2,
       "version_minor": 0
      },
      "text/plain": [
       "rep: test_sample_1000__:   0%|          | 0/46 [00:00<?, ?it/s]"
      ]
     },
     "metadata": {},
     "output_type": "display_data"
    },
    {
     "data": {
      "application/vnd.jupyter.widget-view+json": {
       "model_id": "86550f4a785744a7a2a2cd82f9e17e7a",
       "version_major": 2,
       "version_minor": 0
      },
      "text/plain": [
       "test_sample_1000__:   0%|          | 0/545 [00:00<?, ?it/s]"
      ]
     },
     "metadata": {},
     "output_type": "display_data"
    }
   ],
   "source": [
    "import intersection_fpALU\n",
    "imp.reload(intersection_fpALU)\n",
    "\n",
    "intersection_fpALU.main(inputdir = os.path.abspath(OUTPUTDIR) + '/collapse_table/',\n",
    "                        outputdir = os.path.abspath(OUTPUTDIR) + '/notfpALU_table/',\n",
    "                        outputdir_fix = os.path.abspath(OUTPUTDIR) + '/fix_ins_table/',\n",
    "                        replib_inputdir = os.path.abspath(OUTPUTDIR) + '/ematch_table/',\n",
    "                        inswindow = INSWINDOW_FIX,\n",
    "                        fix_ins = None,\n",
    "                        n_core = NCORE)"
   ]
  },
  {
   "cell_type": "markdown",
   "metadata": {},
   "source": [
    "###  <font color='blue'>Filters</font> \n"
   ]
  },
  {
   "cell_type": "markdown",
   "metadata": {},
   "source": [
    "#### 7. Find restrict site around intergration point"
   ]
  },
  {
   "cell_type": "code",
   "execution_count": 107,
   "metadata": {},
   "outputs": [
    {
     "data": {
      "application/vnd.jupyter.widget-view+json": {
       "model_id": "a9733524aa644cbab4879c5c22a4a414",
       "version_major": 2,
       "version_minor": 0
      },
      "text/plain": [
       "test_sample_1000__:   0%|          | 0/85 [00:00<?, ?it/s]"
      ]
     },
     "metadata": {},
     "output_type": "display_data"
    }
   ],
   "source": [
    "import misseq\n",
    "imp.reload(misseq)\n",
    "\n",
    "misseq.main(inputdir = os.path.abspath(OUTPUTDIR) + '/notfpALU_table/',\n",
    "            outputdir = os.path.abspath(OUTPUTDIR) + '/filter_rsite/',\n",
    "            refway = REF_GENOME,\n",
    "            mseq = RESTRICT_SITE,\n",
    "            mname = \"R_SITE\",\n",
    "            shift = SHIFT_RESTRICT_SITE,\n",
    "            n_core = NCORE)"
   ]
  },
  {
   "cell_type": "markdown",
   "metadata": {},
   "source": [
    "#### 8. Find primer in flank"
   ]
  },
  {
   "cell_type": "code",
   "execution_count": 108,
   "metadata": {},
   "outputs": [
    {
     "data": {
      "application/vnd.jupyter.widget-view+json": {
       "model_id": "afc47c31ad6b4834b6d9bb0a667955c5",
       "version_major": 2,
       "version_minor": 0
      },
      "text/plain": [
       "test_sample_1000__:   0%|          | 0/85 [00:00<?, ?it/s]"
      ]
     },
     "metadata": {},
     "output_type": "display_data"
    }
   ],
   "source": [
    "import misseq\n",
    "imp.reload(misseq)\n",
    "\n",
    "misseq.main(inputdir = os.path.abspath(OUTPUTDIR) + '/filter_rsite/',\n",
    "            outputdir = os.path.abspath(OUTPUTDIR) + '/filter_primer/',\n",
    "            refway = REF_GENOME,\n",
    "            mseq = PRIMER,\n",
    "            mname = 'MISS_P_HAMMING',\n",
    "            shift = SHIFT_MISS_PRIMER,\n",
    "            n_core = NCORE)"
   ]
  },
  {
   "cell_type": "markdown",
   "metadata": {},
   "source": [
    "#### 9. Find part of RE in flank"
   ]
  },
  {
   "cell_type": "code",
   "execution_count": 109,
   "metadata": {},
   "outputs": [
    {
     "data": {
      "application/vnd.jupyter.widget-view+json": {
       "model_id": "ebcdaa2b73f34701b1a8eaf728dd39ee",
       "version_major": 2,
       "version_minor": 0
      },
      "text/plain": [
       "test_sample_1000__:   0%|          | 0/85 [00:00<?, ?it/s]"
      ]
     },
     "metadata": {},
     "output_type": "display_data"
    }
   ],
   "source": [
    "import misseq\n",
    "imp.reload(misseq)\n",
    "\n",
    "misseq.main(inputdir = os.path.abspath(OUTPUTDIR) + '/filter_primer/',\n",
    "            outputdir = os.path.abspath(OUTPUTDIR) + '/filter_re/',\n",
    "            refway = REF_GENOME,\n",
    "            mseq = None,\n",
    "            mname = 'MISS_RE_HAMMING',\n",
    "            shift = SHIFT_MISS_RE,\n",
    "            n_core = NCORE)"
   ]
  },
  {
   "cell_type": "markdown",
   "metadata": {},
   "source": [
    "#### 10. Intersect with repeats"
   ]
  },
  {
   "cell_type": "code",
   "execution_count": 111,
   "metadata": {},
   "outputs": [
    {
     "data": {
      "application/vnd.jupyter.widget-view+json": {
       "model_id": "ebc030bddfb34764a362a85c85712416",
       "version_major": 2,
       "version_minor": 0
      },
      "text/plain": [
       "replib:   0%|          | 0/24 [00:00<?, ?it/s]"
      ]
     },
     "metadata": {},
     "output_type": "display_data"
    },
    {
     "data": {
      "application/vnd.jupyter.widget-view+json": {
       "model_id": "177457b48ad04a64b656e67e3cd54ab9",
       "version_major": 2,
       "version_minor": 0
      },
      "text/plain": [
       "test_sample_1000__:   0%|          | 0/34 [00:00<?, ?it/s]"
      ]
     },
     "metadata": {},
     "output_type": "display_data"
    }
   ],
   "source": [
    "import intersection_replib\n",
    "imp.reload(intersection_replib)\n",
    "\n",
    "intersection_replib.main(inputdir = os.path.abspath(OUTPUTDIR) + '/filter_re/',\n",
    "                         outputdir = os.path.abspath(OUTPUTDIR) + '/filter_replib/',\n",
    "                         repeatway = REPEATS_REF_LIB,\n",
    "                         n_core = NCORE)"
   ]
  },
  {
   "cell_type": "markdown",
   "metadata": {},
   "source": [
    "#### 11. Apply filters"
   ]
  },
  {
   "cell_type": "code",
   "execution_count": 114,
   "metadata": {},
   "outputs": [],
   "source": [
    "import trash_deleting\n",
    "imp.reload(trash_deleting)\n",
    "\n",
    "trash_deleting.main(inputdir = os.path.abspath(OUTPUTDIR) + '/filter_replib/',\n",
    "                    outputdir = os.path.abspath(OUTPUTDIR) + '/pre_metatable/',\n",
    "                    re_hamming = RE_HAMMING,\n",
    "                    flank_errors = FLANK_ERRORS,\n",
    "                    rsite = 'R_SITE',\n",
    "                    repeat = REPEAT,\n",
    "                    m_primer = MISS_PRIMER,\n",
    "                    primer_name = 'P',\n",
    "                    m_re = MISS_RE,\n",
    "                    re_name = 'RE')"
   ]
  },
  {
   "cell_type": "markdown",
   "metadata": {},
   "source": [
    "###  <font color='blue'>Metatable</font> \n"
   ]
  },
  {
   "cell_type": "markdown",
   "metadata": {},
   "source": [
    "#### 12. Metaclustering"
   ]
  },
  {
   "cell_type": "code",
   "execution_count": null,
   "metadata": {},
   "outputs": [],
   "source": [
    "import metacluster\n",
    "imp.reload(metacluster)\n",
    "\n",
    "metacluster.main(inputdir = os.path.abspath(OUTPUTDIR) + '/pre_metatable/',\n",
    "                 outputdir = os.path.abspath(OUTPUTDIR) + '/metatable_somatic/',\n",
    "                 pcdir = os.path.abspath(OUTPUTDIR) + '/collapse_table/',\n",
    "                 target_re = RE,\n",
    "                 window = WINDOW,\n",
    "                 blen = BLEN)"
   ]
  },
  {
   "cell_type": "code",
   "execution_count": null,
   "metadata": {},
   "outputs": [],
   "source": [
    "import metacluster\n",
    "imp.reload(metacluster)\n",
    "\n",
    "metacluster.main(inputdir = os.path.abspath(OUTPUTDIR) + '/fix_ins_table/',\n",
    "                 outputdir = os.path.abspath(OUTPUTDIR) + '/metatable_fix/',\n",
    "                 pcdir = os.path.abspath(OUTPUTDIR) + '/collapse_table/',\n",
    "                 target_re = RE,\n",
    "                 window = WINDOW,\n",
    "                 blen = BLEN)"
   ]
  },
  {
   "cell_type": "markdown",
   "metadata": {},
   "source": [
    "#### 13. Template switch"
   ]
  },
  {
   "cell_type": "code",
   "execution_count": null,
   "metadata": {},
   "outputs": [],
   "source": [
    "import template_switch\n",
    "imp.reload(template_switch)\n",
    "\n",
    "template_switch.main(inputdir = os.path.abspath(OUTPUTDIR) + '/metatable_somatic/',\n",
    "                     outputdir = os.path.abspath(OUTPUTDIR) + '/result_somatic/',\n",
    "                     primer = PRIMER,\n",
    "                     main_flank_len = MAIN_FLANK_LEN,\n",
    "                     template_switch_md = TEMPLATE_SWITCH_MD,\n",
    "                     refway = BWA_INDEX,\n",
    "                     bwaway = 'bwa')"
   ]
  },
  {
   "cell_type": "code",
   "execution_count": null,
   "metadata": {},
   "outputs": [],
   "source": [
    "import template_switch\n",
    "imp.reload(template_switch)\n",
    "\n",
    "template_switch.main(inputdir = os.path.abspath(OUTPUTDIR) + '/metatable_fix/',\n",
    "                     outputdir = os.path.abspath(OUTPUTDIR) + '/result_fix/',\n",
    "                     primer = PRIMER,\n",
    "                     main_flank_len = MAIN_FLANK_LEN,\n",
    "                     template_switch_md = TEMPLATE_SWITCH_MD,\n",
    "                     refway = BWA_INDEX,\n",
    "                     bwaway = 'bwa')"
   ]
  },
  {
   "cell_type": "markdown",
   "metadata": {},
   "source": [
    "# Result\n",
    "\n",
    "### you can pull output table from 'result' folder in outputdir. Needed file is called 'metatable_ts.txt'"
   ]
  }
 ],
 "metadata": {
  "kernelspec": {
   "display_name": "Python 3 (ipykernel)",
   "language": "python",
   "name": "python3"
  },
  "language_info": {
   "codemirror_mode": {
    "name": "ipython",
    "version": 3
   },
   "file_extension": ".py",
   "mimetype": "text/x-python",
   "name": "python",
   "nbconvert_exporter": "python",
   "pygments_lexer": "ipython3",
   "version": "3.11.4"
  }
 },
 "nbformat": 4,
 "nbformat_minor": 1
}
