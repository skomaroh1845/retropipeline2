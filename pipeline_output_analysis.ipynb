{
 "cells": [
  {
   "cell_type": "code",
   "execution_count": 18,
   "id": "63c8357d-aca0-43ac-ad76-d8954b6d133d",
   "metadata": {},
   "outputs": [
    {
     "name": "stdout",
     "output_type": "stream",
     "text": [
      "/mnt/c/Users/Komar/Lab/retroparty\n"
     ]
    }
   ],
   "source": [
    "import os\n",
    "import time\n",
    "print(os.getcwd())"
   ]
  },
  {
   "cell_type": "code",
   "execution_count": 25,
   "id": "1b91bd6f-b591-40e3-ad7e-c4d43ca38fa4",
   "metadata": {},
   "outputs": [
    {
     "name": "stdout",
     "output_type": "stream",
     "text": [
      "['BC60', 'BC66', 'BC70', 'BLC1', 'CC107', 'CC127', 'CC18', 'CC46', 'CC5', 'CC82', 'CC94', 'CC96', 'CC99', 'GC39', 'GC41', 'LS1', 'LS6', 'M14', 'M21', 'M22', 'NC5', 'OC14', 'OC33', 'OC40', 'OC42', 'OC48', 'OC50', 'OC54', 'OT1', 'PC12', 'PC14', 'PC21', 'PC32', 'SkC6', 'StS1', 'UC2']\n"
     ]
    }
   ],
   "source": [
    "os.chdir('/mnt/c/Users/Komar/Lab/OutPutDir/experimental/Alu_AGCT/')\n",
    "print(os.listdir())"
   ]
  },
  {
   "cell_type": "code",
   "execution_count": 26,
   "id": "48d2948a-2b26-472a-bcab-aa6d7dbc20ed",
   "metadata": {},
   "outputs": [
    {
     "name": "stdout",
     "output_type": "stream",
     "text": [
      "CC5 ---------------------------------------------------\n",
      "metatable shape: (236, 32)\n",
      "sample file names: ['CC5-A_S145_ME_L001__', 'MN-CC5-A_S147_ME_L001__']\n",
      "null occurrences: 0\n",
      "all not somatic: 27   including test: 0\n",
      "somatic and quasi-somatic: (209, 32)   including test: 0 \n",
      "\n",
      "CC5-A_S145_ME_L001__ 180   test: 0\n",
      "MN-CC5-A_S147_ME_L001__ 29   test: 0\n",
      "overall num of somatic insertions:  209 \n",
      "\n",
      "CC5-A_S145_ME_L001__  was: 180  become: 72\n",
      "CC5-A_S145_ME_L001__ reads were written\n",
      "MN-CC5-A_S147_ME_L001__  was: 29  become: 14\n",
      "MN-CC5-A_S147_ME_L001__ reads were written\n",
      "\n",
      "Human BLAT Search\n"
     ]
    },
    {
     "name": "stderr",
     "output_type": "stream",
     "text": [
      "CC5-A_S145_ME_L001___R1: 100%|████████████████████████████████████████████████████████████| 7/7 [00:25<00:00,  3.69s/it]\n",
      "CC5-A_S145_ME_L001___R2: 100%|████████████████████████████████████████████████████████████| 7/7 [00:23<00:00,  3.37s/it]\n",
      "MN-CC5-A_S147_ME_L001___R1: 100%|█████████████████████████████████████████████████████████| 1/1 [00:05<00:00,  5.79s/it]\n",
      "MN-CC5-A_S147_ME_L001___R2: 100%|█████████████████████████████████████████████████████████| 1/1 [00:04<00:00,  4.81s/it]\n",
      "blat analysis:: 100%|█████████████████████████████████████████████████████████████████████| 2/2 [00:14<00:00,  7.08s/it]\n"
     ]
    },
    {
     "name": "stdout",
     "output_type": "stream",
     "text": [
      "\n",
      "before: 2024\n",
      "unique names: 64\n",
      "after: 160 \n",
      "\n",
      "before: 22\n",
      "unique names: 13\n",
      "after: 19 \n",
      "\n",
      "Repeat Annotation Request Form\n"
     ]
    },
    {
     "name": "stderr",
     "output_type": "stream",
     "text": [
      "CC5-A_S145_ME_L001__: 100%|███████████████████████████████████████████████████████████| 160/160 [23:52<00:00,  8.96s/it]\n",
      "MN-CC5-A_S147_ME_L001__: 100%|██████████████████████████████████████████████████████████| 19/19 [03:05<00:00,  9.77s/it]\n"
     ]
    },
    {
     "name": "stdout",
     "output_type": "stream",
     "text": [
      "\n",
      "CC82 ---------------------------------------------------\n",
      "metatable shape: (123, 32)\n",
      "sample file names: ['CC82-A_S9_ME_L001__', 'MN-CC82-A_S11_ME_L001__']\n",
      "null occurrences: 0\n",
      "all not somatic: 20   including test: 0\n",
      "somatic and quasi-somatic: (103, 32)   including test: 0 \n",
      "\n",
      "CC82-A_S9_ME_L001__ 56   test: 0\n",
      "MN-CC82-A_S11_ME_L001__ 47   test: 0\n",
      "overall num of somatic insertions:  103 \n",
      "\n",
      "CC82-A_S9_ME_L001__  was: 56  become: 36\n",
      "CC82-A_S9_ME_L001__ reads were written\n",
      "MN-CC82-A_S11_ME_L001__  was: 47  become: 16\n",
      "MN-CC82-A_S11_ME_L001__ reads were written\n",
      "\n",
      "Human BLAT Search\n"
     ]
    },
    {
     "name": "stderr",
     "output_type": "stream",
     "text": [
      "CC82-A_S9_ME_L001___R1: 100%|█████████████████████████████████████████████████████████████| 3/3 [00:14<00:00,  4.75s/it]\n",
      "CC82-A_S9_ME_L001___R2: 100%|█████████████████████████████████████████████████████████████| 3/3 [00:15<00:00,  5.06s/it]\n",
      "MN-CC82-A_S11_ME_L001___R1: 100%|█████████████████████████████████████████████████████████| 1/1 [00:02<00:00,  2.71s/it]\n",
      "MN-CC82-A_S11_ME_L001___R2: 100%|█████████████████████████████████████████████████████████| 1/1 [00:03<00:00,  3.69s/it]\n",
      "blat analysis:: 100%|█████████████████████████████████████████████████████████████████████| 2/2 [00:10<00:00,  5.39s/it]\n"
     ]
    },
    {
     "name": "stdout",
     "output_type": "stream",
     "text": [
      "\n",
      "before: 1790\n",
      "unique names: 36\n",
      "after: 101 \n",
      "\n",
      "before: 623\n",
      "unique names: 16\n",
      "after: 40 \n",
      "\n",
      "Repeat Annotation Request Form\n"
     ]
    },
    {
     "name": "stderr",
     "output_type": "stream",
     "text": [
      "CC82-A_S9_ME_L001__: 100%|████████████████████████████████████████████████████████████| 101/101 [13:49<00:00,  8.21s/it]\n",
      "MN-CC82-A_S11_ME_L001__: 100%|██████████████████████████████████████████████████████████| 40/40 [06:10<00:00,  9.27s/it]\n"
     ]
    },
    {
     "name": "stdout",
     "output_type": "stream",
     "text": [
      "\n",
      "CC94 ---------------------------------------------------\n",
      "metatable shape: (140, 32)\n",
      "sample file names: ['CC94-A_S13_ME_L001__', 'MN-CC94-A_S15_ME_L001__']\n",
      "null occurrences: 0\n",
      "all not somatic: 13   including test: 0\n",
      "somatic and quasi-somatic: (127, 32)   including test: 0 \n",
      "\n",
      "CC94-A_S13_ME_L001__ 89   test: 0\n",
      "MN-CC94-A_S15_ME_L001__ 38   test: 0\n",
      "overall num of somatic insertions:  127 \n",
      "\n",
      "CC94-A_S13_ME_L001__  was: 89  become: 35\n",
      "CC94-A_S13_ME_L001__ reads were written\n",
      "MN-CC94-A_S15_ME_L001__  was: 38  become: 16\n",
      "MN-CC94-A_S15_ME_L001__ reads were written\n",
      "\n",
      "Human BLAT Search\n"
     ]
    },
    {
     "name": "stderr",
     "output_type": "stream",
     "text": [
      "CC94-A_S13_ME_L001___R1: 100%|████████████████████████████████████████████████████████████| 3/3 [00:12<00:00,  4.01s/it]\n",
      "CC94-A_S13_ME_L001___R2: 100%|████████████████████████████████████████████████████████████| 3/3 [00:12<00:00,  4.17s/it]\n",
      "MN-CC94-A_S15_ME_L001___R1: 100%|█████████████████████████████████████████████████████████| 1/1 [00:03<00:00,  3.08s/it]\n",
      "MN-CC94-A_S15_ME_L001___R2: 100%|█████████████████████████████████████████████████████████| 1/1 [00:02<00:00,  2.57s/it]\n",
      "blat analysis:: 100%|█████████████████████████████████████████████████████████████████████| 2/2 [00:06<00:00,  3.13s/it]\n"
     ]
    },
    {
     "name": "stdout",
     "output_type": "stream",
     "text": [
      "\n",
      "before: 148\n",
      "unique names: 35\n",
      "after: 80 \n",
      "\n",
      "before: 81\n",
      "unique names: 16\n",
      "after: 37 \n",
      "\n",
      "Repeat Annotation Request Form\n"
     ]
    },
    {
     "name": "stderr",
     "output_type": "stream",
     "text": [
      "CC94-A_S13_ME_L001__: 100%|█████████████████████████████████████████████████████████████| 80/80 [11:53<00:00,  8.92s/it]\n",
      "MN-CC94-A_S15_ME_L001__: 100%|██████████████████████████████████████████████████████████| 37/37 [06:47<00:00, 11.02s/it]\n"
     ]
    },
    {
     "name": "stdout",
     "output_type": "stream",
     "text": [
      "\n",
      "CC96 ---------------------------------------------------\n",
      "metatable shape: (167, 32)\n",
      "sample file names: ['CC96-A_S65_ME_L001__', 'MN-CC96-A_S67_ME_L001__']\n",
      "null occurrences: 0\n",
      "all not somatic: 37   including test: 0\n",
      "somatic and quasi-somatic: (130, 32)   including test: 0 \n",
      "\n",
      "CC96-A_S65_ME_L001__ 82   test: 0\n",
      "MN-CC96-A_S67_ME_L001__ 48   test: 0\n",
      "overall num of somatic insertions:  130 \n",
      "\n",
      "CC96-A_S65_ME_L001__  was: 82  become: 28\n",
      "CC96-A_S65_ME_L001__ reads were written\n",
      "MN-CC96-A_S67_ME_L001__  was: 48  become: 15\n",
      "MN-CC96-A_S67_ME_L001__ reads were written\n",
      "\n",
      "Human BLAT Search\n"
     ]
    },
    {
     "name": "stderr",
     "output_type": "stream",
     "text": [
      "CC96-A_S65_ME_L001___R1: 100%|████████████████████████████████████████████████████████████| 2/2 [00:07<00:00,  3.78s/it]\n",
      "CC96-A_S65_ME_L001___R2: 100%|████████████████████████████████████████████████████████████| 2/2 [00:07<00:00,  3.69s/it]\n",
      "MN-CC96-A_S67_ME_L001___R1: 100%|█████████████████████████████████████████████████████████| 1/1 [00:03<00:00,  3.51s/it]\n",
      "MN-CC96-A_S67_ME_L001___R2: 100%|█████████████████████████████████████████████████████████| 1/1 [00:03<00:00,  3.26s/it]\n",
      "blat analysis:: 100%|█████████████████████████████████████████████████████████████████████| 2/2 [00:06<00:00,  3.29s/it]\n"
     ]
    },
    {
     "name": "stdout",
     "output_type": "stream",
     "text": [
      "\n",
      "before: 39\n",
      "unique names: 27\n",
      "after: 39 \n",
      "\n",
      "before: 37\n",
      "unique names: 15\n",
      "after: 28 \n",
      "\n",
      "Repeat Annotation Request Form\n"
     ]
    },
    {
     "name": "stderr",
     "output_type": "stream",
     "text": [
      "CC96-A_S65_ME_L001__: 100%|█████████████████████████████████████████████████████████████| 39/39 [07:53<00:00, 12.14s/it]\n",
      "MN-CC96-A_S67_ME_L001__: 100%|██████████████████████████████████████████████████████████| 28/28 [05:06<00:00, 10.93s/it]\n"
     ]
    },
    {
     "name": "stdout",
     "output_type": "stream",
     "text": [
      "\n",
      "CC99 ---------------------------------------------------\n",
      "metatable shape: (123, 32)\n",
      "sample file names: ['CC99-A_S69_ME_L001__', 'MN-CC99-A_S71_ME_L001__']\n",
      "null occurrences: 0\n",
      "all not somatic: 17   including test: 0\n",
      "somatic and quasi-somatic: (106, 32)   including test: 0 \n",
      "\n",
      "CC99-A_S69_ME_L001__ 71   test: 0\n",
      "MN-CC99-A_S71_ME_L001__ 35   test: 0\n",
      "overall num of somatic insertions:  106 \n",
      "\n",
      "CC99-A_S69_ME_L001__  was: 71  become: 27\n",
      "CC99-A_S69_ME_L001__ reads were written\n",
      "MN-CC99-A_S71_ME_L001__  was: 35  become: 15\n",
      "MN-CC99-A_S71_ME_L001__ reads were written\n",
      "\n",
      "Human BLAT Search\n"
     ]
    },
    {
     "name": "stderr",
     "output_type": "stream",
     "text": [
      "CC99-A_S69_ME_L001___R1: 100%|████████████████████████████████████████████████████████████| 2/2 [00:07<00:00,  3.63s/it]\n",
      "CC99-A_S69_ME_L001___R2: 100%|████████████████████████████████████████████████████████████| 2/2 [00:07<00:00,  3.97s/it]\n",
      "MN-CC99-A_S71_ME_L001___R1: 100%|█████████████████████████████████████████████████████████| 1/1 [00:04<00:00,  4.60s/it]\n",
      "MN-CC99-A_S71_ME_L001___R2: 100%|█████████████████████████████████████████████████████████| 1/1 [00:03<00:00,  3.44s/it]\n",
      "blat analysis:: 100%|█████████████████████████████████████████████████████████████████████| 2/2 [00:06<00:00,  3.32s/it]\n"
     ]
    },
    {
     "name": "stdout",
     "output_type": "stream",
     "text": [
      "\n",
      "before: 324\n",
      "unique names: 27\n",
      "after: 59 \n",
      "\n",
      "before: 323\n",
      "unique names: 13\n",
      "after: 35 \n",
      "\n",
      "Repeat Annotation Request Form\n"
     ]
    },
    {
     "name": "stderr",
     "output_type": "stream",
     "text": [
      "CC99-A_S69_ME_L001__: 100%|█████████████████████████████████████████████████████████████| 59/59 [10:51<00:00, 11.05s/it]\n",
      "MN-CC99-A_S71_ME_L001__: 100%|██████████████████████████████████████████████████████████| 35/35 [04:54<00:00,  8.41s/it]\n"
     ]
    },
    {
     "name": "stdout",
     "output_type": "stream",
     "text": [
      "\n",
      "GC39 ---------------------------------------------------\n",
      "metatable shape: (152, 32)\n",
      "sample file names: ['GC39-A_S61_ME_L001__', 'MN-GC39-A_S63_ME_L001__']\n",
      "null occurrences: 0\n",
      "all not somatic: 32   including test: 0\n",
      "somatic and quasi-somatic: (120, 32)   including test: 0 \n",
      "\n",
      "GC39-A_S61_ME_L001__ 59   test: 0\n",
      "MN-GC39-A_S63_ME_L001__ 61   test: 0\n",
      "overall num of somatic insertions:  120 \n",
      "\n",
      "GC39-A_S61_ME_L001__  was: 59  become: 26\n",
      "GC39-A_S61_ME_L001__ reads were written\n",
      "MN-GC39-A_S63_ME_L001__  was: 61  become: 28\n",
      "MN-GC39-A_S63_ME_L001__ reads were written\n",
      "\n",
      "Human BLAT Search\n"
     ]
    },
    {
     "name": "stderr",
     "output_type": "stream",
     "text": [
      "GC39-A_S61_ME_L001___R1: 100%|████████████████████████████████████████████████████████████| 2/2 [00:07<00:00,  3.79s/it]\n",
      "GC39-A_S61_ME_L001___R2: 100%|████████████████████████████████████████████████████████████| 2/2 [00:07<00:00,  3.61s/it]\n",
      "MN-GC39-A_S63_ME_L001___R1: 100%|█████████████████████████████████████████████████████████| 2/2 [00:07<00:00,  3.76s/it]\n",
      "MN-GC39-A_S63_ME_L001___R2: 100%|█████████████████████████████████████████████████████████| 2/2 [00:07<00:00,  3.92s/it]\n",
      "blat analysis:: 100%|█████████████████████████████████████████████████████████████████████| 2/2 [00:06<00:00,  3.06s/it]\n"
     ]
    },
    {
     "name": "stdout",
     "output_type": "stream",
     "text": [
      "\n",
      "before: 79\n",
      "unique names: 25\n",
      "after: 41 \n",
      "\n",
      "before: 165\n",
      "unique names: 27\n",
      "after: 58 \n",
      "\n",
      "Repeat Annotation Request Form\n"
     ]
    },
    {
     "name": "stderr",
     "output_type": "stream",
     "text": [
      "GC39-A_S61_ME_L001__: 100%|█████████████████████████████████████████████████████████████| 41/41 [08:40<00:00, 12.70s/it]\n",
      "MN-GC39-A_S63_ME_L001__: 100%|██████████████████████████████████████████████████████████| 58/58 [10:31<00:00, 10.89s/it]\n"
     ]
    },
    {
     "name": "stdout",
     "output_type": "stream",
     "text": [
      "\n",
      "GC41 ---------------------------------------------------\n",
      "metatable shape: (152, 32)\n",
      "sample file names: ['GC41-A_S153_ME_L001__', 'MN-GC41-A_S155_ME_L001__']\n",
      "null occurrences: 0\n",
      "all not somatic: 25   including test: 0\n",
      "somatic and quasi-somatic: (127, 32)   including test: 0 \n",
      "\n",
      "GC41-A_S153_ME_L001__ 69   test: 0\n",
      "MN-GC41-A_S155_ME_L001__ 58   test: 0\n",
      "overall num of somatic insertions:  127 \n",
      "\n",
      "GC41-A_S153_ME_L001__  was: 69  become: 29\n",
      "GC41-A_S153_ME_L001__ reads were written\n",
      "MN-GC41-A_S155_ME_L001__  was: 58  become: 21\n",
      "MN-GC41-A_S155_ME_L001__ reads were written\n",
      "\n",
      "Human BLAT Search\n"
     ]
    },
    {
     "name": "stderr",
     "output_type": "stream",
     "text": [
      "GC41-A_S153_ME_L001___R1: 100%|███████████████████████████████████████████████████████████| 2/2 [00:07<00:00,  3.58s/it]\n",
      "GC41-A_S153_ME_L001___R2: 100%|███████████████████████████████████████████████████████████| 2/2 [00:06<00:00,  3.20s/it]\n",
      "MN-GC41-A_S155_ME_L001___R1: 100%|████████████████████████████████████████████████████████| 2/2 [00:07<00:00,  3.52s/it]\n",
      "MN-GC41-A_S155_ME_L001___R2: 100%|████████████████████████████████████████████████████████| 2/2 [00:06<00:00,  3.37s/it]\n",
      "blat analysis:: 100%|█████████████████████████████████████████████████████████████████████| 2/2 [00:07<00:00,  3.67s/it]\n"
     ]
    },
    {
     "name": "stdout",
     "output_type": "stream",
     "text": [
      "\n",
      "before: 590\n",
      "unique names: 29\n",
      "after: 65 \n",
      "\n",
      "before: 263\n",
      "unique names: 21\n",
      "after: 52 \n",
      "\n",
      "Repeat Annotation Request Form\n"
     ]
    },
    {
     "name": "stderr",
     "output_type": "stream",
     "text": [
      "GC41-A_S153_ME_L001__: 100%|████████████████████████████████████████████████████████████| 65/65 [14:29<00:00, 13.38s/it]\n",
      "MN-GC41-A_S155_ME_L001__: 100%|█████████████████████████████████████████████████████████| 52/52 [08:34<00:00,  9.90s/it]\n"
     ]
    },
    {
     "name": "stdout",
     "output_type": "stream",
     "text": [
      "\n",
      "LS1 ---------------------------------------------------\n",
      "metatable shape: (75, 32)\n",
      "sample file names: ['LS1-A_S137_ME_L001__', 'MN-LS1-A_S139_ME_L001__']\n",
      "null occurrences: 0\n",
      "all not somatic: 0   including test: 0\n",
      "somatic and quasi-somatic: (75, 32)   including test: 0 \n",
      "\n",
      "LS1-A_S137_ME_L001__ 57   test: 0\n",
      "MN-LS1-A_S139_ME_L001__ 18   test: 0\n",
      "overall num of somatic insertions:  75 \n",
      "\n",
      "LS1-A_S137_ME_L001__  was: 57  become: 17\n",
      "LS1-A_S137_ME_L001__ reads were written\n",
      "MN-LS1-A_S139_ME_L001__  was: 18  become: 9\n",
      "MN-LS1-A_S139_ME_L001__ reads were written\n",
      "\n",
      "Human BLAT Search\n"
     ]
    },
    {
     "name": "stderr",
     "output_type": "stream",
     "text": [
      "LS1-A_S137_ME_L001___R1: 100%|████████████████████████████████████████████████████████████| 1/1 [00:04<00:00,  4.25s/it]\n",
      "LS1-A_S137_ME_L001___R2: 100%|████████████████████████████████████████████████████████████| 1/1 [00:03<00:00,  3.98s/it]\n",
      "MN-LS1-A_S139_ME_L001___R1: 0it [00:00, ?it/s]\n",
      "MN-LS1-A_S139_ME_L001___R2: 0it [00:00, ?it/s]\n",
      "blat analysis:: 100%|█████████████████████████████████████████████████████████████████████| 2/2 [00:02<00:00,  1.45s/it]\n"
     ]
    },
    {
     "name": "stdout",
     "output_type": "stream",
     "text": [
      "\n",
      "before: 315\n",
      "unique names: 16\n",
      "after: 39 \n",
      "\n",
      "before: 16\n",
      "unique names: 9\n",
      "after: 16 \n",
      "\n",
      "Repeat Annotation Request Form\n"
     ]
    },
    {
     "name": "stderr",
     "output_type": "stream",
     "text": [
      "LS1-A_S137_ME_L001__: 100%|█████████████████████████████████████████████████████████████| 39/39 [06:40<00:00, 10.28s/it]\n",
      "MN-LS1-A_S139_ME_L001__: 100%|██████████████████████████████████████████████████████████| 16/16 [03:39<00:00, 13.75s/it]\n"
     ]
    },
    {
     "name": "stdout",
     "output_type": "stream",
     "text": [
      "\n",
      "LS6 ---------------------------------------------------\n",
      "metatable shape: (126, 32)\n",
      "sample file names: ['LS6-A_S45_ME_L001__', 'MN-LS6-A_S47_ME_L001__']\n",
      "null occurrences: 0\n",
      "all not somatic: 25   including test: 0\n",
      "somatic and quasi-somatic: (101, 32)   including test: 0 \n",
      "\n",
      "LS6-A_S45_ME_L001__ 28   test: 0\n",
      "MN-LS6-A_S47_ME_L001__ 73   test: 0\n",
      "overall num of somatic insertions:  101 \n",
      "\n",
      "LS6-A_S45_ME_L001__  was: 28  become: 1\n",
      "LS6-A_S45_ME_L001__ reads were written\n",
      "MN-LS6-A_S47_ME_L001__  was: 73  become: 21\n",
      "MN-LS6-A_S47_ME_L001__ reads were written\n",
      "\n",
      "Human BLAT Search\n"
     ]
    },
    {
     "name": "stderr",
     "output_type": "stream",
     "text": [
      "LS6-A_S45_ME_L001___R1: 0it [00:00, ?it/s]\n",
      "LS6-A_S45_ME_L001___R2: 0it [00:00, ?it/s]\n",
      "MN-LS6-A_S47_ME_L001___R1: 100%|██████████████████████████████████████████████████████████| 2/2 [00:05<00:00,  2.75s/it]\n",
      "MN-LS6-A_S47_ME_L001___R2: 100%|██████████████████████████████████████████████████████████| 2/2 [00:05<00:00,  2.65s/it]\n",
      "blat analysis:: 100%|█████████████████████████████████████████████████████████████████████| 2/2 [00:01<00:00,  1.37it/s]\n"
     ]
    },
    {
     "name": "stdout",
     "output_type": "stream",
     "text": [
      "\n",
      "before: 25\n",
      "unique names: 1\n",
      "after: 5 \n",
      "\n",
      "before: 229\n",
      "unique names: 20\n",
      "after: 32 \n",
      "\n",
      "Repeat Annotation Request Form\n"
     ]
    },
    {
     "name": "stderr",
     "output_type": "stream",
     "text": [
      "LS6-A_S45_ME_L001__: 100%|████████████████████████████████████████████████████████████████| 5/5 [00:49<00:00,  9.97s/it]\n",
      "MN-LS6-A_S47_ME_L001__: 100%|███████████████████████████████████████████████████████████| 32/32 [08:15<00:00, 15.47s/it]\n"
     ]
    },
    {
     "name": "stdout",
     "output_type": "stream",
     "text": [
      "\n",
      "M14 ---------------------------------------------------\n",
      "metatable shape: (153, 32)\n",
      "sample file names: ['M14-A_S93_ME_L001__', 'MN-M14-A_S95_ME_L001__']\n",
      "null occurrences: 0\n",
      "all not somatic: 45   including test: 0\n",
      "somatic and quasi-somatic: (108, 32)   including test: 0 \n",
      "\n",
      "M14-A_S93_ME_L001__ 45   test: 0\n",
      "MN-M14-A_S95_ME_L001__ 63   test: 0\n",
      "overall num of somatic insertions:  108 \n",
      "\n",
      "M14-A_S93_ME_L001__  was: 45  become: 18\n",
      "M14-A_S93_ME_L001__ reads were written\n",
      "MN-M14-A_S95_ME_L001__  was: 63  become: 26\n",
      "MN-M14-A_S95_ME_L001__ reads were written\n",
      "\n",
      "Human BLAT Search\n"
     ]
    },
    {
     "name": "stderr",
     "output_type": "stream",
     "text": [
      "M14-A_S93_ME_L001___R1: 100%|█████████████████████████████████████████████████████████████| 1/1 [00:03<00:00,  3.27s/it]\n",
      "M14-A_S93_ME_L001___R2: 100%|█████████████████████████████████████████████████████████████| 1/1 [00:03<00:00,  3.34s/it]\n",
      "MN-M14-A_S95_ME_L001___R1: 100%|██████████████████████████████████████████████████████████| 2/2 [00:06<00:00,  3.07s/it]\n",
      "MN-M14-A_S95_ME_L001___R2: 100%|██████████████████████████████████████████████████████████| 2/2 [00:06<00:00,  3.06s/it]\n",
      "blat analysis:: 100%|█████████████████████████████████████████████████████████████████████| 2/2 [00:07<00:00,  3.96s/it]\n"
     ]
    },
    {
     "name": "stdout",
     "output_type": "stream",
     "text": [
      "\n",
      "before: 237\n",
      "unique names: 18\n",
      "after: 43 \n",
      "\n",
      "before: 234\n",
      "unique names: 26\n",
      "after: 37 \n",
      "\n",
      "Repeat Annotation Request Form\n"
     ]
    },
    {
     "name": "stderr",
     "output_type": "stream",
     "text": [
      "M14-A_S93_ME_L001__: 100%|██████████████████████████████████████████████████████████████| 43/43 [07:30<00:00, 10.48s/it]\n",
      "MN-M14-A_S95_ME_L001__: 100%|███████████████████████████████████████████████████████████| 37/37 [07:34<00:00, 12.29s/it]\n"
     ]
    },
    {
     "name": "stdout",
     "output_type": "stream",
     "text": [
      "\n",
      "M21 ---------------------------------------------------\n",
      "metatable shape: (166, 32)\n",
      "sample file names: ['M21-A_S81_ME_L001__', 'MN-M21-A_S83_ME_L001__']\n",
      "null occurrences: 0\n",
      "all not somatic: 39   including test: 0\n",
      "somatic and quasi-somatic: (127, 32)   including test: 0 \n",
      "\n",
      "M21-A_S81_ME_L001__ 64   test: 0\n",
      "MN-M21-A_S83_ME_L001__ 63   test: 0\n",
      "overall num of somatic insertions:  127 \n",
      "\n",
      "M21-A_S81_ME_L001__  was: 64  become: 32\n",
      "M21-A_S81_ME_L001__ reads were written\n",
      "MN-M21-A_S83_ME_L001__  was: 63  become: 27\n",
      "MN-M21-A_S83_ME_L001__ reads were written\n",
      "\n",
      "Human BLAT Search\n"
     ]
    },
    {
     "name": "stderr",
     "output_type": "stream",
     "text": [
      "M21-A_S81_ME_L001___R1: 100%|█████████████████████████████████████████████████████████████| 3/3 [00:12<00:00,  4.25s/it]\n",
      "M21-A_S81_ME_L001___R2: 100%|█████████████████████████████████████████████████████████████| 3/3 [00:12<00:00,  4.13s/it]\n",
      "MN-M21-A_S83_ME_L001___R1: 100%|██████████████████████████████████████████████████████████| 2/2 [00:07<00:00,  3.90s/it]\n",
      "MN-M21-A_S83_ME_L001___R2: 100%|██████████████████████████████████████████████████████████| 2/2 [00:07<00:00,  3.65s/it]\n",
      "blat analysis:: 100%|█████████████████████████████████████████████████████████████████████| 2/2 [00:06<00:00,  3.48s/it]\n"
     ]
    },
    {
     "name": "stdout",
     "output_type": "stream",
     "text": [
      "\n",
      "before: 218\n",
      "unique names: 31\n",
      "after: 59 \n",
      "\n",
      "before: 129\n",
      "unique names: 26\n",
      "after: 60 \n",
      "\n",
      "Repeat Annotation Request Form\n"
     ]
    },
    {
     "name": "stderr",
     "output_type": "stream",
     "text": [
      "M21-A_S81_ME_L001__: 100%|██████████████████████████████████████████████████████████████| 59/59 [09:06<00:00,  9.27s/it]\n",
      "MN-M21-A_S83_ME_L001__: 100%|███████████████████████████████████████████████████████████| 60/60 [09:57<00:00,  9.97s/it]\n"
     ]
    },
    {
     "name": "stdout",
     "output_type": "stream",
     "text": [
      "\n",
      "M22 ---------------------------------------------------\n",
      "metatable shape: (148, 32)\n",
      "sample file names: ['M22-A_S97_ME_L001__', 'MN-M22-A_S99_ME_L001__']\n",
      "null occurrences: 0\n",
      "all not somatic: 25   including test: 0\n",
      "somatic and quasi-somatic: (123, 32)   including test: 0 \n",
      "\n",
      "M22-A_S97_ME_L001__ 73   test: 0\n",
      "MN-M22-A_S99_ME_L001__ 50   test: 0\n",
      "overall num of somatic insertions:  123 \n",
      "\n",
      "M22-A_S97_ME_L001__  was: 73  become: 31\n",
      "M22-A_S97_ME_L001__ reads were written\n",
      "MN-M22-A_S99_ME_L001__  was: 50  become: 23\n",
      "MN-M22-A_S99_ME_L001__ reads were written\n",
      "\n",
      "Human BLAT Search\n"
     ]
    },
    {
     "name": "stderr",
     "output_type": "stream",
     "text": [
      "M22-A_S97_ME_L001___R1: 100%|█████████████████████████████████████████████████████████████| 3/3 [00:10<00:00,  3.46s/it]\n",
      "M22-A_S97_ME_L001___R2: 100%|█████████████████████████████████████████████████████████████| 3/3 [00:10<00:00,  3.62s/it]\n",
      "MN-M22-A_S99_ME_L001___R1: 100%|██████████████████████████████████████████████████████████| 2/2 [00:10<00:00,  5.03s/it]\n",
      "MN-M22-A_S99_ME_L001___R2: 100%|██████████████████████████████████████████████████████████| 2/2 [00:07<00:00,  3.54s/it]\n",
      "blat analysis:: 100%|█████████████████████████████████████████████████████████████████████| 2/2 [00:10<00:00,  5.44s/it]\n"
     ]
    },
    {
     "name": "stdout",
     "output_type": "stream",
     "text": [
      "\n",
      "before: 325\n",
      "unique names: 30\n",
      "after: 53 \n",
      "\n",
      "before: 241\n",
      "unique names: 23\n",
      "after: 42 \n",
      "\n",
      "Repeat Annotation Request Form\n"
     ]
    },
    {
     "name": "stderr",
     "output_type": "stream",
     "text": [
      "M22-A_S97_ME_L001__: 100%|██████████████████████████████████████████████████████████████| 53/53 [09:33<00:00, 10.82s/it]\n",
      "MN-M22-A_S99_ME_L001__: 100%|███████████████████████████████████████████████████████████| 42/42 [08:42<00:00, 12.45s/it]\n"
     ]
    },
    {
     "name": "stdout",
     "output_type": "stream",
     "text": [
      "\n",
      "NC5 ---------------------------------------------------\n",
      "metatable shape: (145, 32)\n",
      "sample file names: ['MN-NC5-A_S87_ME_L001__', 'NC5-A_S85_ME_L001__']\n",
      "null occurrences: 0\n",
      "all not somatic: 22   including test: 0\n",
      "somatic and quasi-somatic: (123, 32)   including test: 0 \n",
      "\n",
      "MN-NC5-A_S87_ME_L001__ 63   test: 0\n",
      "NC5-A_S85_ME_L001__ 60   test: 0\n",
      "overall num of somatic insertions:  123 \n",
      "\n",
      "MN-NC5-A_S87_ME_L001__  was: 63  become: 23\n",
      "MN-NC5-A_S87_ME_L001__ reads were written\n",
      "NC5-A_S85_ME_L001__  was: 60  become: 20\n",
      "NC5-A_S85_ME_L001__ reads were written\n",
      "\n",
      "Human BLAT Search\n"
     ]
    },
    {
     "name": "stderr",
     "output_type": "stream",
     "text": [
      "MN-NC5-A_S87_ME_L001___R1: 100%|██████████████████████████████████████████████████████████| 2/2 [00:05<00:00,  2.63s/it]\n",
      "MN-NC5-A_S87_ME_L001___R2: 100%|██████████████████████████████████████████████████████████| 2/2 [00:05<00:00,  2.56s/it]\n",
      "NC5-A_S85_ME_L001___R1: 100%|█████████████████████████████████████████████████████████████| 2/2 [00:05<00:00,  2.52s/it]\n",
      "NC5-A_S85_ME_L001___R2: 100%|█████████████████████████████████████████████████████████████| 2/2 [00:05<00:00,  2.69s/it]\n",
      "blat analysis:: 100%|█████████████████████████████████████████████████████████████████████| 2/2 [00:05<00:00,  2.54s/it]\n"
     ]
    },
    {
     "name": "stdout",
     "output_type": "stream",
     "text": [
      "\n",
      "before: 427\n",
      "unique names: 22\n",
      "after: 36 \n",
      "\n",
      "before: 46\n",
      "unique names: 20\n",
      "after: 31 \n",
      "\n",
      "Repeat Annotation Request Form\n"
     ]
    },
    {
     "name": "stderr",
     "output_type": "stream",
     "text": [
      "MN-NC5-A_S87_ME_L001__: 100%|███████████████████████████████████████████████████████████| 36/36 [05:31<00:00,  9.22s/it]\n",
      "NC5-A_S85_ME_L001__: 100%|██████████████████████████████████████████████████████████████| 31/31 [04:54<00:00,  9.49s/it]\n"
     ]
    },
    {
     "name": "stdout",
     "output_type": "stream",
     "text": [
      "\n",
      "OC14 ---------------------------------------------------\n",
      "metatable shape: (144, 32)\n",
      "sample file names: ['MN-OC14-A_S111_ME_L001__', 'OC14-A_S109_ME_L001__']\n",
      "null occurrences: 0\n",
      "all not somatic: 29   including test: 0\n",
      "somatic and quasi-somatic: (115, 32)   including test: 0 \n",
      "\n",
      "MN-OC14-A_S111_ME_L001__ 57   test: 0\n",
      "OC14-A_S109_ME_L001__ 58   test: 0\n",
      "overall num of somatic insertions:  115 \n",
      "\n",
      "MN-OC14-A_S111_ME_L001__  was: 57  become: 24\n",
      "MN-OC14-A_S111_ME_L001__ reads were written\n",
      "OC14-A_S109_ME_L001__  was: 58  become: 33\n",
      "OC14-A_S109_ME_L001__ reads were written\n",
      "\n",
      "Human BLAT Search\n"
     ]
    },
    {
     "name": "stderr",
     "output_type": "stream",
     "text": [
      "MN-OC14-A_S111_ME_L001___R1: 100%|████████████████████████████████████████████████████████| 2/2 [00:05<00:00,  2.64s/it]\n",
      "MN-OC14-A_S111_ME_L001___R2: 100%|████████████████████████████████████████████████████████| 2/2 [00:05<00:00,  2.61s/it]\n",
      "OC14-A_S109_ME_L001___R1: 100%|███████████████████████████████████████████████████████████| 3/3 [00:07<00:00,  2.51s/it]\n",
      "OC14-A_S109_ME_L001___R2: 100%|███████████████████████████████████████████████████████████| 3/3 [00:07<00:00,  2.42s/it]\n",
      "blat analysis:: 100%|█████████████████████████████████████████████████████████████████████| 2/2 [00:08<00:00,  4.23s/it]\n"
     ]
    },
    {
     "name": "stdout",
     "output_type": "stream",
     "text": [
      "\n",
      "before: 160\n",
      "unique names: 24\n",
      "after: 47 \n",
      "\n",
      "before: 411\n",
      "unique names: 33\n",
      "after: 67 \n",
      "\n",
      "Repeat Annotation Request Form\n"
     ]
    },
    {
     "name": "stderr",
     "output_type": "stream",
     "text": [
      "MN-OC14-A_S111_ME_L001__: 100%|█████████████████████████████████████████████████████████| 47/47 [11:16<00:00, 14.39s/it]\n",
      "OC14-A_S109_ME_L001__: 100%|████████████████████████████████████████████████████████████| 67/67 [11:42<00:00, 10.49s/it]\n"
     ]
    },
    {
     "name": "stdout",
     "output_type": "stream",
     "text": [
      "\n",
      "OC33 ---------------------------------------------------\n",
      "metatable shape: (303, 32)\n",
      "sample file names: ['MN-OC33-A_S115_ME_L001__', 'OC33-A_S113_ME_L001__']\n",
      "null occurrences: 0\n",
      "all not somatic: 16   including test: 0\n",
      "somatic and quasi-somatic: (287, 32)   including test: 0 \n",
      "\n",
      "MN-OC33-A_S115_ME_L001__ 26   test: 0\n",
      "OC33-A_S113_ME_L001__ 261   test: 0\n",
      "overall num of somatic insertions:  287 \n",
      "\n",
      "MN-OC33-A_S115_ME_L001__  was: 26  become: 10\n",
      "MN-OC33-A_S115_ME_L001__ reads were written\n",
      "OC33-A_S113_ME_L001__  was: 261  become: 86\n",
      "OC33-A_S113_ME_L001__ reads were written\n",
      "\n",
      "Human BLAT Search\n"
     ]
    },
    {
     "name": "stderr",
     "output_type": "stream",
     "text": [
      "MN-OC33-A_S115_ME_L001___R1: 100%|████████████████████████████████████████████████████████| 1/1 [00:02<00:00,  2.17s/it]\n",
      "MN-OC33-A_S115_ME_L001___R2: 100%|████████████████████████████████████████████████████████| 1/1 [00:02<00:00,  2.16s/it]\n",
      "OC33-A_S113_ME_L001___R1: 100%|███████████████████████████████████████████████████████████| 8/8 [00:23<00:00,  2.90s/it]\n",
      "OC33-A_S113_ME_L001___R2: 100%|███████████████████████████████████████████████████████████| 8/8 [00:22<00:00,  2.76s/it]\n",
      "blat analysis:: 100%|█████████████████████████████████████████████████████████████████████| 2/2 [00:24<00:00, 12.22s/it]\n"
     ]
    },
    {
     "name": "stdout",
     "output_type": "stream",
     "text": [
      "\n",
      "before: 228\n",
      "unique names: 10\n",
      "after: 29 \n",
      "\n",
      "before: 2378\n",
      "unique names: 86\n",
      "after: 200 \n",
      "\n",
      "Repeat Annotation Request Form\n"
     ]
    },
    {
     "name": "stderr",
     "output_type": "stream",
     "text": [
      "MN-OC33-A_S115_ME_L001__: 100%|█████████████████████████████████████████████████████████| 29/29 [06:14<00:00, 12.91s/it]\n",
      "OC33-A_S113_ME_L001__: 100%|██████████████████████████████████████████████████████████| 200/200 [32:05<00:00,  9.63s/it]\n"
     ]
    },
    {
     "name": "stdout",
     "output_type": "stream",
     "text": [
      "\n",
      "OC40 ---------------------------------------------------\n",
      "metatable shape: (111, 32)\n",
      "sample file names: ['MN-OC40-A_S79_ME_L001__', 'OC40-A_S77_ME_L001__']\n",
      "null occurrences: 0\n",
      "all not somatic: 10   including test: 0\n",
      "somatic and quasi-somatic: (101, 32)   including test: 0 \n",
      "\n",
      "MN-OC40-A_S79_ME_L001__ 36   test: 0\n",
      "OC40-A_S77_ME_L001__ 65   test: 0\n",
      "overall num of somatic insertions:  101 \n",
      "\n",
      "MN-OC40-A_S79_ME_L001__  was: 36  become: 12\n",
      "MN-OC40-A_S79_ME_L001__ reads were written\n",
      "OC40-A_S77_ME_L001__  was: 65  become: 37\n",
      "OC40-A_S77_ME_L001__ reads were written\n",
      "\n",
      "Human BLAT Search\n"
     ]
    },
    {
     "name": "stderr",
     "output_type": "stream",
     "text": [
      "MN-OC40-A_S79_ME_L001___R1: 100%|█████████████████████████████████████████████████████████| 1/1 [00:02<00:00,  2.51s/it]\n",
      "MN-OC40-A_S79_ME_L001___R2: 100%|█████████████████████████████████████████████████████████| 1/1 [00:02<00:00,  2.37s/it]\n",
      "OC40-A_S77_ME_L001___R1: 100%|████████████████████████████████████████████████████████████| 3/3 [00:08<00:00,  2.72s/it]\n",
      "OC40-A_S77_ME_L001___R2: 100%|████████████████████████████████████████████████████████████| 3/3 [00:08<00:00,  2.72s/it]\n",
      "blat analysis:: 100%|█████████████████████████████████████████████████████████████████████| 2/2 [00:05<00:00,  2.60s/it]\n"
     ]
    },
    {
     "name": "stdout",
     "output_type": "stream",
     "text": [
      "\n",
      "before: 17\n",
      "unique names: 11\n",
      "after: 17 \n",
      "\n",
      "before: 356\n",
      "unique names: 37\n",
      "after: 78 \n",
      "\n",
      "Repeat Annotation Request Form\n"
     ]
    },
    {
     "name": "stderr",
     "output_type": "stream",
     "text": [
      "MN-OC40-A_S79_ME_L001__: 100%|██████████████████████████████████████████████████████████| 17/17 [04:00<00:00, 14.16s/it]\n",
      "OC40-A_S77_ME_L001__: 100%|█████████████████████████████████████████████████████████████| 78/78 [13:16<00:00, 10.21s/it]\n"
     ]
    },
    {
     "name": "stdout",
     "output_type": "stream",
     "text": [
      "\n",
      "OC42 ---------------------------------------------------\n",
      "metatable shape: (218, 32)\n",
      "sample file names: ['MN-OC42-A_S39_ME_L001__', 'OC42-A_S37_ME_L001__']\n",
      "null occurrences: 0\n",
      "all not somatic: 7   including test: 0\n",
      "somatic and quasi-somatic: (211, 32)   including test: 0 \n",
      "\n",
      "MN-OC42-A_S39_ME_L001__ 167   test: 0\n",
      "OC42-A_S37_ME_L001__ 44   test: 0\n",
      "overall num of somatic insertions:  211 \n",
      "\n",
      "MN-OC42-A_S39_ME_L001__  was: 167  become: 66\n",
      "MN-OC42-A_S39_ME_L001__ reads were written\n",
      "OC42-A_S37_ME_L001__  was: 44  become: 19\n",
      "OC42-A_S37_ME_L001__ reads were written\n",
      "\n",
      "Human BLAT Search\n"
     ]
    },
    {
     "name": "stderr",
     "output_type": "stream",
     "text": [
      "MN-OC42-A_S39_ME_L001___R1: 100%|█████████████████████████████████████████████████████████| 6/6 [00:16<00:00,  2.69s/it]\n",
      "MN-OC42-A_S39_ME_L001___R2: 100%|█████████████████████████████████████████████████████████| 6/6 [00:16<00:00,  2.68s/it]\n",
      "OC42-A_S37_ME_L001___R1: 100%|████████████████████████████████████████████████████████████| 1/1 [00:03<00:00,  3.10s/it]\n",
      "OC42-A_S37_ME_L001___R2: 100%|████████████████████████████████████████████████████████████| 1/1 [00:02<00:00,  2.85s/it]\n",
      "blat analysis:: 100%|█████████████████████████████████████████████████████████████████████| 2/2 [00:28<00:00, 14.24s/it]\n"
     ]
    },
    {
     "name": "stdout",
     "output_type": "stream",
     "text": [
      "\n",
      "before: 3183\n",
      "unique names: 64\n",
      "after: 207 \n",
      "\n",
      "before: 409\n",
      "unique names: 19\n",
      "after: 36 \n",
      "\n",
      "Repeat Annotation Request Form\n"
     ]
    },
    {
     "name": "stderr",
     "output_type": "stream",
     "text": [
      "MN-OC42-A_S39_ME_L001__: 100%|████████████████████████████████████████████████████████| 207/207 [30:22<00:00,  8.80s/it]\n",
      "OC42-A_S37_ME_L001__: 100%|█████████████████████████████████████████████████████████████| 36/36 [06:07<00:00, 10.20s/it]\n"
     ]
    },
    {
     "name": "stdout",
     "output_type": "stream",
     "text": [
      "\n",
      "OC48 ---------------------------------------------------\n",
      "metatable shape: (143, 32)\n",
      "sample file names: ['MN-OC48-A_S43_ME_L001__', 'OC48-A_S41_ME_L001__']\n",
      "null occurrences: 0\n",
      "all not somatic: 31   including test: 0\n",
      "somatic and quasi-somatic: (112, 32)   including test: 0 \n",
      "\n",
      "MN-OC48-A_S43_ME_L001__ 56   test: 0\n",
      "OC48-A_S41_ME_L001__ 56   test: 0\n",
      "overall num of somatic insertions:  112 \n",
      "\n",
      "MN-OC48-A_S43_ME_L001__  was: 56  become: 18\n",
      "MN-OC48-A_S43_ME_L001__ reads were written\n",
      "OC48-A_S41_ME_L001__  was: 56  become: 27\n",
      "OC48-A_S41_ME_L001__ reads were written\n",
      "\n",
      "Human BLAT Search\n"
     ]
    },
    {
     "name": "stderr",
     "output_type": "stream",
     "text": [
      "MN-OC48-A_S43_ME_L001___R1: 100%|█████████████████████████████████████████████████████████| 1/1 [00:04<00:00,  4.41s/it]\n",
      "MN-OC48-A_S43_ME_L001___R2: 100%|█████████████████████████████████████████████████████████| 1/1 [00:04<00:00,  4.04s/it]\n",
      "OC48-A_S41_ME_L001___R1: 100%|████████████████████████████████████████████████████████████| 2/2 [00:08<00:00,  4.25s/it]\n",
      "OC48-A_S41_ME_L001___R2: 100%|████████████████████████████████████████████████████████████| 2/2 [00:07<00:00,  3.57s/it]\n",
      "blat analysis:: 100%|█████████████████████████████████████████████████████████████████████| 2/2 [00:05<00:00,  2.81s/it]\n"
     ]
    },
    {
     "name": "stdout",
     "output_type": "stream",
     "text": [
      "\n",
      "before: 275\n",
      "unique names: 17\n",
      "after: 34 \n",
      "\n",
      "before: 96\n",
      "unique names: 26\n",
      "after: 63 \n",
      "\n",
      "Repeat Annotation Request Form\n"
     ]
    },
    {
     "name": "stderr",
     "output_type": "stream",
     "text": [
      "MN-OC48-A_S43_ME_L001__: 100%|██████████████████████████████████████████████████████████| 34/34 [07:25<00:00, 13.12s/it]\n",
      "OC48-A_S41_ME_L001__: 100%|█████████████████████████████████████████████████████████████| 63/63 [11:35<00:00, 11.04s/it]\n"
     ]
    },
    {
     "name": "stdout",
     "output_type": "stream",
     "text": [
      "\n",
      "OC50 ---------------------------------------------------\n",
      "metatable shape: (157, 32)\n",
      "sample file names: ['MN-OC50-A_S127_ME_L001__', 'OC50-A_S125_ME_L001__']\n",
      "null occurrences: 0\n",
      "all not somatic: 23   including test: 0\n",
      "somatic and quasi-somatic: (134, 32)   including test: 0 \n",
      "\n",
      "MN-OC50-A_S127_ME_L001__ 67   test: 0\n",
      "OC50-A_S125_ME_L001__ 67   test: 0\n",
      "overall num of somatic insertions:  134 \n",
      "\n",
      "MN-OC50-A_S127_ME_L001__  was: 67  become: 28\n",
      "MN-OC50-A_S127_ME_L001__ reads were written\n",
      "OC50-A_S125_ME_L001__  was: 67  become: 34\n",
      "OC50-A_S125_ME_L001__ reads were written\n",
      "\n",
      "Human BLAT Search\n"
     ]
    },
    {
     "name": "stderr",
     "output_type": "stream",
     "text": [
      "MN-OC50-A_S127_ME_L001___R1: 100%|████████████████████████████████████████████████████████| 2/2 [00:05<00:00,  3.00s/it]\n",
      "MN-OC50-A_S127_ME_L001___R2: 100%|████████████████████████████████████████████████████████| 2/2 [00:06<00:00,  3.01s/it]\n",
      "OC50-A_S125_ME_L001___R1: 100%|███████████████████████████████████████████████████████████| 3/3 [00:10<00:00,  3.48s/it]\n",
      "OC50-A_S125_ME_L001___R2: 100%|███████████████████████████████████████████████████████████| 3/3 [00:10<00:00,  3.39s/it]\n",
      "blat analysis:: 100%|█████████████████████████████████████████████████████████████████████| 2/2 [00:08<00:00,  4.25s/it]\n"
     ]
    },
    {
     "name": "stdout",
     "output_type": "stream",
     "text": [
      "\n",
      "before: 104\n",
      "unique names: 27\n",
      "after: 52 \n",
      "\n",
      "before: 660\n",
      "unique names: 34\n",
      "after: 64 \n",
      "\n",
      "Repeat Annotation Request Form\n"
     ]
    },
    {
     "name": "stderr",
     "output_type": "stream",
     "text": [
      "MN-OC50-A_S127_ME_L001__: 100%|█████████████████████████████████████████████████████████| 52/52 [08:17<00:00,  9.57s/it]\n",
      "OC50-A_S125_ME_L001__: 100%|████████████████████████████████████████████████████████████| 64/64 [11:59<00:00, 11.24s/it]\n"
     ]
    },
    {
     "name": "stdout",
     "output_type": "stream",
     "text": [
      "\n",
      "OC54 ---------------------------------------------------\n",
      "metatable shape: (138, 32)\n",
      "sample file names: ['MN-OC54-A_S55_ME_L001__', 'OC54-A_S53_ME_L001__']\n",
      "null occurrences: 0\n",
      "all not somatic: 20   including test: 0\n",
      "somatic and quasi-somatic: (118, 32)   including test: 0 \n",
      "\n",
      "MN-OC54-A_S55_ME_L001__ 34   test: 0\n",
      "OC54-A_S53_ME_L001__ 84   test: 0\n",
      "overall num of somatic insertions:  118 \n",
      "\n",
      "MN-OC54-A_S55_ME_L001__  was: 34  become: 15\n",
      "MN-OC54-A_S55_ME_L001__ reads were written\n",
      "OC54-A_S53_ME_L001__  was: 84  become: 28\n",
      "OC54-A_S53_ME_L001__ reads were written\n",
      "\n",
      "Human BLAT Search\n"
     ]
    },
    {
     "name": "stderr",
     "output_type": "stream",
     "text": [
      "MN-OC54-A_S55_ME_L001___R1: 100%|█████████████████████████████████████████████████████████| 1/1 [00:04<00:00,  4.46s/it]\n",
      "MN-OC54-A_S55_ME_L001___R2: 100%|█████████████████████████████████████████████████████████| 1/1 [00:04<00:00,  4.79s/it]\n",
      "OC54-A_S53_ME_L001___R1: 100%|████████████████████████████████████████████████████████████| 2/2 [00:07<00:00,  3.65s/it]\n",
      "OC54-A_S53_ME_L001___R2: 100%|████████████████████████████████████████████████████████████| 2/2 [00:07<00:00,  3.55s/it]\n",
      "blat analysis:: 100%|█████████████████████████████████████████████████████████████████████| 2/2 [00:05<00:00,  2.85s/it]\n"
     ]
    },
    {
     "name": "stdout",
     "output_type": "stream",
     "text": [
      "\n",
      "before: 165\n",
      "unique names: 12\n",
      "after: 26 \n",
      "\n",
      "before: 289\n",
      "unique names: 28\n",
      "after: 55 \n",
      "\n",
      "Repeat Annotation Request Form\n"
     ]
    },
    {
     "name": "stderr",
     "output_type": "stream",
     "text": [
      "MN-OC54-A_S55_ME_L001__: 100%|██████████████████████████████████████████████████████████| 26/26 [04:36<00:00, 10.64s/it]\n",
      "OC54-A_S53_ME_L001__: 100%|█████████████████████████████████████████████████████████████| 55/55 [10:05<00:00, 11.01s/it]\n"
     ]
    },
    {
     "name": "stdout",
     "output_type": "stream",
     "text": [
      "\n",
      "OT1 ---------------------------------------------------\n",
      "metatable shape: (523, 32)\n",
      "sample file names: ['MN-OT1-A_S151_ME_L001__', 'OT1-A_S149_ME_L001__']\n",
      "null occurrences: 0\n",
      "all not somatic: 144   including test: 0\n",
      "somatic and quasi-somatic: (379, 32)   including test: 0 \n",
      "\n",
      "MN-OT1-A_S151_ME_L001__ 234   test: 0\n",
      "OT1-A_S149_ME_L001__ 145   test: 0\n",
      "overall num of somatic insertions:  379 \n",
      "\n",
      "MN-OT1-A_S151_ME_L001__  was: 234  become: 44\n",
      "MN-OT1-A_S151_ME_L001__ reads were written\n",
      "OT1-A_S149_ME_L001__  was: 145  become: 42\n",
      "OT1-A_S149_ME_L001__ reads were written\n",
      "\n",
      "Human BLAT Search\n"
     ]
    },
    {
     "name": "stderr",
     "output_type": "stream",
     "text": [
      "MN-OT1-A_S151_ME_L001___R1: 100%|█████████████████████████████████████████████████████████| 4/4 [00:14<00:00,  3.74s/it]\n",
      "MN-OT1-A_S151_ME_L001___R2: 100%|█████████████████████████████████████████████████████████| 4/4 [00:17<00:00,  4.29s/it]\n",
      "OT1-A_S149_ME_L001___R1: 100%|████████████████████████████████████████████████████████████| 4/4 [00:13<00:00,  3.38s/it]\n",
      "OT1-A_S149_ME_L001___R2: 100%|████████████████████████████████████████████████████████████| 4/4 [00:14<00:00,  3.51s/it]\n",
      "blat analysis:: 100%|█████████████████████████████████████████████████████████████████████| 2/2 [00:13<00:00,  6.88s/it]\n"
     ]
    },
    {
     "name": "stdout",
     "output_type": "stream",
     "text": [
      "\n",
      "before: 886\n",
      "unique names: 42\n",
      "after: 97 \n",
      "\n",
      "before: 1029\n",
      "unique names: 40\n",
      "after: 106 \n",
      "\n",
      "Repeat Annotation Request Form\n"
     ]
    },
    {
     "name": "stderr",
     "output_type": "stream",
     "text": [
      "MN-OT1-A_S151_ME_L001__: 100%|██████████████████████████████████████████████████████████| 97/97 [14:54<00:00,  9.22s/it]\n",
      "OT1-A_S149_ME_L001__: 100%|███████████████████████████████████████████████████████████| 106/106 [23:34<00:00, 13.34s/it]\n"
     ]
    },
    {
     "name": "stdout",
     "output_type": "stream",
     "text": [
      "\n",
      "PC12 ---------------------------------------------------\n",
      "metatable shape: (96, 32)\n",
      "sample file names: ['MN-PC12-A_S23_ME_L001__', 'PC12-A_S21_ME_L001__']\n",
      "null occurrences: 0\n",
      "all not somatic: 9   including test: 0\n",
      "somatic and quasi-somatic: (87, 32)   including test: 0 \n",
      "\n",
      "MN-PC12-A_S23_ME_L001__ 31   test: 0\n",
      "PC12-A_S21_ME_L001__ 56   test: 0\n",
      "overall num of somatic insertions:  87 \n",
      "\n",
      "MN-PC12-A_S23_ME_L001__  was: 31  become: 12\n",
      "MN-PC12-A_S23_ME_L001__ reads were written\n",
      "PC12-A_S21_ME_L001__  was: 56  become: 24\n",
      "PC12-A_S21_ME_L001__ reads were written\n",
      "\n",
      "Human BLAT Search\n"
     ]
    },
    {
     "name": "stderr",
     "output_type": "stream",
     "text": [
      "MN-PC12-A_S23_ME_L001___R1: 100%|█████████████████████████████████████████████████████████| 1/1 [00:02<00:00,  2.73s/it]\n",
      "MN-PC12-A_S23_ME_L001___R2: 100%|█████████████████████████████████████████████████████████| 1/1 [00:02<00:00,  3.00s/it]\n",
      "PC12-A_S21_ME_L001___R1: 100%|████████████████████████████████████████████████████████████| 2/2 [00:07<00:00,  3.92s/it]\n",
      "PC12-A_S21_ME_L001___R2: 100%|████████████████████████████████████████████████████████████| 2/2 [00:08<00:00,  4.12s/it]\n",
      "blat analysis:: 100%|█████████████████████████████████████████████████████████████████████| 2/2 [00:04<00:00,  2.11s/it]\n"
     ]
    },
    {
     "name": "stdout",
     "output_type": "stream",
     "text": [
      "\n",
      "before: 75\n",
      "unique names: 12\n",
      "after: 38 \n",
      "\n",
      "before: 229\n",
      "unique names: 24\n",
      "after: 32 \n",
      "\n",
      "Repeat Annotation Request Form\n"
     ]
    },
    {
     "name": "stderr",
     "output_type": "stream",
     "text": [
      "MN-PC12-A_S23_ME_L001__: 100%|██████████████████████████████████████████████████████████| 38/38 [06:42<00:00, 10.59s/it]\n",
      "PC12-A_S21_ME_L001__: 100%|█████████████████████████████████████████████████████████████| 32/32 [06:37<00:00, 12.44s/it]\n"
     ]
    },
    {
     "name": "stdout",
     "output_type": "stream",
     "text": [
      "\n",
      "PC14 ---------------------------------------------------\n",
      "metatable shape: (101, 32)\n",
      "sample file names: ['MN-PC14-A_S35_ME_L001__', 'PC14-A_S33_ME_L001__']\n",
      "null occurrences: 0\n",
      "all not somatic: 5   including test: 0\n",
      "somatic and quasi-somatic: (96, 32)   including test: 0 \n",
      "\n",
      "MN-PC14-A_S35_ME_L001__ 48   test: 0\n",
      "PC14-A_S33_ME_L001__ 48   test: 0\n",
      "overall num of somatic insertions:  96 \n",
      "\n",
      "MN-PC14-A_S35_ME_L001__  was: 48  become: 10\n",
      "MN-PC14-A_S35_ME_L001__ reads were written\n",
      "PC14-A_S33_ME_L001__  was: 48  become: 20\n",
      "PC14-A_S33_ME_L001__ reads were written\n",
      "\n",
      "Human BLAT Search\n"
     ]
    },
    {
     "name": "stderr",
     "output_type": "stream",
     "text": [
      "MN-PC14-A_S35_ME_L001___R1: 100%|█████████████████████████████████████████████████████████| 1/1 [00:03<00:00,  3.15s/it]\n",
      "MN-PC14-A_S35_ME_L001___R2: 100%|█████████████████████████████████████████████████████████| 1/1 [00:02<00:00,  2.78s/it]\n",
      "PC14-A_S33_ME_L001___R1: 100%|████████████████████████████████████████████████████████████| 2/2 [00:07<00:00,  3.64s/it]\n",
      "PC14-A_S33_ME_L001___R2: 100%|████████████████████████████████████████████████████████████| 2/2 [00:06<00:00,  3.46s/it]\n",
      "blat analysis:: 100%|█████████████████████████████████████████████████████████████████████| 2/2 [00:02<00:00,  1.46s/it]\n"
     ]
    },
    {
     "name": "stdout",
     "output_type": "stream",
     "text": [
      "\n",
      "before: 54\n",
      "unique names: 10\n",
      "after: 26 \n",
      "\n",
      "before: 54\n",
      "unique names: 20\n",
      "after: 40 \n",
      "\n",
      "Repeat Annotation Request Form\n"
     ]
    },
    {
     "name": "stderr",
     "output_type": "stream",
     "text": [
      "MN-PC14-A_S35_ME_L001__: 100%|██████████████████████████████████████████████████████████| 26/26 [06:07<00:00, 14.12s/it]\n",
      "PC14-A_S33_ME_L001__: 100%|█████████████████████████████████████████████████████████████| 40/40 [06:57<00:00, 10.43s/it]\n"
     ]
    },
    {
     "name": "stdout",
     "output_type": "stream",
     "text": [
      "\n",
      "PC21 ---------------------------------------------------\n",
      "metatable shape: (86, 32)\n",
      "sample file names: ['MN-PC21-A_S19_ME_L001__', 'PC21-A_S17_ME_L001__']\n",
      "null occurrences: 0\n",
      "all not somatic: 14   including test: 0\n",
      "somatic and quasi-somatic: (72, 32)   including test: 0 \n",
      "\n",
      "MN-PC21-A_S19_ME_L001__ 41   test: 0\n",
      "PC21-A_S17_ME_L001__ 31   test: 0\n",
      "overall num of somatic insertions:  72 \n",
      "\n",
      "MN-PC21-A_S19_ME_L001__  was: 41  become: 16\n",
      "MN-PC21-A_S19_ME_L001__ reads were written\n",
      "PC21-A_S17_ME_L001__  was: 31  become: 15\n",
      "PC21-A_S17_ME_L001__ reads were written\n",
      "\n",
      "Human BLAT Search\n"
     ]
    },
    {
     "name": "stderr",
     "output_type": "stream",
     "text": [
      "MN-PC21-A_S19_ME_L001___R1: 100%|█████████████████████████████████████████████████████████| 1/1 [00:02<00:00,  2.70s/it]\n",
      "MN-PC21-A_S19_ME_L001___R2: 100%|█████████████████████████████████████████████████████████| 1/1 [00:02<00:00,  2.90s/it]\n",
      "PC21-A_S17_ME_L001___R1: 100%|████████████████████████████████████████████████████████████| 1/1 [00:03<00:00,  3.42s/it]\n",
      "PC21-A_S17_ME_L001___R2: 100%|████████████████████████████████████████████████████████████| 1/1 [00:03<00:00,  3.81s/it]\n",
      "blat analysis:: 100%|█████████████████████████████████████████████████████████████████████| 2/2 [00:05<00:00,  2.71s/it]\n"
     ]
    },
    {
     "name": "stdout",
     "output_type": "stream",
     "text": [
      "\n",
      "before: 124\n",
      "unique names: 16\n",
      "after: 33 \n",
      "\n",
      "before: 221\n",
      "unique names: 15\n",
      "after: 26 \n",
      "\n",
      "Repeat Annotation Request Form\n"
     ]
    },
    {
     "name": "stderr",
     "output_type": "stream",
     "text": [
      "MN-PC21-A_S19_ME_L001__: 100%|██████████████████████████████████████████████████████████| 33/33 [05:38<00:00, 10.25s/it]\n",
      "PC21-A_S17_ME_L001__: 100%|█████████████████████████████████████████████████████████████| 26/26 [04:56<00:00, 11.42s/it]\n"
     ]
    },
    {
     "name": "stdout",
     "output_type": "stream",
     "text": [
      "\n",
      "PC32 ---------------------------------------------------\n",
      "metatable shape: (275, 32)\n",
      "sample file names: ['MN-PC32-A_S31_ME_L001__', 'PC32-A_S29_ME_L001__']\n",
      "null occurrences: 0\n",
      "all not somatic: 37   including test: 0\n",
      "somatic and quasi-somatic: (238, 32)   including test: 0 \n",
      "\n",
      "MN-PC32-A_S31_ME_L001__ 114   test: 0\n",
      "PC32-A_S29_ME_L001__ 124   test: 0\n",
      "overall num of somatic insertions:  238 \n",
      "\n",
      "MN-PC32-A_S31_ME_L001__  was: 114  become: 48\n",
      "MN-PC32-A_S31_ME_L001__ reads were written\n",
      "PC32-A_S29_ME_L001__  was: 124  become: 55\n",
      "PC32-A_S29_ME_L001__ reads were written\n",
      "\n",
      "Human BLAT Search\n"
     ]
    },
    {
     "name": "stderr",
     "output_type": "stream",
     "text": [
      "MN-PC32-A_S31_ME_L001___R1: 100%|█████████████████████████████████████████████████████████| 4/4 [00:15<00:00,  3.88s/it]\n",
      "MN-PC32-A_S31_ME_L001___R2: 100%|█████████████████████████████████████████████████████████| 4/4 [00:16<00:00,  4.17s/it]\n",
      "PC32-A_S29_ME_L001___R1: 100%|████████████████████████████████████████████████████████████| 5/5 [00:25<00:00,  5.18s/it]\n",
      "PC32-A_S29_ME_L001___R2: 100%|████████████████████████████████████████████████████████████| 5/5 [00:21<00:00,  4.28s/it]\n",
      "blat analysis:: 100%|█████████████████████████████████████████████████████████████████████| 2/2 [00:18<00:00,  9.37s/it]\n"
     ]
    },
    {
     "name": "stdout",
     "output_type": "stream",
     "text": [
      "\n",
      "before: 891\n",
      "unique names: 46\n",
      "after: 83 \n",
      "\n",
      "before: 1724\n",
      "unique names: 53\n",
      "after: 153 \n",
      "\n",
      "Repeat Annotation Request Form\n"
     ]
    },
    {
     "name": "stderr",
     "output_type": "stream",
     "text": [
      "MN-PC32-A_S31_ME_L001__: 100%|██████████████████████████████████████████████████████████| 83/83 [13:34<00:00,  9.82s/it]\n",
      "PC32-A_S29_ME_L001__: 100%|███████████████████████████████████████████████████████████| 153/153 [26:15<00:00, 10.30s/it]\n"
     ]
    },
    {
     "name": "stdout",
     "output_type": "stream",
     "text": [
      "\n",
      "SkC6 ---------------------------------------------------\n",
      "metatable shape: (234, 32)\n",
      "sample file names: ['MN-SkC6-A_S59_ME_L001__', 'SkC6-A_S57_ME_L001__']\n",
      "null occurrences: 0\n",
      "all not somatic: 65   including test: 0\n",
      "somatic and quasi-somatic: (169, 32)   including test: 0 \n",
      "\n",
      "MN-SkC6-A_S59_ME_L001__ 78   test: 0\n",
      "SkC6-A_S57_ME_L001__ 91   test: 0\n",
      "overall num of somatic insertions:  169 \n",
      "\n",
      "MN-SkC6-A_S59_ME_L001__  was: 78  become: 30\n",
      "MN-SkC6-A_S59_ME_L001__ reads were written\n",
      "SkC6-A_S57_ME_L001__  was: 91  become: 38\n",
      "SkC6-A_S57_ME_L001__ reads were written\n",
      "\n",
      "Human BLAT Search\n"
     ]
    },
    {
     "name": "stderr",
     "output_type": "stream",
     "text": [
      "MN-SkC6-A_S59_ME_L001___R1: 100%|█████████████████████████████████████████████████████████| 3/3 [00:13<00:00,  4.44s/it]\n",
      "MN-SkC6-A_S59_ME_L001___R2: 100%|█████████████████████████████████████████████████████████| 3/3 [00:13<00:00,  4.44s/it]\n",
      "SkC6-A_S57_ME_L001___R1: 100%|████████████████████████████████████████████████████████████| 3/3 [00:11<00:00,  3.70s/it]\n",
      "SkC6-A_S57_ME_L001___R2: 100%|████████████████████████████████████████████████████████████| 3/3 [00:10<00:00,  3.44s/it]\n",
      "blat analysis:: 100%|█████████████████████████████████████████████████████████████████████| 2/2 [00:08<00:00,  4.15s/it]\n"
     ]
    },
    {
     "name": "stdout",
     "output_type": "stream",
     "text": [
      "\n",
      "before: 314\n",
      "unique names: 30\n",
      "after: 56 \n",
      "\n",
      "before: 601\n",
      "unique names: 37\n",
      "after: 96 \n",
      "\n",
      "Repeat Annotation Request Form\n"
     ]
    },
    {
     "name": "stderr",
     "output_type": "stream",
     "text": [
      "MN-SkC6-A_S59_ME_L001__: 100%|██████████████████████████████████████████████████████████| 56/56 [09:04<00:00,  9.73s/it]\n",
      "SkC6-A_S57_ME_L001__: 100%|█████████████████████████████████████████████████████████████| 96/96 [18:47<00:00, 11.74s/it]\n"
     ]
    },
    {
     "name": "stdout",
     "output_type": "stream",
     "text": [
      "\n",
      "StS1 ---------------------------------------------------\n",
      "metatable shape: (118, 32)\n",
      "sample file names: ['MN-StS1-A_S91_ME_L001__', 'StS1-A_S89_ME_L001__']\n",
      "null occurrences: 0\n",
      "all not somatic: 12   including test: 0\n",
      "somatic and quasi-somatic: (106, 32)   including test: 0 \n",
      "\n",
      "MN-StS1-A_S91_ME_L001__ 30   test: 0\n",
      "StS1-A_S89_ME_L001__ 76   test: 0\n",
      "overall num of somatic insertions:  106 \n",
      "\n",
      "MN-StS1-A_S91_ME_L001__  was: 30  become: 14\n",
      "MN-StS1-A_S91_ME_L001__ reads were written\n",
      "StS1-A_S89_ME_L001__  was: 76  become: 31\n",
      "StS1-A_S89_ME_L001__ reads were written\n",
      "\n",
      "Human BLAT Search\n"
     ]
    },
    {
     "name": "stderr",
     "output_type": "stream",
     "text": [
      "MN-StS1-A_S91_ME_L001___R1: 100%|█████████████████████████████████████████████████████████| 1/1 [00:03<00:00,  3.14s/it]\n",
      "MN-StS1-A_S91_ME_L001___R2: 100%|█████████████████████████████████████████████████████████| 1/1 [00:03<00:00,  3.12s/it]\n",
      "StS1-A_S89_ME_L001___R1: 100%|████████████████████████████████████████████████████████████| 3/3 [00:08<00:00,  2.72s/it]\n",
      "StS1-A_S89_ME_L001___R2: 100%|████████████████████████████████████████████████████████████| 3/3 [00:08<00:00,  2.76s/it]\n",
      "blat analysis:: 100%|█████████████████████████████████████████████████████████████████████| 2/2 [00:08<00:00,  4.08s/it]\n"
     ]
    },
    {
     "name": "stdout",
     "output_type": "stream",
     "text": [
      "\n",
      "before: 63\n",
      "unique names: 14\n",
      "after: 36 \n",
      "\n",
      "before: 1094\n",
      "unique names: 29\n",
      "after: 73 \n",
      "\n",
      "Repeat Annotation Request Form\n"
     ]
    },
    {
     "name": "stderr",
     "output_type": "stream",
     "text": [
      "MN-StS1-A_S91_ME_L001__: 100%|██████████████████████████████████████████████████████████| 36/36 [06:24<00:00, 10.69s/it]\n",
      "StS1-A_S89_ME_L001__: 100%|█████████████████████████████████████████████████████████████| 73/73 [12:28<00:00, 10.25s/it]\n"
     ]
    },
    {
     "name": "stdout",
     "output_type": "stream",
     "text": [
      "\n",
      "UC2 ---------------------------------------------------\n",
      "metatable shape: (165, 32)\n",
      "sample file names: ['MN-UC2-A_S123_ME_L001__', 'UC2-A_S121_ME_L001__']\n",
      "null occurrences: 0\n",
      "all not somatic: 27   including test: 0\n",
      "somatic and quasi-somatic: (138, 32)   including test: 0 \n",
      "\n",
      "MN-UC2-A_S123_ME_L001__ 59   test: 0\n",
      "UC2-A_S121_ME_L001__ 79   test: 0\n",
      "overall num of somatic insertions:  138 \n",
      "\n",
      "MN-UC2-A_S123_ME_L001__  was: 59  become: 28\n",
      "MN-UC2-A_S123_ME_L001__ reads were written\n",
      "UC2-A_S121_ME_L001__  was: 79  become: 26\n",
      "UC2-A_S121_ME_L001__ reads were written\n",
      "\n",
      "Human BLAT Search\n"
     ]
    },
    {
     "name": "stderr",
     "output_type": "stream",
     "text": [
      "MN-UC2-A_S123_ME_L001___R1: 100%|█████████████████████████████████████████████████████████| 2/2 [00:07<00:00,  3.86s/it]\n",
      "MN-UC2-A_S123_ME_L001___R2: 100%|█████████████████████████████████████████████████████████| 2/2 [00:06<00:00,  3.39s/it]\n",
      "UC2-A_S121_ME_L001___R1: 100%|████████████████████████████████████████████████████████████| 2/2 [00:07<00:00,  3.50s/it]\n",
      "UC2-A_S121_ME_L001___R2: 100%|████████████████████████████████████████████████████████████| 2/2 [00:07<00:00,  3.50s/it]\n",
      "blat analysis:: 100%|█████████████████████████████████████████████████████████████████████| 2/2 [00:06<00:00,  3.48s/it]\n"
     ]
    },
    {
     "name": "stdout",
     "output_type": "stream",
     "text": [
      "\n",
      "before: 249\n",
      "unique names: 28\n",
      "after: 52 \n",
      "\n",
      "before: 292\n",
      "unique names: 25\n",
      "after: 66 \n",
      "\n",
      "Repeat Annotation Request Form\n"
     ]
    },
    {
     "name": "stderr",
     "output_type": "stream",
     "text": [
      "MN-UC2-A_S123_ME_L001__: 100%|██████████████████████████████████████████████████████████| 52/52 [09:52<00:00, 11.40s/it]\n",
      "UC2-A_S121_ME_L001__: 100%|█████████████████████████████████████████████████████████████| 66/66 [12:35<00:00, 11.44s/it]\n"
     ]
    },
    {
     "name": "stdout",
     "output_type": "stream",
     "text": [
      "\n"
     ]
    }
   ],
   "source": [
    "dirs = os.listdir()[8:]\n",
    "for dirname in dirs:\n",
    "    print(dirname, '---------------------------------------------------')\n",
    "    curr_dir = '/mnt/c/Users/Komar/Lab/OutPutDir/experimental/Alu_AGCT/' + dirname\n",
    "    if not os.path.isdir(curr_dir):\n",
    "        continue\n",
    "    os.chdir(curr_dir)\n",
    "    DIR = os.getcwd() + '/nofiltration'\n",
    "    t = time.time()\n",
    "    # 1 Get somatic insertions\n",
    "    file_names, df_somatic_list = get_somatic(curr_dir)\n",
    "    # 2 Filtration\n",
    "    writedown_filtered(DIR, file_names, df_somatic_list)\n",
    "    # 3 UCSC BLAT parsing\n",
    "    blat_parsing(DIR, file_names)\n",
    "    # 4 BLAT analysis\n",
    "    blat_analysis(DIR, file_names)\n",
    "    # 5 RepeatMasker parsing\n",
    "    blat_res, RM_res = get_10best_alings(DIR, file_names)\n",
    "    RM_parsing(DIR, file_names, blat_res, RM_res)\n",
    "    # 6 Merging\n",
    "    merging(DIR, file_names)\n",
    "\n",
    "    test = telegram_bot_sendtext(f\"Postprocessing done for {dirname}_AGCT\\n\" + f\"Duration: {int(time.time() - t)} sec\")    "
   ]
  },
  {
   "cell_type": "markdown",
   "id": "db2dbb9b-3e55-4447-97e7-506a91f3733c",
   "metadata": {
    "jp-MarkdownHeadingCollapsed": true
   },
   "source": [
    "### Output data filtration"
   ]
  },
  {
   "cell_type": "code",
   "execution_count": 1,
   "id": "854976dc-f742-4bb7-8642-b650a576d7dd",
   "metadata": {},
   "outputs": [],
   "source": [
    "import pandas as pd\n",
    "def get_somatic(path):\n",
    "    # read pipeline output\n",
    "    res = pd.read_table(path + '/metatable_ts.txt')\n",
    "    print('metatable shape:', res.shape)\n",
    "    #print(res.head())\n",
    "\n",
    "    # make list of file names\n",
    "    file_names = []\n",
    "    for col_name in res.columns:\n",
    "        if col_name.find('_NUM_READS') != -1:\n",
    "            file_names.append(col_name[:-10])\n",
    "    print('sample file names:', file_names)\n",
    "    \n",
    "    # checking for null occurrences \n",
    "    df_0 = res.copy(deep=True)\n",
    "    for i in range(len(file_names)):\n",
    "        df_0 = df_0[df_0[file_names[i] + '_NUM_READS'] == 0]\n",
    "    print('null occurrences:', df_0.shape[0])\n",
    "    \n",
    "    # not somatic (germline) insertions (exists in all samples)\n",
    "    df_germ = res.copy(deep=True)\n",
    "    for i in range(len(file_names)):\n",
    "        df_germ = df_germ[df_germ[file_names[i] + '_NUM_READS'] > 0]\n",
    "    print('all not somatic:', df_germ.shape[0],  '  including test:', df_germ[df_germ['READNAME'].str.contains('ARTIFICIAL')].shape[0])\n",
    "    \n",
    "    # somatic and quasi-somatic (exists for example in 3/4 samples) insertions\n",
    "    df_qsom = res.copy(deep=True)\n",
    "    df_qsom = df_qsom.drop(df_germ.index, axis=0)\n",
    "    print('somatic and quasi-somatic:', df_qsom.shape, '  including test:', df_qsom[df_qsom['READNAME'].str.contains('ARTIFICIAL')].shape[0], '\\n')\n",
    "    \n",
    "    # insertions specific only for this tissue/sample(file) \n",
    "    df_somatic_list = []\n",
    "    overall_num = 0\n",
    "    for i in range(len(file_names)):\n",
    "        df = df_qsom.copy(deep=True)\n",
    "        df = df[df[file_names[i] + '_NUM_READS'] > 0]\n",
    "        for j in range(1, len(file_names)):\n",
    "            df = df[df[file_names[i - j] + '_NUM_READS'] == 0]\n",
    "        print(file_names[i], df.shape[0], '  test:', df[df['READNAME'].str.contains('ARTIFICIAL')].shape[0])\n",
    "        overall_num += df.shape[0]\n",
    "        df_somatic_list.append(df.copy(deep=True))\n",
    "    print('overall num of somatic insertions: ', overall_num, '\\n')\n",
    "    return file_names, df_somatic_list"
   ]
  },
  {
   "cell_type": "code",
   "execution_count": 2,
   "id": "50dc1107-a2f3-49bc-b811-c5ae6289b393",
   "metadata": {},
   "outputs": [],
   "source": [
    "# preparing for copying into blat and filtering \n",
    "def writedown_filtered(DIR, file_names, df_somatic_list):\n",
    "    if not os.path.exists(DIR + '/filtred'):\n",
    "        os.makedirs(DIR + '/filtred')\n",
    "    \n",
    "    for i in range(len(file_names)):\n",
    "        # filtration\n",
    "        df_tmp = df_somatic_list[i].copy(deep=True)\n",
    "        #df_tmp = df_tmp[df_tmp[file_names[i] + '_NUM_READS'] > 1].copy(deep=True)\n",
    "        df_tmp = df_tmp[df_tmp['R1'].str.len() > 25].copy(deep=True)  # because Blat can aling seq > 25nt\n",
    "        df_tmp = df_tmp[df_tmp['R2'].str.len() > 25].copy(deep=True)\n",
    "        df_tmp = df_tmp[df_tmp['MDMATCH'] < 32].copy(deep=True)  # template_switch_filtration: 12 primer + 6 dALU + 14 flank = 32\n",
    "        print(file_names[i], ' was:', df_somatic_list[i].shape[0], ' become:', df_tmp.shape[0])\n",
    "    \n",
    "        df_tmp.to_csv(DIR + '/filtred/' + f'{file_names[i]}_filtered.csv')\n",
    "        print(f'{file_names[i]} reads were written')\n",
    "    print()"
   ]
  },
  {
   "cell_type": "markdown",
   "id": "d4bec163-6591-4b65-b8e4-39d72b250720",
   "metadata": {
    "jp-MarkdownHeadingCollapsed": true
   },
   "source": [
    "### UCSC Blat parsing"
   ]
  },
  {
   "cell_type": "code",
   "execution_count": 3,
   "id": "e2b30646-5aad-4efa-bec0-32b37eaf7db6",
   "metadata": {},
   "outputs": [],
   "source": [
    "def complement(char):\n",
    "    if char == 'A':\n",
    "        return 'T'\n",
    "    if char == 'T':\n",
    "        return 'A'\n",
    "    if char == 'C':\n",
    "        return 'G'\n",
    "    if char == 'G':\n",
    "        return 'C'\n",
    "    if char == 'N':\n",
    "        return 'N'\n",
    "\n",
    "def reverse_comp(seq):\n",
    "    seq_ls = list(seq)\n",
    "    new_seq = []\n",
    "    for i in reversed(seq_ls):\n",
    "        new_seq.append(complement(i))\n",
    "    return \"\".join(new_seq)"
   ]
  },
  {
   "cell_type": "code",
   "execution_count": 4,
   "id": "660b628e-5486-464d-8562-6231870c1c90",
   "metadata": {},
   "outputs": [],
   "source": [
    "def get_reads_fa(reads_list, reads_names, R_n=1):\n",
    "    line = ''\n",
    "    for read, name in zip(reads_list, reads_names):\n",
    "        if R_n == 1:\n",
    "            line = line + '>' + name + f'_R{R_n}' + '\\n' + reverse_comp(read) + '\\n'  # because if insertion is \"+\" then R1 is rev_comp of + strand dna\n",
    "        else:\n",
    "            line = line + '>' + name + f'_R{R_n}' + '\\n' + read + '\\n'\n",
    "    return line"
   ]
  },
  {
   "cell_type": "code",
   "execution_count": 5,
   "id": "e54449ea-8362-44b4-b448-57d336351ed7",
   "metadata": {},
   "outputs": [],
   "source": [
    "def get_blat_output(driver, filtered_flanks, i, k, j, length=10):\n",
    "    # set flank coords and submit\n",
    "    range_input = driver.find_element(By.NAME, \"userSeq\")\n",
    "    range_input.clear()\n",
    "    #push 10 reads at once\n",
    "    read_list = filtered_flanks[i][f'R{k}'].tolist()[j*10 : j*10 + length]\n",
    "    name_list = filtered_flanks[i]['READNAME'].tolist()[j*10 : j*10 + length]\n",
    "    range_input.send_keys(get_reads_fa(read_list, name_list, R_n=k))\n",
    "    \n",
    "    button = driver.find_element(By.NAME, \"Submit\")\n",
    "    button.click()\n",
    "    # get results \n",
    "    blat_out = ''\n",
    "    try:\n",
    "        #print('waiting')\n",
    "        element = WebDriverWait(driver, 60).until(\n",
    "                            EC.presence_of_element_located((By.TAG_NAME, \"pre\")) \n",
    "                            )\n",
    "        blat_out = element.text\n",
    "    except:\n",
    "        print(f'exception for {file_names[i]}')\n",
    "    # get back to request form       \n",
    "    driver.back()\n",
    "    return blat_out"
   ]
  },
  {
   "cell_type": "code",
   "execution_count": 6,
   "id": "a3b1ba3e-b957-4e9f-a196-317bbded61e2",
   "metadata": {},
   "outputs": [],
   "source": [
    "import pandas as pd\n",
    "from tqdm import trange\n",
    "from selenium import webdriver\n",
    "from selenium.webdriver.chrome.options import Options\n",
    "from selenium.webdriver.chrome.service import Service\n",
    "from selenium.webdriver.common.keys import Keys\n",
    "from selenium.webdriver.common.by import By\n",
    "from selenium.webdriver.support.wait import WebDriverWait\n",
    "from selenium.webdriver.support import expected_conditions as EC\n",
    "from selenium.webdriver.support.select import Select\n",
    "\n",
    "def blat_parsing(DIR, file_names):\n",
    "    service = Service(executable_path=\"/usr/bin/chromedriver\")\n",
    "    chrome_options = Options()\n",
    "    chrome_options.add_argument('--headless')\n",
    "    chrome_options.add_argument('--no-sandbox')\n",
    "    chrome_options.add_argument('--disable-dev-shm-usage')\n",
    "    driver = webdriver.Chrome(service=service, options=chrome_options)\n",
    "    \n",
    "    filtered_flanks = []\n",
    "    for i in range(len(file_names)):\n",
    "        df_tmp = pd.read_csv(DIR + '/filtred/' + f'{file_names[i]}_filtered.csv')\n",
    "        filtered_flanks.append(df_tmp.copy(deep=True))\n",
    "    \n",
    "    # go to the UCSC Blat\n",
    "    driver.get(\"https://genome.ucsc.edu/cgi-bin/hgBlat?hgsid=1711647570_KRW9QfFHAHaje8cp8sWT4EtpGupE&command=start\")\n",
    "    print(driver.title)\n",
    "    \n",
    "    # set Hg38\n",
    "    selects = driver.find_elements(By.TAG_NAME, \"select\")\n",
    "    for i in selects:\n",
    "        if i.get_property(\"name\") == \"db\":\n",
    "            element = i\n",
    "            break\n",
    "    dropdown = Select(element)\n",
    "    dropdown.select_by_visible_text(\"Dec. 2013 (GRCh38/hg38)\")\n",
    "    \n",
    "    if not os.path.exists(DIR + '/blat_output'):\n",
    "        os.makedirs(DIR + '/blat_output')\n",
    "    \n",
    "    for i in range(len(filtered_flanks)):\n",
    "        for k in [1, 2]:\n",
    "            output = ''\n",
    "            for j in trange(int(filtered_flanks[i].shape[0] / 10), desc=f'{file_names[i]}_R{k}'):  \n",
    "                output = output + '\\n' + get_blat_output(driver, filtered_flanks, i, k, j)\n",
    "            if filtered_flanks[i].shape[0] % 10 != 0:\n",
    "                output = output + '\\n' + get_blat_output(driver, filtered_flanks, i, k, int(filtered_flanks[i].shape[0] / 10), \n",
    "                                                         length=filtered_flanks[i].shape[0] % 10)\n",
    "                \n",
    "            with open(DIR + '/blat_output/' + f'{file_names[i]}_R{k}_blat_out_tmp.txt', 'w') as f:\n",
    "                f.write(output)\n",
    "                #print('res written')\n",
    "    \n",
    "    driver.quit()\n",
    "\n",
    "    for i in range(len(filtered_flanks)):\n",
    "        for k in [1, 2]:\n",
    "            blat_out = pd.DataFrame(columns=['QUERY', 'SCORE', 'QSTART', 'QEND', 'QSIZE', 'IDENTITY', 'CHROM', 'STRAND', 'START', 'END', 'SPAN'])\n",
    "            with open(DIR + '/blat_output/' + f'{file_names[i]}_R{k}_blat_out_tmp.txt', 'r') as f:\n",
    "                output = f.read()\n",
    "            output = output.split('\\n')\n",
    "            for line in output:\n",
    "                    if line.count('browser'):\n",
    "                        tmp = line.split(' ')\n",
    "                        tmp = ' '.join(tmp).split()\n",
    "                        blat_out.loc[len(blat_out.index)] = [tmp[2], tmp[3], tmp[4], tmp[5], tmp[6], tmp[7], tmp[8], tmp[9], tmp[10], tmp[11], tmp[12]]\n",
    "            blat_out.to_csv(DIR + '/blat_output/' + f'{file_names[i]}_R{k}_blat_out.csv') "
   ]
  },
  {
   "cell_type": "markdown",
   "id": "81a7be26-c0e6-4f9b-965b-5109ac089de3",
   "metadata": {
    "jp-MarkdownHeadingCollapsed": true
   },
   "source": [
    "### Blat analysis"
   ]
  },
  {
   "cell_type": "code",
   "execution_count": 7,
   "id": "7251a234-dbfa-471c-8fd1-e468b75f6aec",
   "metadata": {},
   "outputs": [],
   "source": [
    "import pandas as pd\n",
    "from tqdm import trange\n",
    "\n",
    "def blat_merge_and_filtration(filename):\n",
    "\n",
    "    FRAGMENT_LEN = 1000  # from electroforeses flanks will be from ~60 to ~585\n",
    "\n",
    "    #chomosome list\n",
    "    chromosomes = list(range(1, 23))\n",
    "    chromosomes.append('X')\n",
    "    chromosomes.append('Y')\n",
    "    chromosomes = ['chr' + str(x) for x in chromosomes]\n",
    "    \n",
    "    df1 = pd.read_table(filename + '_R1_blat_out.csv', sep=',')\n",
    "    df1 = df1.drop(['Unnamed: 0'], axis=1)\n",
    "    \n",
    "    df2 = pd.read_table(filename + '_R2_blat_out.csv', sep=',')\n",
    "    df2 = df2.drop(['Unnamed: 0'], axis=1)\n",
    "    \n",
    "    read_names = df1['QUERY'].unique()\n",
    "    merget_df = pd.DataFrame(columns=['QUERY', \n",
    "                                      'SCORE_1', 'QSIZE_1', 'QSTART_1', 'QEND_1', 'IDENTITY_1', 'CHROM_1', 'STRAND_1', 'START_1', 'END_1', 'SPAN_1',\n",
    "                                      'SCORE_2', 'QSIZE_2', 'QSTART_2', 'QEND_2', 'IDENTITY_2', 'CHROM_2', 'STRAND_2', 'START_2', 'END_2', 'SPAN_2'\n",
    "                                     ]\n",
    "                            )\n",
    "    for name in read_names:\n",
    "        df1_1 = df1[df1['QUERY'].str.contains(name)].copy(deep=True)\n",
    "        df2_1 = df2[df2['QUERY'].str.contains(name[:-3])].copy(deep=True)\n",
    "        for i, row_1 in df1_1.iterrows():\n",
    "            tmp_df = df2_1[df2_1['CHROM'] == row_1['CHROM']]\n",
    "            for i, row_tmp in tmp_df.iterrows():\n",
    "                if abs(row_tmp['START'] - row_1['START']) <= FRAGMENT_LEN and abs(row_tmp['END'] - row_1['END']) <= FRAGMENT_LEN:\n",
    "                    merget_df.loc[len(merget_df.index)] = [row_1['QUERY'][:-3], \n",
    "                                                           row_1['SCORE'], row_1['QSIZE'], row_1['QSTART'], row_1['QEND'], row_1['IDENTITY'],\n",
    "                                                           row_1['CHROM'], row_1['STRAND'], row_1['START'], row_1['END'], row_1['SPAN'],\n",
    "                                                           row_tmp['SCORE'], row_tmp['QSIZE'], row_tmp['QSTART'], row_tmp['QEND'], row_tmp['IDENTITY'], \n",
    "                                                           row_tmp['CHROM'], row_tmp['STRAND'], row_tmp['START'], row_tmp['END'], row_tmp['SPAN'] \n",
    "                                                          ]\n",
    "    #print(name[:-3], df1_1.shape[0], df2_1.shape[0], merget_df.shape[0])\n",
    "    \n",
    "    #drop alt chr\n",
    "    merget_df.drop(merget_df[ ~merget_df['CHROM_1'].isin(chromosomes) ].index, axis=0, inplace=True)\n",
    "    #drop matches with different directions \n",
    "    merget_df = merget_df[merget_df['STRAND_1'] == merget_df['STRAND_2']].copy(deep=True)\n",
    "\n",
    "    # get only high score\n",
    "    if merget_df.shape[0] > 1:\n",
    "        merget_df = merget_df[merget_df['SCORE_1'] > 0.8 * merget_df['QSIZE_1']].copy(deep=True)\n",
    "    if merget_df.shape[0] > 1:\n",
    "        merget_df = merget_df[merget_df['SCORE_2'] > 0.8 * merget_df['QSIZE_2']].copy(deep=True)\n",
    "\n",
    "    # drop aligns which are not close to RE 5'end \n",
    "    if merget_df.shape[0] > 1:\n",
    "        merget_df.drop(merget_df[ (merget_df['STRAND_1']=='+') & (merget_df['QEND_1'] <= merget_df['QSIZE_1'] - 3) ].index, axis=0, inplace=True)   \n",
    "    if merget_df.shape[0] > 1:\n",
    "        merget_df.drop(merget_df[ (merget_df['STRAND_1']=='-') & (merget_df['QSTART_1'] >= 3) ].index, axis=0, inplace=True)\n",
    "\n",
    "    # drop strange aligns: \"+\" R2_start >= R1_end; \"-\" R1_start >= R2_end\n",
    "    if merget_df.shape[0] > 1:\n",
    "        merget_df.drop(merget_df[ (merget_df['STRAND_1']=='+') & (merget_df['START_2'] >= merget_df['END_1']) ].index, axis=0, inplace=True)   \n",
    "    if merget_df.shape[0] > 1:\n",
    "        merget_df.drop(merget_df[ (merget_df['STRAND_1']=='-') & (merget_df['START_1'] >= merget_df['END_2']) ].index, axis=0, inplace=True)\n",
    "        \n",
    "    # calc flank metrics and insertion coord \n",
    "    if merget_df.shape[0] > 0:\n",
    "        for i, row in merget_df.iterrows():\n",
    "            merget_df.loc[i, 'F_CHR'] = row['CHROM_1']\n",
    "            start = int(min(row['START_1'], row['START_2'], row['END_1'], row['END_2']))\n",
    "            end = int(max(row['START_1'], row['START_2'], row['END_1'], row['END_2']))\n",
    "            merget_df.loc[i, 'F_START'] = start\n",
    "            merget_df.loc[i, 'F_END'] = end\n",
    "            merget_df.loc[i, 'F_LEN'] = int(end - start) + 1\n",
    "            if row['STRAND_1'] == '+':\n",
    "                merget_df.loc[i, 'INS_COORD'] = row['END_1']\n",
    "            else:\n",
    "                merget_df.loc[i, 'INS_COORD'] = row['START_1']\n",
    "            \n",
    "    return merget_df.copy(deep=True)"
   ]
  },
  {
   "cell_type": "code",
   "execution_count": 8,
   "id": "257ca7e7-032a-4492-a2e8-6a659b1641b4",
   "metadata": {},
   "outputs": [],
   "source": [
    "def blat_analysis(DIR, file_names):\n",
    "    if not os.path.exists(DIR + '/blat_filtred'):\n",
    "        os.makedirs(DIR + '/blat_filtred')\n",
    "    \n",
    "    for i in trange(len(file_names), desc='blat analysis:'):\n",
    "        df_tmp = blat_merge_and_filtration(DIR + '/blat_output/' + file_names[i])\n",
    "        df_tmp.to_csv(DIR + '/blat_filtred/' + f'{file_names[i]}_blat_filtred.csv')\n",
    "    print()"
   ]
  },
  {
   "cell_type": "markdown",
   "id": "3128433c-7822-4342-bb60-f966cd19ecf3",
   "metadata": {
    "jp-MarkdownHeadingCollapsed": true
   },
   "source": [
    "### RepeatMasker"
   ]
  },
  {
   "cell_type": "code",
   "execution_count": 21,
   "id": "39de57f6-133d-4996-bb6b-9fd374e765a2",
   "metadata": {},
   "outputs": [],
   "source": [
    "# get 5 best aligns for each read\n",
    "import pandas as pd\n",
    "\n",
    "def get_10best_alings(DIR, file_names):\n",
    "    blat_res = []\n",
    "    RM_res = []\n",
    "    for name in file_names:\n",
    "        blat_res.append(pd.read_table(DIR + '/blat_filtred/' + f'{name}_blat_filtred.csv', sep=','))\n",
    "        RM_res.append(pd.DataFrame(columns=['QUERY', 'EXTENSION', 'INS_CHR_B', 'INS_COORD_B', 'INS_STRAND_B', 'REPEAT_NAME', 'R_STRAND', 'R_CHR', \n",
    "                                            'R_START', 'R_END', 'INS_OVERLAP', 'DESC', 'F_LEN', 'R_LEN', 'F_START', 'F_END',\n",
    "                                            'SCORE_1', 'QSIZE_1', 'SCORE_2', 'QSIZE_2', 'CHR_1', 'START_1', 'END_1', 'CHR_2', 'START_2', 'END_2', \n",
    "                                            ]))\n",
    "\n",
    "    for blat_res_part in blat_res:\n",
    "        print('before:', blat_res_part.shape[0])\n",
    "        amount_list = blat_res_part.groupby(['QUERY']).count().sort_values(by=['QUERY'])['SCORE_1'].tolist()\n",
    "        read_names = blat_res_part['QUERY'].unique()\n",
    "        read_names.sort()\n",
    "        print('unique names:', len(read_names))\n",
    "        for num, name in zip(amount_list, read_names):\n",
    "            if num > 5:\n",
    "                indexes = blat_res_part[blat_res_part['QUERY'].str.contains(name)].index.tolist()[5:]\n",
    "                blat_res_part.drop(indexes, axis=0, inplace=True)\n",
    "                \n",
    "        print('after:', blat_res_part.shape[0], '\\n')\n",
    "\n",
    "    return blat_res, RM_res"
   ]
  },
  {
   "cell_type": "code",
   "execution_count": 10,
   "id": "d3bfd31e-1ec0-4191-aee1-2ed383ae2017",
   "metadata": {},
   "outputs": [],
   "source": [
    "# return distanse from the insertion to the repeat nearest end and description \n",
    "# if they overlap - positive number, else - negative\n",
    "def calc_overlap(ins_coord, r_start, r_end):\n",
    "    ins_coord = int(ins_coord)\n",
    "    r_start = int(r_start)\n",
    "    r_end = int(r_end)\n",
    "    if r_start < ins_coord:\n",
    "        if r_end < ins_coord:\n",
    "            return r_end - ins_coord, 'ins after the repeat'  # negative - insertion after the repeat\n",
    "        else:\n",
    "            return min(r_end - ins_coord, ins_coord - r_start), 'ins in the repeat'  # positive - insertion in the repeat\n",
    "    else:\n",
    "        # r_start >= ins_coord\n",
    "        return ins_coord - r_start, 'ins before the repeat'  # negative - insertion before the repeat"
   ]
  },
  {
   "cell_type": "code",
   "execution_count": 17,
   "id": "1a898c34-d74d-47c4-9b7e-b931db426167",
   "metadata": {},
   "outputs": [],
   "source": [
    "from tqdm import trange\n",
    "from selenium import webdriver\n",
    "from selenium.webdriver.chrome.options import Options\n",
    "from selenium.webdriver.chrome.service import Service\n",
    "from selenium.webdriver.common.keys import Keys\n",
    "from selenium.webdriver.common.by import By\n",
    "from selenium.webdriver.support.wait import WebDriverWait\n",
    "from selenium.webdriver.support import expected_conditions as EC\n",
    "from selenium.webdriver.support.select import Select\n",
    "\n",
    "def RM_parsing(DIR, file_names, blat_res, RM_res):\n",
    "    service = Service(executable_path=\"/usr/bin/chromedriver\")\n",
    "    chrome_options = Options()\n",
    "    chrome_options.add_argument('--headless')\n",
    "    chrome_options.add_argument('--no-sandbox')\n",
    "    chrome_options.add_argument('--disable-dev-shm-usage')\n",
    "    driver = webdriver.Chrome(service=service, options=chrome_options)\n",
    "    \n",
    "    # go to the RepeatMasker\n",
    "    driver.get(\"https://www.repeatmasker.org/cgi-bin/AnnotationRequest\")\n",
    "    print(driver.title)\n",
    "    \n",
    "    # set Hg38\n",
    "    try:\n",
    "        element = WebDriverWait(driver, 10).until(\n",
    "            EC.presence_of_element_located((By.NAME, \"genome\"))\n",
    "        )\n",
    "        dropdown = Select(element)\n",
    "        dropdown.select_by_visible_text(\"Human - Dec 2013 - hg38\")\n",
    "    except:\n",
    "        print(\"can't select genome\")\n",
    "    \n",
    "    \n",
    "    if not os.path.exists(DIR + '/RepeatMasker'):\n",
    "        os.makedirs(DIR + '/RepeatMasker')\n",
    "    \n",
    "    # flank coords annotating\n",
    "    j = 0\n",
    "    EXTENSION = 20\n",
    "    for blat_res_part, RM_res_part in zip(blat_res, RM_res):\n",
    "        blat_res_part = blat_res_part.reset_index()\n",
    "        for i in trange(blat_res_part.shape[0], desc=f'{file_names[j]}'):\n",
    "            # set flank coords and submit\n",
    "            try:\n",
    "                range_input = WebDriverWait(driver, 15).until(\n",
    "                              EC.presence_of_element_located((By.NAME, \"range\")) \n",
    "                              )\n",
    "                #driver.find_element(By.NAME, \"range\")\n",
    "                range_input.clear()\n",
    "    \n",
    "                low_coord = int(blat_res_part.loc[i, 'INS_COORD'] - EXTENSION)\n",
    "                high_coord = int(blat_res_part.loc[i, 'INS_COORD'] + EXTENSION)\n",
    "                chr = blat_res_part.loc[i, 'F_CHR']\n",
    "                coords = f\"{chr}:{low_coord}-{high_coord}\" \n",
    "                #print(coords)\n",
    "                range_input.send_keys(coords)\n",
    "               \n",
    "                button = driver.find_element(By.NAME, \".submit\")\n",
    "                button.click()\n",
    "            except:\n",
    "                print(\"can't pass coords\", blat_res_part.loc[i, 'QUERY'])\n",
    "        \n",
    "            # get results \n",
    "            try:\n",
    "                element = WebDriverWait(driver, 15).until(\n",
    "                          EC.presence_of_element_located((By.TAG_NAME, \"pre\")) \n",
    "                          )\n",
    "                #link = element.find_element(By.TAG_NAME, \"a\").get_attribute(\"href\")\n",
    "                output = element.text.split('\\n')[2:]\n",
    "                #print(output)\n",
    "                for line in output:\n",
    "                    tmp_line = line.split(' ')\n",
    "                    tmp_line = ' '.join(tmp_line).split()\n",
    "                    #print(tmp_line)\n",
    "                    overlapping = calc_overlap(blat_res_part.loc[i, 'INS_COORD'], tmp_line[5], tmp_line[6])\n",
    "                    #print(overlapping)\n",
    "                    RM_res_part.loc[len(RM_res_part.index)] = [blat_res_part.loc[i, 'QUERY'], EXTENSION, blat_res_part.loc[i, 'F_CHR'],\n",
    "                                                               blat_res_part.loc[i, 'INS_COORD'], blat_res_part.loc[i, 'STRAND_1'], tmp_line[9], \n",
    "                                                               tmp_line[8], tmp_line[4], tmp_line[5], tmp_line[6], overlapping[0], overlapping[1], \n",
    "                                                               blat_res_part.loc[i, 'F_LEN'], int(tmp_line[6]) - int(tmp_line[5]) + 1, \n",
    "                                                               blat_res_part.loc[i, 'F_START'], blat_res_part.loc[i, 'F_END'],\n",
    "                                                               blat_res_part.loc[i, 'SCORE_1'], blat_res_part.loc[i, 'QSIZE_1'], \n",
    "                                                               blat_res_part.loc[i, 'SCORE_2'], blat_res_part.loc[i, 'QSIZE_2'],\n",
    "                                                               blat_res_part.loc[i, 'CHROM_1'], blat_res_part.loc[i, 'START_1'], \n",
    "                                                               blat_res_part.loc[i, 'END_1'], blat_res_part.loc[i, 'CHROM_2'], \n",
    "                                                               blat_res_part.loc[i, 'START_2'], blat_res_part.loc[i, 'END_2'],\n",
    "                                                              ]\n",
    "            except:\n",
    "                #print('no matching')\n",
    "                RM_res_part.loc[len(RM_res_part.index)] = [blat_res_part.loc[i, 'QUERY'], EXTENSION, blat_res_part.loc[i, 'F_CHR'],\n",
    "                                                           blat_res_part.loc[i, 'INS_COORD'], blat_res_part.loc[i, 'STRAND_1'], '-', '-', \n",
    "                                                           '-', 0, 0, 0, 'no repeat', blat_res_part.loc[i, 'F_LEN'],\n",
    "                                                           0, blat_res_part.loc[i, 'F_START'], blat_res_part.loc[i, 'F_END'],\n",
    "                                                           blat_res_part.loc[i, 'SCORE_1'], blat_res_part.loc[i, 'QSIZE_1'], \n",
    "                                                           blat_res_part.loc[i, 'SCORE_2'], blat_res_part.loc[i, 'QSIZE_2'],\n",
    "                                                           blat_res_part.loc[i, 'CHROM_1'], blat_res_part.loc[i, 'START_1'], \n",
    "                                                           blat_res_part.loc[i, 'END_1'], blat_res_part.loc[i, 'CHROM_2'], \n",
    "                                                           blat_res_part.loc[i, 'START_2'], blat_res_part.loc[i, 'END_2'],\n",
    "                                                          ]\n",
    "            # get back to request form\n",
    "            driver.back()\n",
    "        RM_res_part.to_csv(DIR + '/RepeatMasker/' + f'{file_names[j]}_RM_res.csv')\n",
    "        j += 1\n",
    "    \n",
    "    #quit from site\n",
    "    driver.quit()\n",
    "    print()"
   ]
  },
  {
   "cell_type": "markdown",
   "id": "9b4412bf-df02-4c68-8bde-2c7cff267be6",
   "metadata": {},
   "source": [
    "### Merging with pipeline info"
   ]
  },
  {
   "cell_type": "code",
   "execution_count": 12,
   "id": "698dba1a-3f78-4ad1-86e9-509a6e2f66cc",
   "metadata": {},
   "outputs": [],
   "source": [
    "# merging with pipeline info\n",
    "def attach_pipeline_info(filename, df_res_part):\n",
    "    filtered_flank = pd.read_csv(DIR + '/filtred/' + f'{filename}_filtered.csv')\n",
    "    \n",
    "    right_df = filtered_flank[['READNAME', 'CHR', 'POS', 'INS_STRAND', f'{filename}_NUM_READS', 'R1', 'R2']].copy(deep=True)\n",
    "    left_df = df_res_part.copy(deep=True)\n",
    "    \n",
    "    return left_df.merge(right_df, left_on = 'QUERY', right_on = 'READNAME').drop(columns='READNAME')"
   ]
  },
  {
   "cell_type": "code",
   "execution_count": 13,
   "id": "6f9c1b72-05d8-4cbd-b02d-99a99e69d61b",
   "metadata": {},
   "outputs": [],
   "source": [
    "def hamming_dist(x1, x2):\n",
    "    j = 0\n",
    "    for i in range(len(x1)):\n",
    "        if x1[i] != x2[i]:\n",
    "            j = j + 1\n",
    "    return j\n",
    "\n",
    "# return length of overlapping part\n",
    "def find_overlap_len(str1, str2):\n",
    "    if len(str1) < len(str2):\n",
    "        str_tmp = str1\n",
    "        str1 = str2\n",
    "        str2 = str_tmp\n",
    "    if len(str1) >= len(str2):\n",
    "        delta = len(str1) - len(str2)\n",
    "        for i in range(len(str1)):\n",
    "            if delta - i >= 0:\n",
    "                part1 = str1[i:len(str2) + i]\n",
    "                part2 = str2\n",
    "            else:\n",
    "                part1 = str1[i:]\n",
    "                part2 = str2[0:len(str2) + delta - i]\n",
    "            # print(part1, part2)\n",
    "            if hamming_dist(part1, part2) == 0:\n",
    "                #print(part1, len(part1))\n",
    "                return len(part1)\n",
    "        return 0"
   ]
  },
  {
   "cell_type": "code",
   "execution_count": 14,
   "id": "c8f7b0ca-e77f-434e-911b-fb373afac65c",
   "metadata": {},
   "outputs": [],
   "source": [
    "# merging with pipeline info\n",
    "# reads overlap calculation\n",
    "def merging(DIR, file_names):\n",
    "    RM_res_list = []\n",
    "    i = 0\n",
    "    for name in file_names:\n",
    "        RM_res_list.append(pd.read_table(DIR + '/RepeatMasker/' + f'{name}_RM_res.csv', sep=','))\n",
    "        RM_res_list[i] = attach_pipeline_info(name, RM_res_list[i])\n",
    "        for j, row in RM_res_list[i].iterrows():\n",
    "            RM_res_list[i].loc[j, 'READS_OVERLAP'] = find_overlap_len(row['R1'], reverse_comp(row['R2']))\n",
    "        RM_res_list[i].to_csv(DIR + '/RepeatMasker/' + f'{name}_RM_res_merged.csv')\n",
    "        i += 1"
   ]
  },
  {
   "cell_type": "markdown",
   "id": "5705f834-5d69-4b35-baca-1a0ba86510b7",
   "metadata": {},
   "source": [
    "### Other"
   ]
  },
  {
   "cell_type": "code",
   "execution_count": 15,
   "id": "2e639e5c-4b65-49e3-bfee-6bf25aefb4a1",
   "metadata": {},
   "outputs": [],
   "source": [
    "import requests\n",
    "\n",
    "def text_replace(text):\n",
    "    if len(text) == 0:\n",
    "        return ' '\n",
    "    text = text.replace('_', '\\\\_')\n",
    "    text = text.replace('*', '\\\\*')\n",
    "    text = text.replace('[', '\\\\[')\n",
    "    text = text.replace(']', '\\\\]')\n",
    "    text = text.replace('(', '\\\\(')\n",
    "    text = text.replace(')', '\\\\)')\n",
    "    text = text.replace('~', '\\\\~')\n",
    "    text = text.replace('`', '\\\\`')\n",
    "    text = text.replace('>', '\\\\>')\n",
    "    text = text.replace('#', '\\\\#')\n",
    "    text = text.replace('+', '\\\\+')\n",
    "    text = text.replace('-', '\\\\-')\n",
    "    text = text.replace('=', '\\\\=')\n",
    "    text = text.replace('|', '\\\\|')\n",
    "    text = text.replace('{', '\\\\{')\n",
    "    text = text.replace('}', '\\\\}')\n",
    "    text = text.replace('.', '\\\\.')\n",
    "    text = text.replace('!', '\\\\!')\n",
    "    return text\n",
    "\n",
    "def telegram_bot_sendtext(bot_message):\n",
    "    bot_message = text_replace(bot_message)\n",
    "    BOT_TOKEN = \"6608136916:AAHB_1JsP8lsFLD7Uh4WoiajrUFCZToQ2cQ\"\n",
    "    admin_id = str(360072308)\n",
    "    send_text = 'https://api.telegram.org/bot' + BOT_TOKEN + '/sendMessage?chat_id=' + admin_id + '&parse_mode=Markdown&text=' + bot_message\n",
    "    response = requests.get(send_text)\n",
    "    return response.json()\n"
   ]
  },
  {
   "cell_type": "code",
   "execution_count": 16,
   "id": "4aa631dd-7df1-42e8-ac0b-daf235110dfb",
   "metadata": {
    "scrolled": true
   },
   "outputs": [
    {
     "ename": "NameError",
     "evalue": "name 'RM_res_list' is not defined",
     "output_type": "error",
     "traceback": [
      "\u001b[0;31m---------------------------------------------------------------------------\u001b[0m",
      "\u001b[0;31mNameError\u001b[0m                                 Traceback (most recent call last)",
      "Cell \u001b[0;32mIn[16], line 4\u001b[0m\n\u001b[1;32m      1\u001b[0m \u001b[38;5;66;03m#pd.options.display.max_colwidth = 100\u001b[39;00m\n\u001b[1;32m      2\u001b[0m pd\u001b[38;5;241m.\u001b[39moptions\u001b[38;5;241m.\u001b[39mdisplay\u001b[38;5;241m.\u001b[39mmax_columns \u001b[38;5;241m=\u001b[39m \u001b[38;5;241m40\u001b[39m\n\u001b[0;32m----> 4\u001b[0m \u001b[43mRM_res_list\u001b[49m[\u001b[38;5;241m0\u001b[39m]\n",
      "\u001b[0;31mNameError\u001b[0m: name 'RM_res_list' is not defined"
     ]
    }
   ],
   "source": [
    "#pd.options.display.max_colwidth = 100\n",
    "pd.options.display.max_columns = 40\n",
    "\n",
    "RM_res_list[0]"
   ]
  },
  {
   "cell_type": "code",
   "execution_count": null,
   "id": "c27a97c4-861b-4ad1-9ea3-e2dc61c49957",
   "metadata": {},
   "outputs": [],
   "source": [
    "RM_res_list[0].columns"
   ]
  },
  {
   "cell_type": "code",
   "execution_count": null,
   "id": "9718f358-4d79-4a66-80d1-8e71d2d9405c",
   "metadata": {},
   "outputs": [],
   "source": []
  }
 ],
 "metadata": {
  "kernelspec": {
   "display_name": "Python 3 (ipykernel)",
   "language": "python",
   "name": "python3"
  },
  "language_info": {
   "codemirror_mode": {
    "name": "ipython",
    "version": 3
   },
   "file_extension": ".py",
   "mimetype": "text/x-python",
   "name": "python",
   "nbconvert_exporter": "python",
   "pygments_lexer": "ipython3",
   "version": "3.11.5"
  }
 },
 "nbformat": 4,
 "nbformat_minor": 5
}
