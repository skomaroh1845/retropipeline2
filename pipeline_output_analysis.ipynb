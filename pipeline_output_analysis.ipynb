{
 "cells": [
  {
   "cell_type": "code",
   "execution_count": 1,
   "id": "63c8357d-aca0-43ac-ad76-d8954b6d133d",
   "metadata": {},
   "outputs": [
    {
     "name": "stdout",
     "output_type": "stream",
     "text": [
      "/mnt/c/Users/Komar/Lab/retroparty\n"
     ]
    }
   ],
   "source": [
    "import os\n",
    "print(os.getcwd())"
   ]
  },
  {
   "cell_type": "code",
   "execution_count": 2,
   "id": "43453c86-b5b9-4a8e-ab39-a0f832a6e162",
   "metadata": {},
   "outputs": [
    {
     "name": "stdout",
     "output_type": "stream",
     "text": [
      "/mnt/c/Users/Komar/Lab\n"
     ]
    }
   ],
   "source": [
    "os.chdir('/mnt/c/Users/Komar/Lab')\n",
    "print(os.getcwd())"
   ]
  },
  {
   "cell_type": "markdown",
   "id": "db2dbb9b-3e55-4447-97e7-506a91f3733c",
   "metadata": {},
   "source": [
    "### Output data filtration"
   ]
  },
  {
   "cell_type": "code",
   "execution_count": 3,
   "id": "515595ea-eba0-4724-94ed-48f2dc141a7a",
   "metadata": {},
   "outputs": [],
   "source": [
    "DIR = os.getcwd() + '/OutPutDir/strong_settings/'"
   ]
  },
  {
   "cell_type": "code",
   "execution_count": 4,
   "id": "854976dc-f742-4bb7-8642-b650a576d7dd",
   "metadata": {},
   "outputs": [],
   "source": [
    "# TO DO\n",
    "# make list of file in directory \n",
    "file_names = ['SRR7624520+test__', 'SRR7624521+test__', 'SRR7624522+test__', 'SRR7624523+test__']"
   ]
  },
  {
   "cell_type": "code",
   "execution_count": 83,
   "id": "a9989969-3fc6-49ad-af0b-9eed769ac08f",
   "metadata": {},
   "outputs": [
    {
     "name": "stdout",
     "output_type": "stream",
     "text": [
      "(20494, 38)\n"
     ]
    },
    {
     "data": {
      "text/html": [
       "<div>\n",
       "<style scoped>\n",
       "    .dataframe tbody tr th:only-of-type {\n",
       "        vertical-align: middle;\n",
       "    }\n",
       "\n",
       "    .dataframe tbody tr th {\n",
       "        vertical-align: top;\n",
       "    }\n",
       "\n",
       "    .dataframe thead th {\n",
       "        text-align: right;\n",
       "    }\n",
       "</style>\n",
       "<table border=\"1\" class=\"dataframe\">\n",
       "  <thead>\n",
       "    <tr style=\"text-align: right;\">\n",
       "      <th></th>\n",
       "      <th>METACLUSTER_ID</th>\n",
       "      <th>FILENAME</th>\n",
       "      <th>READNAME</th>\n",
       "      <th>CHR</th>\n",
       "      <th>POS</th>\n",
       "      <th>INS_STRAND</th>\n",
       "      <th>PRIMER</th>\n",
       "      <th>RE</th>\n",
       "      <th>RE_AMOUNT</th>\n",
       "      <th>RE_HAMMING</th>\n",
       "      <th>...</th>\n",
       "      <th>SRR7624520+test___NUM_BC</th>\n",
       "      <th>SRR7624521+test___NUM_BC</th>\n",
       "      <th>SRR7624522+test___NUM_BC</th>\n",
       "      <th>SRR7624523+test___NUM_BC</th>\n",
       "      <th>SRR7624520+test___NUM_TLEN</th>\n",
       "      <th>SRR7624521+test___NUM_TLEN</th>\n",
       "      <th>SRR7624522+test___NUM_TLEN</th>\n",
       "      <th>SRR7624523+test___NUM_TLEN</th>\n",
       "      <th>MDFLAG_TEMPLATE</th>\n",
       "      <th>MDMATCH</th>\n",
       "    </tr>\n",
       "  </thead>\n",
       "  <tbody>\n",
       "    <tr>\n",
       "      <th>0</th>\n",
       "      <td>1</td>\n",
       "      <td>SRR7624522+test__</td>\n",
       "      <td>SRR7624522.6008022.2</td>\n",
       "      <td>chr1</td>\n",
       "      <td>147922</td>\n",
       "      <td>+</td>\n",
       "      <td>GAGCCACCGCGC</td>\n",
       "      <td>CCGGCC</td>\n",
       "      <td>1</td>\n",
       "      <td>0</td>\n",
       "      <td>...</td>\n",
       "      <td>0</td>\n",
       "      <td>0</td>\n",
       "      <td>1</td>\n",
       "      <td>0</td>\n",
       "      <td>0</td>\n",
       "      <td>0</td>\n",
       "      <td>1</td>\n",
       "      <td>0</td>\n",
       "      <td>MD:Z:32</td>\n",
       "      <td>32</td>\n",
       "    </tr>\n",
       "    <tr>\n",
       "      <th>1</th>\n",
       "      <td>2</td>\n",
       "      <td>SRR7624521+test__</td>\n",
       "      <td>ARTIFICIAL:2262337645</td>\n",
       "      <td>chr1</td>\n",
       "      <td>196273</td>\n",
       "      <td>+</td>\n",
       "      <td>GAGCCACCGCGC</td>\n",
       "      <td>CCGGCC</td>\n",
       "      <td>4</td>\n",
       "      <td>0</td>\n",
       "      <td>...</td>\n",
       "      <td>1</td>\n",
       "      <td>1</td>\n",
       "      <td>1</td>\n",
       "      <td>1</td>\n",
       "      <td>1</td>\n",
       "      <td>1</td>\n",
       "      <td>1</td>\n",
       "      <td>1</td>\n",
       "      <td>*</td>\n",
       "      <td>0</td>\n",
       "    </tr>\n",
       "    <tr>\n",
       "      <th>2</th>\n",
       "      <td>3</td>\n",
       "      <td>SRR7624522+test__</td>\n",
       "      <td>SRR7624522.6084773.2</td>\n",
       "      <td>chr1</td>\n",
       "      <td>1549246</td>\n",
       "      <td>+</td>\n",
       "      <td>GAGCCACCGCGC</td>\n",
       "      <td>CCGGCC</td>\n",
       "      <td>4</td>\n",
       "      <td>0</td>\n",
       "      <td>...</td>\n",
       "      <td>1</td>\n",
       "      <td>1</td>\n",
       "      <td>1</td>\n",
       "      <td>1</td>\n",
       "      <td>1</td>\n",
       "      <td>1</td>\n",
       "      <td>1</td>\n",
       "      <td>1</td>\n",
       "      <td>MD:Z:22A9</td>\n",
       "      <td>31</td>\n",
       "    </tr>\n",
       "    <tr>\n",
       "      <th>3</th>\n",
       "      <td>4</td>\n",
       "      <td>SRR7624521+test__</td>\n",
       "      <td>SRR7624521.6995156.1</td>\n",
       "      <td>chr1</td>\n",
       "      <td>1934731</td>\n",
       "      <td>+</td>\n",
       "      <td>GAGCCACCGCGC</td>\n",
       "      <td>CCGGCC</td>\n",
       "      <td>1</td>\n",
       "      <td>0</td>\n",
       "      <td>...</td>\n",
       "      <td>0</td>\n",
       "      <td>1</td>\n",
       "      <td>0</td>\n",
       "      <td>0</td>\n",
       "      <td>0</td>\n",
       "      <td>1</td>\n",
       "      <td>0</td>\n",
       "      <td>0</td>\n",
       "      <td>MD:Z:9G18</td>\n",
       "      <td>27</td>\n",
       "    </tr>\n",
       "    <tr>\n",
       "      <th>4</th>\n",
       "      <td>5</td>\n",
       "      <td>SRR7624521+test__</td>\n",
       "      <td>SRR7624521.5871642.1</td>\n",
       "      <td>chr1</td>\n",
       "      <td>1995737</td>\n",
       "      <td>+</td>\n",
       "      <td>GAGCCACCGCGC</td>\n",
       "      <td>CCGGCC</td>\n",
       "      <td>1</td>\n",
       "      <td>0</td>\n",
       "      <td>...</td>\n",
       "      <td>0</td>\n",
       "      <td>1</td>\n",
       "      <td>0</td>\n",
       "      <td>0</td>\n",
       "      <td>0</td>\n",
       "      <td>1</td>\n",
       "      <td>0</td>\n",
       "      <td>0</td>\n",
       "      <td>MD:Z:32</td>\n",
       "      <td>32</td>\n",
       "    </tr>\n",
       "  </tbody>\n",
       "</table>\n",
       "<p>5 rows × 38 columns</p>\n",
       "</div>"
      ],
      "text/plain": [
       "   METACLUSTER_ID           FILENAME               READNAME   CHR      POS  \\\n",
       "0               1  SRR7624522+test__   SRR7624522.6008022.2  chr1   147922   \n",
       "1               2  SRR7624521+test__  ARTIFICIAL:2262337645  chr1   196273   \n",
       "2               3  SRR7624522+test__   SRR7624522.6084773.2  chr1  1549246   \n",
       "3               4  SRR7624521+test__   SRR7624521.6995156.1  chr1  1934731   \n",
       "4               5  SRR7624521+test__   SRR7624521.5871642.1  chr1  1995737   \n",
       "\n",
       "  INS_STRAND        PRIMER      RE  RE_AMOUNT  RE_HAMMING  ...  \\\n",
       "0          +  GAGCCACCGCGC  CCGGCC          1           0  ...   \n",
       "1          +  GAGCCACCGCGC  CCGGCC          4           0  ...   \n",
       "2          +  GAGCCACCGCGC  CCGGCC          4           0  ...   \n",
       "3          +  GAGCCACCGCGC  CCGGCC          1           0  ...   \n",
       "4          +  GAGCCACCGCGC  CCGGCC          1           0  ...   \n",
       "\n",
       "  SRR7624520+test___NUM_BC SRR7624521+test___NUM_BC  SRR7624522+test___NUM_BC  \\\n",
       "0                        0                        0                         1   \n",
       "1                        1                        1                         1   \n",
       "2                        1                        1                         1   \n",
       "3                        0                        1                         0   \n",
       "4                        0                        1                         0   \n",
       "\n",
       "  SRR7624523+test___NUM_BC SRR7624520+test___NUM_TLEN  \\\n",
       "0                        0                          0   \n",
       "1                        1                          1   \n",
       "2                        1                          1   \n",
       "3                        0                          0   \n",
       "4                        0                          0   \n",
       "\n",
       "   SRR7624521+test___NUM_TLEN  SRR7624522+test___NUM_TLEN  \\\n",
       "0                           0                           1   \n",
       "1                           1                           1   \n",
       "2                           1                           1   \n",
       "3                           1                           0   \n",
       "4                           1                           0   \n",
       "\n",
       "   SRR7624523+test___NUM_TLEN  MDFLAG_TEMPLATE  MDMATCH  \n",
       "0                           0          MD:Z:32       32  \n",
       "1                           1                *        0  \n",
       "2                           1        MD:Z:22A9       31  \n",
       "3                           0        MD:Z:9G18       27  \n",
       "4                           0          MD:Z:32       32  \n",
       "\n",
       "[5 rows x 38 columns]"
      ]
     },
     "execution_count": 83,
     "metadata": {},
     "output_type": "execute_result"
    }
   ],
   "source": [
    "import pandas as pd\n",
    "res = pd.read_table(DIR + '/metatable_ts.txt')\n",
    "print(res.shape)\n",
    "res.head()"
   ]
  },
  {
   "cell_type": "code",
   "execution_count": 104,
   "id": "59a31a22-c7f9-49a5-8d2c-3bf9b3c4d486",
   "metadata": {},
   "outputs": [
    {
     "data": {
      "text/plain": [
       "Index(['METACLUSTER_ID', 'FILENAME', 'READNAME', 'CHR', 'POS', 'INS_STRAND',\n",
       "       'PRIMER', 'RE', 'RE_AMOUNT', 'RE_HAMMING', 'R1', 'R2', 'TLEN',\n",
       "       'CIGAR_R1', 'MDFLAG_R1', 'MD_SUM', 'MISMATCH', 'INSERTION', 'DELETION',\n",
       "       'R_SITE', 'MISS_P_HAMMING', 'MISS_RE_HAMMING', 'REPEAT_FUNC',\n",
       "       'REPEAT_NAME', 'SRR7624520+test___NUM_READS',\n",
       "       'SRR7624521+test___NUM_READS', 'SRR7624522+test___NUM_READS',\n",
       "       'SRR7624523+test___NUM_READS', 'SRR7624520+test___NUM_BC',\n",
       "       'SRR7624521+test___NUM_BC', 'SRR7624522+test___NUM_BC',\n",
       "       'SRR7624523+test___NUM_BC', 'SRR7624520+test___NUM_TLEN',\n",
       "       'SRR7624521+test___NUM_TLEN', 'SRR7624522+test___NUM_TLEN',\n",
       "       'SRR7624523+test___NUM_TLEN', 'MDFLAG_TEMPLATE', 'MDMATCH'],\n",
       "      dtype='object')"
      ]
     },
     "execution_count": 104,
     "metadata": {},
     "output_type": "execute_result"
    }
   ],
   "source": [
    "res.columns"
   ]
  },
  {
   "cell_type": "code",
   "execution_count": 84,
   "id": "381770f5-1999-43e0-94d2-38ce7010df2e",
   "metadata": {},
   "outputs": [
    {
     "name": "stdout",
     "output_type": "stream",
     "text": [
      "0\n"
     ]
    }
   ],
   "source": [
    "# checking for null occurrences \n",
    "df_0 = res.copy(deep=True)\n",
    "for i in range(len(file_names)):\n",
    "    df_0 = df_0[df_0[file_names[i] + '_NUM_READS'] == 0]\n",
    "print(df_0.shape[0])\n",
    "#df_0.head()"
   ]
  },
  {
   "cell_type": "code",
   "execution_count": 85,
   "id": "7965ac11-928a-482f-ae8d-3fd038fbdca9",
   "metadata": {},
   "outputs": [
    {
     "name": "stdout",
     "output_type": "stream",
     "text": [
      "all: 2941   including test: 877\n"
     ]
    }
   ],
   "source": [
    "# not somatic (germline) insertions (exists in all samples)\n",
    "df_germ = res.copy(deep=True)\n",
    "for i in range(len(file_names)):\n",
    "    df_germ = df_germ[df_germ[file_names[i] + '_NUM_READS'] > 0]\n",
    "print('all:', df_germ.shape[0],  '  including test:', df_germ[df_germ['READNAME'].str.contains('ARTIFICIAL')].shape[0])\n",
    "#df_germ.head()"
   ]
  },
  {
   "cell_type": "code",
   "execution_count": 86,
   "id": "c5175e4a-854f-464f-a366-0d9e584a3e55",
   "metadata": {},
   "outputs": [
    {
     "name": "stdout",
     "output_type": "stream",
     "text": [
      "(17553, 38)   including test: 74\n"
     ]
    }
   ],
   "source": [
    "# somatic and quasi-somatic (exists for example in 3/4 samples) insertions\n",
    "df_qsom = res.copy(deep=True)\n",
    "df_qsom = df_qsom.drop(df_germ.index, axis=0)\n",
    "print(df_qsom.shape, '  including test:', df_qsom[df_qsom['READNAME'].str.contains('ARTIFICIAL')].shape[0])\n",
    "#df_qsom.head()"
   ]
  },
  {
   "cell_type": "code",
   "execution_count": 87,
   "id": "b3f474f3-45b8-418f-a6f1-6fb686138d99",
   "metadata": {},
   "outputs": [
    {
     "name": "stdout",
     "output_type": "stream",
     "text": [
      "SRR7624520+test__ 2480   test: 1\n",
      "SRR7624521+test__ 5886   test: 1\n",
      "SRR7624522+test__ 3046   test: 0\n",
      "SRR7624523+test__ 2171   test: 0\n",
      "13583\n"
     ]
    }
   ],
   "source": [
    "# insertions specific only for this tissue/sample(file) \n",
    "df_somatic_list = []\n",
    "overall_num = 0\n",
    "for i in range(len(file_names)):\n",
    "    df = df_qsom.copy(deep=True)\n",
    "    df = df[df[file_names[i] + '_NUM_READS'] > 0]\n",
    "    for j in range(1, len(file_names)):\n",
    "        df = df[df[file_names[i - j] + '_NUM_READS'] == 0]\n",
    "    print(file_names[i], df.shape[0], '  test:', df[df['READNAME'].str.contains('ARTIFICIAL')].shape[0])\n",
    "    overall_num += df.shape[0]\n",
    "    df_somatic_list.append(df.copy(deep=True))\n",
    "print(overall_num)"
   ]
  },
  {
   "cell_type": "code",
   "execution_count": 151,
   "id": "e2b30646-5aad-4efa-bec0-32b37eaf7db6",
   "metadata": {},
   "outputs": [],
   "source": [
    "def complement(char):\n",
    "    if char == 'A':\n",
    "        return 'T'\n",
    "    if char == 'T':\n",
    "        return 'A'\n",
    "    if char == 'C':\n",
    "        return 'G'\n",
    "    if char == 'G':\n",
    "        return 'C'\n",
    "    if char == 'N':\n",
    "        return 'N'\n",
    "\n",
    "def reverse_comp(seq):\n",
    "    seq_ls = list(seq)\n",
    "    new_seq = []\n",
    "    for i in reversed(seq_ls):\n",
    "        new_seq.append(complement(i))\n",
    "    return \"\".join(new_seq)"
   ]
  },
  {
   "cell_type": "code",
   "execution_count": 122,
   "id": "50dc1107-a2f3-49bc-b811-c5ae6289b393",
   "metadata": {},
   "outputs": [
    {
     "name": "stderr",
     "output_type": "stream",
     "text": [
      "100%|██████████████████████████████████████████████████████████████████████████████████████████████| 4/4 [00:00<00:00, 30.84it/s]"
     ]
    },
    {
     "name": "stdout",
     "output_type": "stream",
     "text": [
      "SRR7624520+test__  was: 2480  become: 130\n",
      "SRR7624520+test__ reads were written\n",
      "SRR7624521+test__  was: 5886  become: 524\n",
      "SRR7624521+test__ reads were written\n",
      "SRR7624522+test__  was: 3046  become: 127\n",
      "SRR7624522+test__ reads were written\n",
      "SRR7624523+test__  was: 2171  become: 73\n",
      "SRR7624523+test__ reads were written\n"
     ]
    },
    {
     "name": "stderr",
     "output_type": "stream",
     "text": [
      "\n"
     ]
    }
   ],
   "source": [
    "# preparing for copying into blat \n",
    "from tqdm import trange\n",
    "for i in trange(len(file_names)):\n",
    "    # filtration\n",
    "    df_tmp = df_somatic_list[i].copy(deep=True)\n",
    "    df_tmp = df_tmp[df_tmp[file_names[i] + '_NUM_READS'] > 1].copy(deep=True)\n",
    "    df_tmp = df_tmp[df_tmp['R1'].str.len() > 25].copy(deep=True)  # because Blat can aling seq > 25nt\n",
    "    df_tmp = df_tmp[df_tmp['R2'].str.len() > 25].copy(deep=True)\n",
    "    df_tmp = df_tmp[df_tmp['MDMATCH'] < 32].copy(deep=True)  # template_switch_filtration: 12 primer + 6 dALU + 14 flank = 32\n",
    "    print(file_names[i], ' was:', df_somatic_list[i].shape[0], ' become:', df_tmp.shape[0])\n",
    "\n",
    "    # make R2 reverse complement\n",
    "    df_tmp['R2'] = df_tmp['R2'].apply(reverse_comp)\n",
    "\n",
    "    # writing reads into files\n",
    "    df_tmp.to_csv(f'{file_names[i]}_filtered.csv')\n",
    "    print(f'{file_names[i]} reads were written')"
   ]
  },
  {
   "cell_type": "markdown",
   "id": "d4bec163-6591-4b65-b8e4-39d72b250720",
   "metadata": {},
   "source": [
    "### UCSC Blat parsing"
   ]
  },
  {
   "cell_type": "code",
   "execution_count": 124,
   "id": "773b82b4-8062-4674-a7cd-8d885cc60015",
   "metadata": {},
   "outputs": [
    {
     "name": "stderr",
     "output_type": "stream",
     "text": [
      "100%|██████████████████████████████████████████████████████████████████████████████████████████████| 4/4 [00:00<00:00, 62.53it/s]\n"
     ]
    }
   ],
   "source": [
    "from tqdm import trange\n",
    "import pandas as pd\n",
    "\n",
    "filtered_flanks = []\n",
    "for i in trange(len(file_names)):\n",
    "    df_tmp = pd.read_csv(f'{file_names[i]}_filtered.csv')\n",
    "    filtered_flanks.append(df_tmp.copy(deep=True))"
   ]
  },
  {
   "cell_type": "code",
   "execution_count": 145,
   "id": "660b628e-5486-464d-8562-6231870c1c90",
   "metadata": {},
   "outputs": [],
   "source": [
    "def get_reads_fa(reads_list, reads_names, R_n=1):\n",
    "    line = ''\n",
    "    for read, name in zip(reads_list, reads_names):\n",
    "        line = line + '>' + name + f'_R{R_n}' + '\\n' + read + '\\n'\n",
    "    return line"
   ]
  },
  {
   "cell_type": "code",
   "execution_count": 153,
   "id": "a3b1ba3e-b957-4e9f-a196-317bbded61e2",
   "metadata": {},
   "outputs": [
    {
     "name": "stdout",
     "output_type": "stream",
     "text": [
      "Human BLAT Search\n"
     ]
    },
    {
     "name": "stderr",
     "output_type": "stream",
     "text": [
      "  0%|                                                                                                      | 0/4 [00:00<?, ?it/s]"
     ]
    },
    {
     "name": "stdout",
     "output_type": "stream",
     "text": [
      "wait\n",
      "got res\n",
      "wait\n"
     ]
    },
    {
     "name": "stderr",
     "output_type": "stream",
     "text": [
      " 25%|███████████████████████▌                                                                      | 1/4 [00:35<01:46, 35.41s/it]"
     ]
    },
    {
     "name": "stdout",
     "output_type": "stream",
     "text": [
      "got res\n",
      "wait\n",
      "got res\n",
      "wait\n"
     ]
    },
    {
     "name": "stderr",
     "output_type": "stream",
     "text": [
      " 50%|██████████████████████████████████████████████▌                                              | 2/4 [08:30<09:48, 294.04s/it]"
     ]
    },
    {
     "name": "stdout",
     "output_type": "stream",
     "text": [
      "got res\n",
      "wait\n",
      "got res\n",
      "wait\n"
     ]
    },
    {
     "name": "stderr",
     "output_type": "stream",
     "text": [
      " 75%|█████████████████████████████████████████████████████████████████████▊                       | 3/4 [09:14<02:59, 179.67s/it]"
     ]
    },
    {
     "name": "stdout",
     "output_type": "stream",
     "text": [
      "got res\n",
      "wait\n",
      "got res\n",
      "wait\n"
     ]
    },
    {
     "name": "stderr",
     "output_type": "stream",
     "text": [
      "100%|█████████████████████████████████████████████████████████████████████████████████████████████| 4/4 [09:38<00:00, 144.64s/it]"
     ]
    },
    {
     "name": "stdout",
     "output_type": "stream",
     "text": [
      "got res\n",
      "CPU times: user 1.48 s, sys: 98.7 ms, total: 1.58 s\n",
      "Wall time: 9min 41s\n"
     ]
    },
    {
     "name": "stderr",
     "output_type": "stream",
     "text": [
      "\n"
     ]
    }
   ],
   "source": [
    "%%time\n",
    "import pandas as pd\n",
    "from tqdm import trange\n",
    "from selenium import webdriver\n",
    "from selenium.webdriver.chrome.options import Options\n",
    "from selenium.webdriver.chrome.service import Service\n",
    "from selenium.webdriver.common.keys import Keys\n",
    "from selenium.webdriver.common.by import By\n",
    "from selenium.webdriver.support.wait import WebDriverWait\n",
    "from selenium.webdriver.support import expected_conditions as EC\n",
    "from selenium.webdriver.support.select import Select\n",
    "\n",
    "service = Service(executable_path=\"/usr/bin/chromedriver\")\n",
    "chrome_options = Options()\n",
    "chrome_options.add_argument('--headless')\n",
    "chrome_options.add_argument('--no-sandbox')\n",
    "chrome_options.add_argument('--disable-dev-shm-usage')\n",
    "driver = webdriver.Chrome(service=service, options=chrome_options)\n",
    "\n",
    "# go to the UCSC Blat\n",
    "driver.get(\"https://genome.ucsc.edu/cgi-bin/hgBlat?hgsid=1711647570_KRW9QfFHAHaje8cp8sWT4EtpGupE&command=start\")\n",
    "print(driver.title)\n",
    "\n",
    "# set Hg38\n",
    "selects = driver.find_elements(By.TAG_NAME, \"select\")\n",
    "for i in selects:\n",
    "    if i.get_property(\"name\") == \"db\":\n",
    "        element = i\n",
    "        break\n",
    "dropdown = Select(element)\n",
    "dropdown.select_by_visible_text(\"Dec. 2013 (GRCh38/hg38)\")\n",
    "\n",
    "for i in trange(len(filtered_flanks)):\n",
    "    for k in [1, 2]:\n",
    "        print('submitting')    \n",
    "        # set flank coords and submit\n",
    "        range_input = driver.find_element(By.NAME, \"userSeq\")\n",
    "        range_input.clear()\n",
    "        #TO DO: push only 20 reads at once\n",
    "        range_input.send_keys(get_reads_fa(filtered_flanks[i][f'R{k}'].tolist(), filtered_flanks[i]['READNAME'].tolist(), R_n=k))  # push all reads at once\n",
    "        \n",
    "        button = driver.find_element(By.NAME, \"Submit\")\n",
    "        button.click()\n",
    "        # get results \n",
    "        try:\n",
    "            print('waiting')\n",
    "            element = WebDriverWait(driver, 120).until(\n",
    "                                EC.presence_of_element_located((By.TAG_NAME, \"pre\")) \n",
    "                                )\n",
    "            print('writing')\n",
    "            with open(f'{file_names[i]}_R{k}_blat_out_tmp.txt', 'w') as f:\n",
    "                f.write(element.text)\n",
    "            print('res written')\n",
    "        except:\n",
    "            print(f'exception for {file_names[i]}')\n",
    "        # get back to request form       \n",
    "        driver.back()\n",
    "\n",
    "driver.quit()"
   ]
  },
  {
   "cell_type": "code",
   "execution_count": 155,
   "id": "5de914d2-f914-40c0-ac1b-c6b7d5d491e9",
   "metadata": {},
   "outputs": [
    {
     "name": "stderr",
     "output_type": "stream",
     "text": [
      "100%|██████████████████████████████████████████████████████████████████████████████████████████████| 4/4 [00:38<00:00,  9.61s/it]\n"
     ]
    }
   ],
   "source": [
    "for i in trange(len(filtered_flanks)):\n",
    "    for k in [1, 2]:\n",
    "        blat_out = pd.DataFrame(columns=['QUERY', 'SCORE', 'QSTART', 'QEND', 'QSIZE', 'IDENTITY', 'CHROM', 'STRAND', 'START', 'END', 'SPAN'])\n",
    "        with open(f'{file_names[i]}_R{k}_blat_out_tmp.txt', 'r') as f:\n",
    "            output = f.read()\n",
    "        output = output.split('\\n')\n",
    "        for line in output:\n",
    "                if line.count('browser'):\n",
    "                    tmp = line.split(' ')\n",
    "                    tmp = ' '.join(tmp).split()\n",
    "                    blat_out.loc[len(blat_out.index)] = [tmp[2], tmp[3], tmp[4], tmp[5], tmp[6], tmp[7], tmp[8], tmp[9], tmp[10], tmp[11], tmp[12]]\n",
    "        blat_out.to_csv(f'{file_names[i]}_R{k}_blat_out.csv') "
   ]
  },
  {
   "cell_type": "markdown",
   "id": "81a7be26-c0e6-4f9b-965b-5109ac089de3",
   "metadata": {},
   "source": [
    "### Blat analysis"
   ]
  },
  {
   "cell_type": "code",
   "execution_count": 159,
   "id": "6f9c1b72-05d8-4cbd-b02d-99a99e69d61b",
   "metadata": {},
   "outputs": [],
   "source": [
    "def hamming_dist(x1, x2):\n",
    "    j = 0\n",
    "    for i in range(len(x1)):\n",
    "        if x1[i] != x2[i]:\n",
    "            j = j + 1\n",
    "    return j\n",
    "\n",
    "def find_overlap(str1, str2):\n",
    "    if len(str1) < len(str2):\n",
    "        str_tmp = str1\n",
    "        str1 = str2\n",
    "        str2 = str_tmp\n",
    "    if len(str1) >= len(str2):\n",
    "        delta = len(str1) - len(str2)\n",
    "        for i in range(len(str1)):\n",
    "            if delta - i >= 0:\n",
    "                part1 = str1[i:len(str2) + i]\n",
    "                part2 = str2\n",
    "            else:\n",
    "                part1 = str1[i:]\n",
    "                part2 = str2[0:len(str2) + delta - i]\n",
    "            # print(part1, part2)\n",
    "            if hamming_dist(part1, part2) == 0:\n",
    "                #print(part1, len(part1))\n",
    "                return part1\n",
    "        return 'no overlap'"
   ]
  },
  {
   "cell_type": "code",
   "execution_count": 43,
   "id": "7251a234-dbfa-471c-8fd1-e468b75f6aec",
   "metadata": {},
   "outputs": [],
   "source": [
    "import pandas as pd\n",
    "from tqdm import trange\n",
    "\n",
    "def format_coords(df_row, expansion=0):\n",
    "    low_coord = int(min(df_row['START_1'], df_row['START_2'], df_row['END_1'], df_row['END_2'])) - expansion\n",
    "    high_coord = int(max(df_row['START_1'], df_row['START_2'], df_row['END_1'], df_row['END_2'])) + expansion\n",
    "    return f\"{df_row['CHROM_1']}:{low_coord}-{high_coord}\"\n",
    "\n",
    "def blat_merge_and_filtration(filename, expansion=0):\n",
    "    df1 = pd.read_table(filename + '_R1_blat_out.csv', sep=',')\n",
    "    df1 = df1.drop(['Unnamed: 0'], axis=1)\n",
    "    \n",
    "    df2 = pd.read_table(filename + '_R2_blat_out.csv', sep=',')\n",
    "    df2 = df2.drop(['Unnamed: 0'], axis=1)\n",
    "    \n",
    "    read_names = df1['QUERY'].unique()\n",
    "    merget_df = pd.DataFrame(columns=['QUERY', \n",
    "                                      'SCORE_1', 'QSIZE_1', 'QSTART_1', 'QEND_1', 'IDENTITY_1', 'CHROM_1', 'STRAND_1', 'START_1', 'END_1', 'SPAN',\n",
    "                                      'SCORE_2', 'QSIZE_2', 'QSTART_2', 'QEND_2', 'IDENTITY_2', 'CHROM_2', 'STRAND_2', 'START_2', 'END_2', 'SPAN'\n",
    "                                     ]\n",
    "                            )\n",
    "    for name in read_names:\n",
    "        df1_1 = df1[df1['QUERY'].str.contains(name)].copy(deep=True)\n",
    "        df2_1 = df2[df2['QUERY'].str.contains(name[:-3])].copy(deep=True)\n",
    "        for i, row_1 in df1_1.iterrows():\n",
    "            tmp_df = df2_1[df2_1['CHROM'] == row_1['CHROM']]\n",
    "            for i, row_tmp in tmp_df.iterrows():\n",
    "                if abs(row_tmp['START'] - row_1['START']) <= 1000 and abs(row_tmp['END'] - row_1['END']) <= 1000:\n",
    "                    merget_df.loc[len(merget_df.index)] = [row_1['QUERY'][:-3], \n",
    "                                                           row_1['SCORE'], row_1['QSIZE'], row_1['QSTART'], row_1['QEND'], row_1['IDENTITY'],\n",
    "                                                           row_1['CHROM'], row_1['STRAND'], row_1['START'], row_1['END'], row_1['SPAN'],\n",
    "                                                           row_tmp['SCORE'], row_tmp['QSIZE'], row_tmp['QSTART'], row_tmp['QEND'], row_tmp['IDENTITY'], \n",
    "                                                           row_tmp['CHROM'], row_tmp['STRAND'], row_tmp['START'], row_tmp['END'], row_tmp['SPAN'] \n",
    "                                                          ]\n",
    "    \n",
    "    #print(name[:-3], df1_1.shape[0], df2_1.shape[0], merget_df.shape[0])\n",
    "    merget_df.drop(merget_df[merget_df['CHROM_1'].str.contains('alt')].index, axis=0, inplace=True)\n",
    "    merget_df.drop(merget_df[merget_df['CHROM_2'].str.contains('chrUn')].index, axis=0, inplace=True)\n",
    "    merget_df = merget_df[merget_df['STRAND_1'] == merget_df['STRAND_2']]\n",
    "    if merget_df.shape[0] > 1:\n",
    "        merget_df = merget_df[merget_df['SCORE_1'] > 0.8 * merget_df['QSIZE_1']]\n",
    "    if merget_df.shape[0] > 1:\n",
    "        merget_df = merget_df[merget_df['SCORE_2'] > 0.8 * merget_df['QSIZE_2']]\n",
    "    if merget_df.shape[0] > 1:\n",
    "        merget_df = merget_df[merget_df['QSTART_1'] < 3]        \n",
    "    if merget_df.shape[0] > 0:\n",
    "        for i, row in merget_df.iterrows():\n",
    "            merget_df.loc[i, f'FLANK_COORD+{expansion}'] = format_coords(row, expansion) \n",
    "    print(merget_df.groupby(['QUERY']).count()['SCORE_1'])\n",
    "    return merget_df.copy(deep=True)"
   ]
  },
  {
   "cell_type": "code",
   "execution_count": 44,
   "id": "257ca7e7-032a-4492-a2e8-6a659b1641b4",
   "metadata": {
    "scrolled": true
   },
   "outputs": [
    {
     "name": "stderr",
     "output_type": "stream",
     "text": [
      " 25%|███████████████████████▌                                                                      | 1/4 [00:03<00:09,  3.33s/it]"
     ]
    },
    {
     "name": "stdout",
     "output_type": "stream",
     "text": [
      "QUERY\n",
      "SRR7624520.1085275.1      1\n",
      "SRR7624520.1398826.1      1\n",
      "SRR7624520.1706906.1    143\n",
      "SRR7624520.2288684.1     48\n",
      "SRR7624520.2297983.1      1\n",
      "SRR7624520.2358731.1      2\n",
      "SRR7624520.3416011.1    202\n",
      "SRR7624520.3523217.1      1\n",
      "SRR7624520.3813773.1      1\n",
      "SRR7624520.4138350.1      2\n",
      "SRR7624520.4707551.1      1\n",
      "SRR7624520.5111332.1      1\n",
      "SRR7624520.579996.1       1\n",
      "SRR7624520.5900893.1      1\n",
      "SRR7624520.6258397.1      1\n",
      "SRR7624520.7322435.1      1\n",
      "SRR7624520.7545356.1      1\n",
      "SRR7624520.7954699.1      1\n",
      "SRR7624520.8203499.1      1\n",
      "SRR7624520.987629.1      78\n",
      "Name: SCORE_1, dtype: int64\n"
     ]
    },
    {
     "name": "stderr",
     "output_type": "stream",
     "text": [
      " 50%|███████████████████████████████████████████████                                               | 2/4 [00:06<00:05,  2.98s/it]"
     ]
    },
    {
     "name": "stdout",
     "output_type": "stream",
     "text": [
      "QUERY\n",
      "SRR7624521.10461099.1    35\n",
      "SRR7624521.1091436.1      9\n",
      "SRR7624521.1150382.1      1\n",
      "SRR7624521.1177962.1      1\n",
      "SRR7624521.1823484.1      2\n",
      "SRR7624521.1832460.1      1\n",
      "SRR7624521.1847393.1      2\n",
      "SRR7624521.1966782.1      1\n",
      "SRR7624521.2711306.1      9\n",
      "SRR7624521.347999.1       1\n",
      "SRR7624521.3782023.1      1\n",
      "SRR7624521.4134439.1      1\n",
      "SRR7624521.4152381.1      1\n",
      "SRR7624521.471417.1       1\n",
      "SRR7624521.5543254.1      6\n",
      "SRR7624521.6035605.1      5\n",
      "SRR7624521.6930550.1      4\n",
      "SRR7624521.7186939.1      2\n",
      "SRR7624521.926347.1      35\n",
      "SRR7624521.9687035.1      1\n",
      "Name: SCORE_1, dtype: int64\n"
     ]
    },
    {
     "name": "stderr",
     "output_type": "stream",
     "text": [
      " 75%|██████████████████████████████████████████████████████████████████████▌                       | 3/4 [00:08<00:02,  2.95s/it]"
     ]
    },
    {
     "name": "stdout",
     "output_type": "stream",
     "text": [
      "QUERY\n",
      "SRR7624522.10034679.2    36\n",
      "SRR7624522.11743518.2     1\n",
      "SRR7624522.11895566.2    46\n",
      "SRR7624522.1417982.2      1\n",
      "SRR7624522.2253482.2      1\n",
      "SRR7624522.2262301.2      1\n",
      "SRR7624522.2360499.2      1\n",
      "SRR7624522.4870103.2     23\n",
      "SRR7624522.7357132.2      1\n",
      "SRR7624522.8107189.2      1\n",
      "SRR7624522.8791607.2     42\n",
      "SRR7624522.9172898.2      1\n",
      "SRR7624522.9325503.2      1\n",
      "SRR7624522.999637.2       1\n",
      "Name: SCORE_1, dtype: int64\n"
     ]
    },
    {
     "name": "stderr",
     "output_type": "stream",
     "text": [
      "100%|██████████████████████████████████████████████████████████████████████████████████████████████| 4/4 [00:14<00:00,  3.59s/it]"
     ]
    },
    {
     "name": "stdout",
     "output_type": "stream",
     "text": [
      "QUERY\n",
      "SRR7624523.1143445.2      1\n",
      "SRR7624523.1884264.2     27\n",
      "SRR7624523.2039583.2      1\n",
      "SRR7624523.2337629.2      2\n",
      "SRR7624523.2468953.2     34\n",
      "SRR7624523.301840.2       1\n",
      "SRR7624523.3366411.2     31\n",
      "SRR7624523.410742.2       1\n",
      "SRR7624523.4290877.2     17\n",
      "SRR7624523.4338292.2    132\n",
      "SRR7624523.4446101.2      1\n",
      "SRR7624523.472562.2       1\n",
      "SRR7624523.527837.2       1\n",
      "SRR7624523.5450264.2     17\n",
      "SRR7624523.5693166.2      1\n",
      "SRR7624523.842490.2       1\n",
      "SRR7624523.8560214.2     47\n",
      "SRR7624523.925511.2       1\n",
      "Name: SCORE_1, dtype: int64\n"
     ]
    },
    {
     "name": "stderr",
     "output_type": "stream",
     "text": [
      "\n"
     ]
    }
   ],
   "source": [
    "EXPANSION = 30\n",
    "\n",
    "for i in trange(len(file_names)):\n",
    "        df_tmp = blat_merge_and_filtration(file_names[i], EXPANSION)\n",
    "        df_tmp.to_csv(f'{file_names[i]}_blat_filtred.csv')"
   ]
  },
  {
   "cell_type": "markdown",
   "id": "3128433c-7822-4342-bb60-f966cd19ecf3",
   "metadata": {},
   "source": [
    "### RepeatMas"
   ]
  },
  {
   "cell_type": "code",
   "execution_count": 39,
   "id": "3490fa93-2550-4ae5-829a-5a7757c795d0",
   "metadata": {},
   "outputs": [],
   "source": [
    "from random import randint\n",
    "def gen_rand_num_list(min, max, length):\n",
    "    if length > max:\n",
    "        return None\n",
    "    rand_list = []\n",
    "    for i in range(length): \n",
    "        rand_num = randint(min, max)\n",
    "        while rand_list.count(rand_num) != 0:\n",
    "            rand_num = randint(min, max)\n",
    "        rand_list.append(rand_num) \n",
    "    return rand_list"
   ]
  },
  {
   "cell_type": "code",
   "execution_count": 55,
   "id": "4c8f88fd-de3c-4c87-a74e-9e00d3a07a7e",
   "metadata": {},
   "outputs": [],
   "source": [
    "import pandas as pd\n",
    "\n",
    "blat_res = []\n",
    "RM_res = []\n",
    "for name in file_names:\n",
    "    blat_res.append(pd.read_table(f'{name}_blat_filtred.csv', sep=','))\n",
    "    RM_res.append(pd.DataFrame(columns=['QUERY', 'EXPANSION', 'FLANK_COORD', 'F_STRAND', 'REPEAT_NAME', 'REPEAT_COORD', 'R_STRAND', 'OVERLAPPING', 'UCSC_LINK', \n",
    "                                        'SCORE_1', 'CHROM_1', 'START_1', 'END_1', 'SCORE_2', 'CHROM_2', 'START_2', 'END_2', \n",
    "                                        'F_CHROM', 'F_START', 'F_END']))"
   ]
  },
  {
   "cell_type": "code",
   "execution_count": 56,
   "id": "39de57f6-133d-4996-bb6b-9fd374e765a2",
   "metadata": {},
   "outputs": [
    {
     "name": "stdout",
     "output_type": "stream",
     "text": [
      "before 489\n",
      "after 58\n",
      "before 119\n",
      "after 69\n",
      "before 157\n",
      "after 50\n",
      "before 317\n",
      "after 82\n"
     ]
    }
   ],
   "source": [
    "for blat_res_part in blat_res:\n",
    "    print('before', blat_res_part.shape[0])\n",
    "    amount_list = blat_res_part.groupby(['QUERY']).count()['SCORE_1'].tolist()\n",
    "    read_names = blat_res_part['QUERY'].unique()\n",
    "    for num, name in zip(amount_list, read_names):\n",
    "        if num > 10:\n",
    "            rand_list = gen_rand_num_list(0, num-1, num-10)\n",
    "            indexes = blat_res_part[blat_res_part['QUERY'].str.contains(name)].index.tolist()\n",
    "            index_for_del = []\n",
    "            for i in rand_list:\n",
    "                index_for_del.append(indexes[i])\n",
    "            blat_res_part.drop(index_for_del, axis=0, inplace=True)\n",
    "    print('after', blat_res_part.shape[0])"
   ]
  },
  {
   "cell_type": "code",
   "execution_count": null,
   "id": "d3bfd31e-1ec0-4191-aee1-2ed383ae2017",
   "metadata": {},
   "outputs": [],
   "source": [
    "def calc_overlap(str:flank_coord, r_start, r_end):\n",
    "    f_start = int(flank_coord.split(':')[1].split('-')[0])\n",
    "    f_end = int(flank_coord.split(':')[1].split('-')[1])\n",
    "    if r_start < f_start:\n",
    "        if \n",
    "    else:\n",
    "        \n",
    "    return "
   ]
  },
  {
   "cell_type": "code",
   "execution_count": 57,
   "id": "1a898c34-d74d-47c4-9b7e-b931db426167",
   "metadata": {},
   "outputs": [
    {
     "ename": "SyntaxError",
     "evalue": "invalid syntax (<unknown>, line 57)",
     "output_type": "error",
     "traceback": [
      "Traceback \u001b[0;36m(most recent call last)\u001b[0m:\n",
      "\u001b[0m  File \u001b[1;32m~/miniconda3/envs/jupyter_selenium/lib/python3.11/site-packages/IPython/core/interactiveshell.py:3526\u001b[0m in \u001b[1;35mrun_code\u001b[0m\n    exec(code_obj, self.user_global_ns, self.user_ns)\u001b[0m\n",
      "\u001b[0m  Cell \u001b[1;32mIn[57], line 1\u001b[0m\n    get_ipython().run_cell_magic('time', '', 'from tqdm import trange\\nfrom selenium import webdriver\\nfrom selenium.webdriver.chrome.options import Options\\nfrom selenium.webdriver.chrome.service import Service\\nfrom selenium.webdriver.common.keys import Keys\\nfrom selenium.webdriver.common.by import By\\nfrom selenium.webdriver.support.wait import WebDriverWait\\nfrom selenium.webdriver.support import expected_conditions as EC\\nfrom selenium.webdriver.support.select import Select\\n\\nservice = Service(executable_path=\"/usr/bin/chromedriver\")\\nchrome_options = Options()\\nchrome_options.add_argument(\\'--headless\\')\\nchrome_options.add_argument(\\'--no-sandbox\\')\\nchrome_options.add_argument(\\'--disable-dev-shm-usage\\')\\ndriver = webdriver.Chrome(service=service, options=chrome_options)\\n\\n# go to the RepeatMasker\\ndriver.get(\"https://www.repeatmasker.org/cgi-bin/AnnotationRequest\")\\nprint(driver.title)\\n\\n# set Hg38\\ntry:\\n    element = WebDriverWait(driver, 10).until(\\n        EC.presence_of_element_located((By.NAME, \"genome\"))\\n    )\\n    dropdown = Select(element)\\n    dropdown.select_by_visible_text(\"Human - Dec 2013 - hg38\")\\nexcept:\\n    print(\"can\\'t select genome\")\\n\\n# flank coords annotating\\nj = 0\\nfor blat_res_part, RM_res_part in zip(blat_res, RM_res):\\n    for i in trange(blat_res_part.shape[0]):\\n        # set flank coords and submit\\n        try:\\n            range_input = driver.find_element(By.NAME, \"range\")\\n            range_input.clear()\\n            range_input.send_keys(blat_res_part.iloc[i][f\\'FLANK_COORDS+{EXPANSION}\\'])\\n           \\n            button = driver.find_element(By.NAME, \".submit\")\\n            button.click()\\n            error = \\'\\'\\n        except:\\n            print(\"can\\'t pass coords\")\\n    \\n        # get results \\n        try:\\n            element = WebDriverWait(driver, 15).until(\\n                      EC.presence_of_element_located((By.TAG_NAME, \"pre\")) \\n                      )\\n            link = element.find_element(By.TAG_NAME, \"a\").get_attribute(\"href\")\\n            output = element.text\\n            output = output.split(\\'\\\\n\\')[2].split(\\' \\')\\n            output = \\' \\'.join(output).split()\\n            overlapping = \\n            RM_res_part.loc[len(RM_res_part.index)] = [blat_res_part.iloc[i][\\'QUERY\\'], EXPANSION, blat_res_part.iloc[i][f\\'FLANK_COORDS+{EXPANSION}\\'],\\n                                                       blat_res_part.iloc[i][\\'STRAND_1\\'], output[9], f\"{output[4]}:{output[5]}-{output[6]}\", \\n                                                       output[8], \\'overlapping\\', link, blat_res_part.iloc[i][\\'SCORE_1\\'], blat_res_part.iloc[i][\\'CHROM_1\\'],\\n                                                       blat_res_part.iloc[i][\\'START_1\\'], blat_res_part.iloc[i][\\'END_1\\'], blat_res_part.iloc[i][\\'SCORE_2\\'],\\n                                                       blat_res_part.iloc[i][\\'CHROM_2\\'], blat_res_part.iloc[i][\\'START_2\\'], blat_res_part.iloc[i][\\'END_2\\'],\\n                                                       output[4], output[5], output[6]\\n                                                      ]\\n        except:\\n            #print(\\'no matching\\')\\n            RM_res_part.loc[len(RM_res_part.index)] = [blat_res_part.iloc[i][\\'QUERY\\'], EXPANSION, blat_res_part.iloc[i][f\\'FLANK_COORDS+{EXPANSION}\\'],\\n                                                       blat_res_part.iloc[i][\\'STRAND_1\\'], \\'-\\', \\'-\\', \\n                                                       \\'-\\', 0, \\'-\\', blat_res_part.iloc[i][\\'SCORE_1\\'], blat_res_part.iloc[i][\\'CHROM_1\\'],\\n                                                       blat_res_part.iloc[i][\\'START_1\\'], blat_res_part.iloc[i][\\'END_1\\'], blat_res_part.iloc[i][\\'SCORE_2\\'],\\n                                                       blat_res_part.iloc[i][\\'CHROM_2\\'], blat_res_part.iloc[i][\\'START_2\\'], blat_res_part.iloc[i][\\'END_2\\'],\\n                                                       \\'-\\', \\'-\\', \\'-\\'\\n                                                      ]\\n        # get back to request form\\n        driver.back()\\n    RM_res_part.to_csv(f\\'{file_names[j]}_RM_res.csv\\')\\n    j += 1\\n\\n\\n#quit from site\\ndriver.quit()\\n')\u001b[0m\n",
      "\u001b[0m  File \u001b[1;32m~/miniconda3/envs/jupyter_selenium/lib/python3.11/site-packages/IPython/core/interactiveshell.py:2493\u001b[0m in \u001b[1;35mrun_cell_magic\u001b[0m\n    result = fn(*args, **kwargs)\u001b[0m\n",
      "\u001b[0m  File \u001b[1;32m~/miniconda3/envs/jupyter_selenium/lib/python3.11/site-packages/IPython/core/magics/execution.py:1296\u001b[0m in \u001b[1;35mtime\u001b[0m\n    expr_ast = self.shell.compile.ast_parse(expr)\u001b[0m\n",
      "\u001b[0;36m  File \u001b[0;32m~/miniconda3/envs/jupyter_selenium/lib/python3.11/site-packages/IPython/core/compilerop.py:86\u001b[0;36m in \u001b[0;35mast_parse\u001b[0;36m\n\u001b[0;31m    return compile(source, filename, symbol, self.flags | PyCF_ONLY_AST, 1)\u001b[0;36m\n",
      "\u001b[0;36m  File \u001b[0;32m<unknown>:57\u001b[0;36m\u001b[0m\n\u001b[0;31m    overlapping =\u001b[0m\n\u001b[0m                  ^\u001b[0m\n\u001b[0;31mSyntaxError\u001b[0m\u001b[0;31m:\u001b[0m invalid syntax\n"
     ]
    }
   ],
   "source": [
    "%%time\n",
    "from tqdm import trange\n",
    "from selenium import webdriver\n",
    "from selenium.webdriver.chrome.options import Options\n",
    "from selenium.webdriver.chrome.service import Service\n",
    "from selenium.webdriver.common.keys import Keys\n",
    "from selenium.webdriver.common.by import By\n",
    "from selenium.webdriver.support.wait import WebDriverWait\n",
    "from selenium.webdriver.support import expected_conditions as EC\n",
    "from selenium.webdriver.support.select import Select\n",
    "\n",
    "service = Service(executable_path=\"/usr/bin/chromedriver\")\n",
    "chrome_options = Options()\n",
    "chrome_options.add_argument('--headless')\n",
    "chrome_options.add_argument('--no-sandbox')\n",
    "chrome_options.add_argument('--disable-dev-shm-usage')\n",
    "driver = webdriver.Chrome(service=service, options=chrome_options)\n",
    "\n",
    "# go to the RepeatMasker\n",
    "driver.get(\"https://www.repeatmasker.org/cgi-bin/AnnotationRequest\")\n",
    "print(driver.title)\n",
    "\n",
    "# set Hg38\n",
    "try:\n",
    "    element = WebDriverWait(driver, 10).until(\n",
    "        EC.presence_of_element_located((By.NAME, \"genome\"))\n",
    "    )\n",
    "    dropdown = Select(element)\n",
    "    dropdown.select_by_visible_text(\"Human - Dec 2013 - hg38\")\n",
    "except:\n",
    "    print(\"can't select genome\")\n",
    "\n",
    "# flank coords annotating\n",
    "j = 0\n",
    "for blat_res_part, RM_res_part in zip(blat_res, RM_res):\n",
    "    for i in trange(blat_res_part.shape[0]):\n",
    "        # set flank coords and submit\n",
    "        try:\n",
    "            range_input = driver.find_element(By.NAME, \"range\")\n",
    "            range_input.clear()\n",
    "            range_input.send_keys(blat_res_part.iloc[i][f'FLANK_COORD+{EXPANSION}'])\n",
    "           \n",
    "            button = driver.find_element(By.NAME, \".submit\")\n",
    "            button.click()\n",
    "            error = ''\n",
    "        except:\n",
    "            print(\"can't pass coords\")\n",
    "    \n",
    "        # get results \n",
    "        try:\n",
    "            element = WebDriverWait(driver, 15).until(\n",
    "                      EC.presence_of_element_located((By.TAG_NAME, \"pre\")) \n",
    "                      )\n",
    "            link = element.find_element(By.TAG_NAME, \"a\").get_attribute(\"href\")\n",
    "            output = element.text\n",
    "            output = output.split('\\n')[2].split(' ')\n",
    "            output = ' '.join(output).split()\n",
    "            overlapping = calc_overlap(blat_res_part.iloc[i][f'FLANK_COORD+{EXPANSION}'], output[5], output[6])\n",
    "            RM_res_part.loc[len(RM_res_part.index)] = [blat_res_part.iloc[i]['QUERY'], EXPANSION, blat_res_part.iloc[i][f'FLANK_COORD+{EXPANSION}'],\n",
    "                                                       blat_res_part.iloc[i]['STRAND_1'], output[9], f\"{output[4]}:{output[5]}-{output[6]}\", \n",
    "                                                       output[8], 'overlapping', link, blat_res_part.iloc[i]['SCORE_1'], blat_res_part.iloc[i]['CHROM_1'],\n",
    "                                                       blat_res_part.iloc[i]['START_1'], blat_res_part.iloc[i]['END_1'], blat_res_part.iloc[i]['SCORE_2'],\n",
    "                                                       blat_res_part.iloc[i]['CHROM_2'], blat_res_part.iloc[i]['START_2'], blat_res_part.iloc[i]['END_2'],\n",
    "                                                       output[4], output[5], output[6]\n",
    "                                                      ]\n",
    "        except:\n",
    "            #print('no matching')\n",
    "            RM_res_part.loc[len(RM_res_part.index)] = [blat_res_part.iloc[i]['QUERY'], EXPANSION, blat_res_part.iloc[i][f'FLANK_COORD+{EXPANSION}'],\n",
    "                                                       blat_res_part.iloc[i]['STRAND_1'], '-', '-', \n",
    "                                                       '-', 0, '-', blat_res_part.iloc[i]['SCORE_1'], blat_res_part.iloc[i]['CHROM_1'],\n",
    "                                                       blat_res_part.iloc[i]['START_1'], blat_res_part.iloc[i]['END_1'], blat_res_part.iloc[i]['SCORE_2'],\n",
    "                                                       blat_res_part.iloc[i]['CHROM_2'], blat_res_part.iloc[i]['START_2'], blat_res_part.iloc[i]['END_2'],\n",
    "                                                       '-', '-', '-'\n",
    "                                                      ]\n",
    "        # get back to request form\n",
    "        driver.back()\n",
    "    RM_res_part.to_csv(f'{file_names[j]}_RM_res.csv')\n",
    "    j += 1\n",
    "\n",
    "\n",
    "#quit from site\n",
    "driver.quit()"
   ]
  },
  {
   "cell_type": "code",
   "execution_count": 51,
   "id": "59fb40f4-2874-40f2-9a00-70631eeb0673",
   "metadata": {},
   "outputs": [],
   "source": [
    "list_RM_tmp = RM_res.copy()"
   ]
  },
  {
   "cell_type": "code",
   "execution_count": 54,
   "id": "1a801c4a-bbf8-4959-831a-7ce300a48ccc",
   "metadata": {},
   "outputs": [
    {
     "data": {
      "text/html": [
       "<div>\n",
       "<style scoped>\n",
       "    .dataframe tbody tr th:only-of-type {\n",
       "        vertical-align: middle;\n",
       "    }\n",
       "\n",
       "    .dataframe tbody tr th {\n",
       "        vertical-align: top;\n",
       "    }\n",
       "\n",
       "    .dataframe thead th {\n",
       "        text-align: right;\n",
       "    }\n",
       "</style>\n",
       "<table border=\"1\" class=\"dataframe\">\n",
       "  <thead>\n",
       "    <tr style=\"text-align: right;\">\n",
       "      <th></th>\n",
       "      <th>flank coord</th>\n",
       "      <th>repeat coord</th>\n",
       "      <th>strand</th>\n",
       "      <th>repeat name</th>\n",
       "      <th>link UCSC</th>\n",
       "    </tr>\n",
       "  </thead>\n",
       "  <tbody>\n",
       "    <tr>\n",
       "      <th>0</th>\n",
       "      <td>chr1:74835959-74836051</td>\n",
       "      <td>-</td>\n",
       "      <td>strand</td>\n",
       "      <td>-</td>\n",
       "      <td>-</td>\n",
       "    </tr>\n",
       "    <tr>\n",
       "      <th>1</th>\n",
       "      <td>chr10:43181695-43181830</td>\n",
       "      <td>chr10:43181632-43181790</td>\n",
       "      <td>+</td>\n",
       "      <td>FRAM</td>\n",
       "      <td>http://genome.ucsc.edu/cgi-bin/hgTracks?db=hg3...</td>\n",
       "    </tr>\n",
       "    <tr>\n",
       "      <th>2</th>\n",
       "      <td>chr10:24730036-24730128</td>\n",
       "      <td>chr10:24729962-24730232</td>\n",
       "      <td>+</td>\n",
       "      <td>AluSz</td>\n",
       "      <td>http://genome.ucsc.edu/cgi-bin/hgTracks?db=hg3...</td>\n",
       "    </tr>\n",
       "    <tr>\n",
       "      <th>3</th>\n",
       "      <td>chr3:98606795-98606886</td>\n",
       "      <td>chr3:98606642-98606958</td>\n",
       "      <td>C</td>\n",
       "      <td>AluSx1</td>\n",
       "      <td>http://genome.ucsc.edu/cgi-bin/hgTracks?db=hg3...</td>\n",
       "    </tr>\n",
       "    <tr>\n",
       "      <th>4</th>\n",
       "      <td>chr3:17464086-17464176</td>\n",
       "      <td>chr3:17463944-17464259</td>\n",
       "      <td>C</td>\n",
       "      <td>AluSp</td>\n",
       "      <td>http://genome.ucsc.edu/cgi-bin/hgTracks?db=hg3...</td>\n",
       "    </tr>\n",
       "  </tbody>\n",
       "</table>\n",
       "</div>"
      ],
      "text/plain": [
       "               flank coord             repeat coord  strand repeat name  \\\n",
       "0   chr1:74835959-74836051                        -  strand           -   \n",
       "1  chr10:43181695-43181830  chr10:43181632-43181790       +        FRAM   \n",
       "2  chr10:24730036-24730128  chr10:24729962-24730232       +       AluSz   \n",
       "3   chr3:98606795-98606886   chr3:98606642-98606958       C      AluSx1   \n",
       "4   chr3:17464086-17464176   chr3:17463944-17464259       C       AluSp   \n",
       "\n",
       "                                           link UCSC  \n",
       "0                                                  -  \n",
       "1  http://genome.ucsc.edu/cgi-bin/hgTracks?db=hg3...  \n",
       "2  http://genome.ucsc.edu/cgi-bin/hgTracks?db=hg3...  \n",
       "3  http://genome.ucsc.edu/cgi-bin/hgTracks?db=hg3...  \n",
       "4  http://genome.ucsc.edu/cgi-bin/hgTracks?db=hg3...  "
      ]
     },
     "execution_count": 54,
     "metadata": {},
     "output_type": "execute_result"
    }
   ],
   "source": [
    "list_RM_tmp[0].head()"
   ]
  },
  {
   "cell_type": "code",
   "execution_count": null,
   "id": "cb766500-74d5-4c79-b946-3e842727f95f",
   "metadata": {},
   "outputs": [],
   "source": []
  }
 ],
 "metadata": {
  "kernelspec": {
   "display_name": "Python 3 (ipykernel)",
   "language": "python",
   "name": "python3"
  },
  "language_info": {
   "codemirror_mode": {
    "name": "ipython",
    "version": 3
   },
   "file_extension": ".py",
   "mimetype": "text/x-python",
   "name": "python",
   "nbconvert_exporter": "python",
   "pygments_lexer": "ipython3",
   "version": "3.11.5"
  }
 },
 "nbformat": 4,
 "nbformat_minor": 5
}
